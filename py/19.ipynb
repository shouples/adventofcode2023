{
 "cells": [
  {
   "cell_type": "markdown",
   "metadata": {},
   "source": [
    "# Day 19\n",
    "\n",
    "## Part 1\n",
    "\n",
    "The Elves of Gear Island are thankful for your help and send you on your way. They even have a hang glider that someone stole from Desert Island; since you're already going that direction, it would help them a lot if you would use it to get down there and return it to them.\n",
    "\n",
    "As you reach the bottom of the relentless avalanche of machine parts, you discover that they're already forming a formidable heap. Don't worry, though - a group of Elves is already here organizing the parts, and they have a system.\n",
    "\n",
    "To start, each part is rated in each of four categories:\n",
    "\n",
    "- x: Extremely cool looking\n",
    "- m: Musical (it makes a noise when you hit it)\n",
    "- a: Aerodynamic\n",
    "- s: Shiny\n",
    "Then, each part is sent through a series of workflows that will ultimately accept or reject the part. Each workflow has a name and contains a list of rules; each rule specifies a condition and where to send the part if the condition is true. The first rule that matches the part being considered is applied immediately, and the part moves on to the destination described by the rule. (The last rule in each workflow has no condition and always applies if reached.)\n",
    "\n",
    "Consider the workflow ex{x>10:one,m<20:two,a>30:R,A}. This workflow is named ex and contains four rules. If workflow ex were considering a specific part, it would perform the following steps in order:\n",
    "\n",
    "- Rule \"x>10:one\": If the part's x is more than 10, send the part to the workflow named one.\n",
    "- Rule \"m<20:two\": Otherwise, if the part's m is less than 20, send the part to the workflow named two.\n",
    "- Rule \"a>30:R\": Otherwise, if the part's a is more than 30, the part is immediately rejected (R).\n",
    "- Rule \"A\": Otherwise, because no other rules matched the part, the part is immediately accepted (A).\n",
    "If a part is sent to another workflow, it immediately switches to the start of that workflow instead and never returns. If a part is accepted (sent to A) or rejected (sent to R), the part immediately stops any further processing.\n",
    "\n",
    "The system works, but it's not keeping up with the torrent of weird metal shapes. The Elves ask if you can help sort a few parts and give you the list of workflows and some part ratings (your puzzle input). For example:\n",
    "```\n",
    "px{a<2006:qkq,m>2090:A,rfg}\n",
    "pv{a>1716:R,A}\n",
    "lnx{m>1548:A,A}\n",
    "rfg{s<537:gd,x>2440:R,A}\n",
    "qs{s>3448:A,lnx}\n",
    "qkq{x<1416:A,crn}\n",
    "crn{x>2662:A,R}\n",
    "in{s<1351:px,qqz}\n",
    "qqz{s>2770:qs,m<1801:hdj,R}\n",
    "gd{a>3333:R,R}\n",
    "hdj{m>838:A,pv}\n",
    "\n",
    "{x=787,m=2655,a=1222,s=2876}\n",
    "{x=1679,m=44,a=2067,s=496}\n",
    "{x=2036,m=264,a=79,s=2244}\n",
    "{x=2461,m=1339,a=466,s=291}\n",
    "{x=2127,m=1623,a=2188,s=1013}\n",
    "```\n",
    "The workflows are listed first, followed by a blank line, then the ratings of the parts the Elves would like you to sort. All parts begin in the workflow named in. In this example, the five listed parts go through the following workflows:\n",
    "\n",
    "- {x=787,m=2655,a=1222,s=2876}: in -> qqz -> qs -> lnx -> A\n",
    "- {x=1679,m=44,a=2067,s=496}: in -> px -> rfg -> gd -> R\n",
    "- {x=2036,m=264,a=79,s=2244}: in -> qqz -> hdj -> pv -> A\n",
    "- {x=2461,m=1339,a=466,s=291}: in -> px -> qkq -> crn -> R\n",
    "- {x=2127,m=1623,a=2188,s=1013}: in -> px -> rfg -> A\n",
    "Ultimately, three parts are accepted. Adding up the x, m, a, and s rating for each of the accepted parts gives 7540 for the part with x=787, 4623 for the part with x=2036, and 6951 for the part with x=2127. Adding all of the ratings for all of the accepted parts gives the sum total of 19114.\n",
    "\n",
    "Sort through all of the parts you've been given; what do you get if you add together all of the rating numbers for all of the parts that ultimately get accepted?"
   ]
  },
  {
   "cell_type": "code",
   "execution_count": 30,
   "metadata": {},
   "outputs": [
    {
     "data": {
      "text/plain": [
       "19114"
      ]
     },
     "execution_count": 30,
     "metadata": {},
     "output_type": "execute_result"
    }
   ],
   "source": [
    "from rich import print as rprint\n",
    "from dataclasses import dataclass\n",
    "\n",
    "\n",
    "@dataclass\n",
    "class Rating:\n",
    "    x: int\n",
    "    m: int\n",
    "    a: int\n",
    "    s: int\n",
    "\n",
    "    @property\n",
    "    def score(self) -> int:\n",
    "        return self.x + self.m + self.a + self.s\n",
    "\n",
    "\n",
    "def parse_workflows(workflows) -> dict:\n",
    "    workflow_rules = {}\n",
    "    for workflow in workflows:\n",
    "        workflow_name, workflow_rules_str = workflow.split(\"{\")\n",
    "        workflow_rules_str = workflow_rules_str[:-1]\n",
    "        workflow_rules[workflow_name] = workflow_rules_str.split(\",\")\n",
    "    return workflow_rules\n",
    "\n",
    "\n",
    "def run_workflow(rating: Rating, workflows: dict, workflow_name: str = None):\n",
    "    workflow_name = workflow_name or \"in\"\n",
    "    if workflow_name == \"R\":\n",
    "        return 0\n",
    "    if workflow_name == \"A\":\n",
    "        return rating.score\n",
    "\n",
    "    workflow = workflows[workflow_name]\n",
    "    # {\"tq\": [\"x<2961:A\", \"m<1415:A\", \"A\"]}\n",
    "    # rprint(f\"{workflow_name=} -> {workflow}\")\n",
    "    for i, rule in enumerate(workflow):\n",
    "        if \":\" in rule:\n",
    "            rule, next_workflow_name = rule.split(\":\")\n",
    "            eval_str = f\"rating.{rule}\"\n",
    "            if eval(eval_str):\n",
    "                # rprint(f\"\\t{eval_str}=true, running workflow `{next_workflow_name}`\")\n",
    "\n",
    "                return run_workflow(rating, workflows, next_workflow_name)\n",
    "            else:\n",
    "                other_rule = \"\"\n",
    "                if i != len(workflow) - 1:\n",
    "                    other_rule = f\", continuing to `{workflow[i + 1]}`\"\n",
    "                # rprint(f\"\\t{eval_str}=false, skipping workflow `{next_workflow_name}`{other_rule}\")\n",
    "                continue\n",
    "        else:\n",
    "            return run_workflow(rating, workflows, rule)\n",
    "\n",
    "\n",
    "def run_workflow_rules(workflows: list[str], ratings: list[str]):\n",
    "    workflow_rules: dict = parse_workflows(workflows)\n",
    "    # rprint(workflow_rules)\n",
    "    score = 0\n",
    "    for rating in ratings:\n",
    "        rating_obj = Rating(*[int(value.split(\"=\")[1]) for value in rating.strip(\"{}\").split(\",\")])\n",
    "        # rprint(rating_obj)\n",
    "        result = run_workflow(rating_obj, workflow_rules)\n",
    "        # rprint(f\"score={result}\")\n",
    "        score += result\n",
    "    return score\n",
    "\n",
    "\n",
    "test_input = \"\"\"\n",
    "px{a<2006:qkq,m>2090:A,rfg}\n",
    "pv{a>1716:R,A}\n",
    "lnx{m>1548:A,A}\n",
    "rfg{s<537:gd,x>2440:R,A}\n",
    "qs{s>3448:A,lnx}\n",
    "qkq{x<1416:A,crn}\n",
    "crn{x>2662:A,R}\n",
    "in{s<1351:px,qqz}\n",
    "qqz{s>2770:qs,m<1801:hdj,R}\n",
    "gd{a>3333:R,R}\n",
    "hdj{m>838:A,pv}\n",
    "\n",
    "{x=787,m=2655,a=1222,s=2876}\n",
    "{x=1679,m=44,a=2067,s=496}\n",
    "{x=2036,m=264,a=79,s=2244}\n",
    "{x=2461,m=1339,a=466,s=291}\n",
    "{x=2127,m=1623,a=2188,s=1013}\"\"\".strip()\n",
    "\n",
    "test_workflows, test_ratings = test_input.split(\"\\n\\n\")\n",
    "test_result = run_workflow_rules(\n",
    "    test_workflows.split(\"\\n\"),\n",
    "    test_ratings.split(\"\\n\"),\n",
    ")\n",
    "test_result"
   ]
  },
  {
   "cell_type": "code",
   "execution_count": 31,
   "metadata": {},
   "outputs": [
    {
     "data": {
      "text/plain": [
       "287054"
      ]
     },
     "execution_count": 31,
     "metadata": {},
     "output_type": "execute_result"
    }
   ],
   "source": [
    "input_str = open(\"../inputs/19.txt\").read()\n",
    "workflows, ratings = input_str.split(\"\\n\\n\")\n",
    "result = run_workflow_rules(\n",
    "    workflows.split(\"\\n\"),\n",
    "    ratings.split(\"\\n\"),\n",
    ")\n",
    "result"
   ]
  },
  {
   "cell_type": "markdown",
   "metadata": {},
   "source": [
    "## Part 2\n",
    "\n",
    "Even with your help, the sorting process still isn't fast enough.\n",
    "\n",
    "One of the Elves comes up with a new plan: rather than sort parts individually through all of these workflows, maybe you can figure out in advance which combinations of ratings will be accepted or rejected.\n",
    "\n",
    "Each of the four ratings (x, m, a, s) can have an integer value ranging from a minimum of 1 to a maximum of 4000. Of all possible distinct combinations of ratings, your job is to figure out which ones will be accepted.\n",
    "\n",
    "In the above example, there are 167409079868000 distinct combinations of ratings that will be accepted.\n",
    "\n",
    "Consider only your list of workflows; the list of part ratings that the Elves wanted you to sort is no longer relevant. How many distinct combinations of ratings will be accepted by the Elves' workflows?"
   ]
  },
  {
   "cell_type": "code",
   "execution_count": 36,
   "metadata": {},
   "outputs": [
    {
     "name": "stderr",
     "output_type": "stream",
     "text": [
      "11931822it [03:27, 57464.86it/s]\n"
     ]
    },
    {
     "ename": "KeyboardInterrupt",
     "evalue": "",
     "output_type": "error",
     "traceback": [
      "\u001b[0;31m---------------------------------------------------------------------------\u001b[0m",
      "\u001b[0;31mKeyboardInterrupt\u001b[0m                         Traceback (most recent call last)",
      "Cell \u001b[0;32mIn[36], line 24\u001b[0m\n\u001b[1;32m     20\u001b[0m     \u001b[38;5;28;01mreturn\u001b[39;00m score\n\u001b[1;32m     23\u001b[0m test_workflows \u001b[38;5;241m=\u001b[39m test_input\u001b[38;5;241m.\u001b[39msplit(\u001b[38;5;124m\"\u001b[39m\u001b[38;5;130;01m\\n\u001b[39;00m\u001b[38;5;130;01m\\n\u001b[39;00m\u001b[38;5;124m\"\u001b[39m)[\u001b[38;5;241m0\u001b[39m]\n\u001b[0;32m---> 24\u001b[0m test_result \u001b[38;5;241m=\u001b[39m \u001b[43mrun_workflow_rules2\u001b[49m\u001b[43m(\u001b[49m\u001b[43mtest_workflows\u001b[49m\u001b[38;5;241;43m.\u001b[39;49m\u001b[43msplit\u001b[49m\u001b[43m(\u001b[49m\u001b[38;5;124;43m\"\u001b[39;49m\u001b[38;5;130;43;01m\\n\u001b[39;49;00m\u001b[38;5;124;43m\"\u001b[39;49m\u001b[43m)\u001b[49m\u001b[43m)\u001b[49m\n\u001b[1;32m     25\u001b[0m test_result\n",
      "Cell \u001b[0;32mIn[36], line 17\u001b[0m, in \u001b[0;36mrun_workflow_rules2\u001b[0;34m(workflows)\u001b[0m\n\u001b[1;32m     14\u001b[0m score \u001b[38;5;241m=\u001b[39m \u001b[38;5;241m0\u001b[39m\n\u001b[1;32m     15\u001b[0m \u001b[38;5;28;01mfor\u001b[39;00m rating_obj \u001b[38;5;129;01min\u001b[39;00m tqdm(generate_ratings()):\n\u001b[1;32m     16\u001b[0m     \u001b[38;5;66;03m# rprint(rating_obj)\u001b[39;00m\n\u001b[0;32m---> 17\u001b[0m     result \u001b[38;5;241m=\u001b[39m \u001b[43mrun_workflow\u001b[49m\u001b[43m(\u001b[49m\u001b[43mrating_obj\u001b[49m\u001b[43m,\u001b[49m\u001b[43m \u001b[49m\u001b[43mworkflow_rules\u001b[49m\u001b[43m)\u001b[49m\n\u001b[1;32m     18\u001b[0m     \u001b[38;5;66;03m# rprint(f\"score={result}\")\u001b[39;00m\n\u001b[1;32m     19\u001b[0m     score \u001b[38;5;241m+\u001b[39m\u001b[38;5;241m=\u001b[39m result\n",
      "Cell \u001b[0;32mIn[30], line 40\u001b[0m, in \u001b[0;36mrun_workflow\u001b[0;34m(rating, workflows, workflow_name)\u001b[0m\n\u001b[1;32m     38\u001b[0m rule, next_workflow_name \u001b[38;5;241m=\u001b[39m rule\u001b[38;5;241m.\u001b[39msplit(\u001b[38;5;124m\"\u001b[39m\u001b[38;5;124m:\u001b[39m\u001b[38;5;124m\"\u001b[39m)\n\u001b[1;32m     39\u001b[0m eval_str \u001b[38;5;241m=\u001b[39m \u001b[38;5;124mf\u001b[39m\u001b[38;5;124m\"\u001b[39m\u001b[38;5;124mrating.\u001b[39m\u001b[38;5;132;01m{\u001b[39;00mrule\u001b[38;5;132;01m}\u001b[39;00m\u001b[38;5;124m\"\u001b[39m\n\u001b[0;32m---> 40\u001b[0m \u001b[38;5;28;01mif\u001b[39;00m \u001b[38;5;28meval\u001b[39m(eval_str):\n\u001b[1;32m     41\u001b[0m     \u001b[38;5;66;03m#rprint(f\"\\t{eval_str}=true, running workflow `{next_workflow_name}`\")\u001b[39;00m\n\u001b[1;32m     43\u001b[0m     \u001b[38;5;28;01mreturn\u001b[39;00m run_workflow(rating, workflows, next_workflow_name)\n\u001b[1;32m     44\u001b[0m \u001b[38;5;28;01melse\u001b[39;00m:\n",
      "File \u001b[0;32m<string>:0\u001b[0m\n",
      "\u001b[0;31mKeyboardInterrupt\u001b[0m: "
     ]
    }
   ],
   "source": [
    "import itertools\n",
    "from tqdm.auto import tqdm\n",
    "\n",
    "\n",
    "def generate_ratings():\n",
    "    all_possible_ratings = itertools.product(range(1, 4001), repeat=4)\n",
    "    for rating in all_possible_ratings:\n",
    "        yield Rating(*rating)\n",
    "\n",
    "\n",
    "def run_workflow_rules2(workflows: list[str]):\n",
    "    workflow_rules: dict = parse_workflows(workflows)\n",
    "    # rprint(workflow_rules)\n",
    "    score = 0\n",
    "    for rating_obj in tqdm(generate_ratings()):\n",
    "        # rprint(rating_obj)\n",
    "        result = run_workflow(rating_obj, workflow_rules)\n",
    "        # rprint(f\"score={result}\")\n",
    "        score += result\n",
    "    return score\n",
    "\n",
    "\n",
    "test_workflows = test_input.split(\"\\n\\n\")[0]\n",
    "test_result = run_workflow_rules2(test_workflows.split(\"\\n\"))\n",
    "test_result"
   ]
  }
 ],
 "metadata": {
  "kernelspec": {
   "display_name": ".venv",
   "language": "python",
   "name": "python3"
  },
  "language_info": {
   "codemirror_mode": {
    "name": "ipython",
    "version": 3
   },
   "file_extension": ".py",
   "mimetype": "text/x-python",
   "name": "python",
   "nbconvert_exporter": "python",
   "pygments_lexer": "ipython3",
   "version": "3.11.5"
  }
 },
 "nbformat": 4,
 "nbformat_minor": 2
}
