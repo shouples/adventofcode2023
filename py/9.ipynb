{
 "cells": [
  {
   "cell_type": "markdown",
   "metadata": {},
   "source": [
    "# Day 9\n",
    "\n",
    "## Part 1\n",
    "\n",
    "You ride the camel through the sandstorm and stop where the ghost's maps told you to stop. The sandstorm subsequently subsides, somehow seeing you standing at an oasis!\n",
    "\n",
    "The camel goes to get some water and you stretch your neck. As you look up, you discover what must be yet another giant floating island, this one made of metal! That must be where the parts to fix the sand machines come from.\n",
    "\n",
    "There's even a hang glider partially buried in the sand here; once the sun rises and heats up the sand, you might be able to use the glider and the hot air to get all the way up to the metal island!\n",
    "\n",
    "While you wait for the sun to rise, you admire the oasis hidden here in the middle of Desert Island. It must have a delicate ecosystem; you might as well take some ecological readings while you wait. Maybe you can report any environmental instabilities you find to someone so the oasis can be around for the next sandstorm-worn traveler.\n",
    "\n",
    "You pull out your handy Oasis And Sand Instability Sensor and analyze your surroundings. The OASIS produces a report of many values and how they are changing over time (your puzzle input). Each line in the report contains the history of a single value. For example:\n",
    "\n",
    "```\n",
    "0 3 6 9 12 15\n",
    "1 3 6 10 15 21\n",
    "10 13 16 21 30 45\n",
    "```\n",
    "To best protect the oasis, your environmental report should include a prediction of the next value in each history. To do this, start by making a new sequence from the difference at each step of your history. If that sequence is not all zeroes, repeat this process, using the sequence you just generated as the input sequence. Once all of the values in your latest sequence are zeroes, you can extrapolate what the next value of the original history should be.\n",
    "\n",
    "In the above dataset, the first history is 0 3 6 9 12 15. Because the values increase by 3 each step, the first sequence of differences that you generate will be 3 3 3 3 3. Note that this sequence has one fewer value than the input sequence because at each step it considers two numbers from the input. Since these values aren't all zero, repeat the process: the values differ by 0 at each step, so the next sequence is 0 0 0 0. This means you have enough information to extrapolate the history! Visually, these sequences can be arranged like this:\n",
    "\n",
    "```\n",
    "0   3   6   9  12  15\n",
    "  3   3   3   3   3\n",
    "    0   0   0   0\n",
    "```\n",
    "To extrapolate, start by adding a new zero to the end of your list of zeroes; because the zeroes represent differences between the two values above them, this also means there is now a placeholder in every sequence above it:\n",
    "\n",
    "```\n",
    "0   3   6   9  12  15   B\n",
    "  3   3   3   3   3   A\n",
    "    0   0   0   0   0\n",
    "```\n",
    "You can then start filling in placeholders from the bottom up. A needs to be the result of increasing 3 (the value to its left) by 0 (the value below it); this means A must be 3:\n",
    "\n",
    "```\n",
    "0   3   6   9  12  15   B\n",
    "  3   3   3   3   3   3\n",
    "    0   0   0   0   0\n",
    "```\n",
    "Finally, you can fill in B, which needs to be the result of increasing 15 (the value to its left) by 3 (the value below it), or 18:\n",
    "\n",
    "```\n",
    "0   3   6   9  12  15  18\n",
    "  3   3   3   3   3   3\n",
    "    0   0   0   0   0\n",
    "```\n",
    "So, the next value of the first history is 18.\n",
    "\n",
    "Finding all-zero differences for the second history requires an additional sequence:\n",
    "\n",
    "```\n",
    "1   3   6  10  15  21\n",
    "  2   3   4   5   6\n",
    "    1   1   1   1\n",
    "      0   0   0\n",
    "```\n",
    "Then, following the same process as before, work out the next value in each sequence from the bottom up:\n",
    "\n",
    "```\n",
    "1   3   6  10  15  21  28\n",
    "  2   3   4   5   6   7\n",
    "    1   1   1   1   1\n",
    "      0   0   0   0\n",
    "```\n",
    "So, the next value of the second history is 28.\n",
    "\n",
    "The third history requires even more sequences, but its next value can be found the same way:\n",
    "\n",
    "```\n",
    "10  13  16  21  30  45  68\n",
    "   3   3   5   9  15  23\n",
    "     0   2   4   6   8\n",
    "       2   2   2   2\n",
    "         0   0   0\n",
    "```\n",
    "So, the next value of the third history is 68.\n",
    "\n",
    "If you find the next value for each history in this example and add them together, you get 114.\n",
    "\n",
    "Analyze your OASIS report and extrapolate the next value for each history. What is the sum of these extrapolated values?"
   ]
  },
  {
   "cell_type": "code",
   "execution_count": 6,
   "metadata": {},
   "outputs": [
    {
     "name": "stdout",
     "output_type": "stream",
     "text": [
      "[18, 28, 68]\n"
     ]
    },
    {
     "data": {
      "text/plain": [
       "114"
      ]
     },
     "execution_count": 6,
     "metadata": {},
     "output_type": "execute_result"
    }
   ],
   "source": [
    "def predict_next(readings: list[int]) -> int:\n",
    "    diffs = []\n",
    "    for i, reading in enumerate(readings):\n",
    "        if i == len(readings) - 1:\n",
    "            break\n",
    "        next_reading = readings[i + 1]\n",
    "        diffs.append(next_reading - reading)\n",
    "\n",
    "    if not all([diff == 0 for diff in diffs]):\n",
    "        return readings[-1] + predict_next(diffs)\n",
    "\n",
    "    return readings[-1] + diffs[0]\n",
    "\n",
    "\n",
    "test_input = \"\"\"0 3 6 9 12 15\n",
    "1 3 6 10 15 21\n",
    "10 13 16 21 30 45\"\"\".splitlines()\n",
    "\n",
    "test_next_readings = []\n",
    "for line in test_input:\n",
    "    readings = [int(reading) for reading in line.split()]\n",
    "    test_next_readings.append(predict_next(readings))\n",
    "\n",
    "print(test_next_readings)\n",
    "sum(test_next_readings)"
   ]
  },
  {
   "cell_type": "code",
   "execution_count": 7,
   "metadata": {},
   "outputs": [
    {
     "name": "stdout",
     "output_type": "stream",
     "text": [
      "[15304165, 2552015, 19463254, 20717471, 1992343, 22273579, 6822721, 16327, 1190368, 3403740, 5800, 1023721, 418881, 1580, 224405, 13750568, 16882459, -420212, 2648, 20216381, 12677569, 21877628, 11214986, 18813301, 755480, 2415448, 18775806, 1512943, 24622, 13583731, -373, 26603560, 2447123, -100, 8349679, 693086, 15011519, 15911646, 19648149, 29073, 13159063, 15945578, 2212781, 9286422, -360, 1205955, 20675278, 1814776, 12105047, 23256191, 7310723, 13108836, 17488, 170781, 2798021, 33217721, 39347026, 9365889, 2714466, -334108, 1676321, 10566576, 1208785, 4229115, 294, 24221530, 5250942, 4893015, 24382160, -171702, 482, 26857970, 1639271, 40751137, 19269672, -96, 35197016, 1973806, 32132438, 18988088, 10584451, -874060, 7676019, 320406, -421, 417107, -14877, 961840, 19106956, 415493, 3453335, 11492, 26592807, 1572511, 10088764, 27981414, 20504206, 19696398, 8066394, 12888000, 1913, 42819645, 21357401, 2682010, 24681511, 652419, 9192890, -530203, 18582799, 2474262, 20198011, 5233296, 18308, 312203, 1068637, 1393060, -6209, 29389110, 489865, -441429, -2648, 33296214, 25592570, 7188266, 11896285, 17743845, 24384403, 23172980, 331, 41271794, 30966845, 23772645, -4132, 2282819, 33595288, 34566131, -2221236, 20653268, 53565, -4146, 173, 18946495, 328207, 332, 24345904, 17013005, 3431, 317438, 433241, 8949312, 1904151, 11538758, 2146356, 38772, 4918201, 4394, 37436, 11559493, 15621734, 482477, 24641081, 199, 21639523, 2017443, 3820228, -69, 907981, 81423, 1620, -115439, 18099566, 19209858, 11070761, -25256, 15492458, 734742, 8581508, -515482, 3044, 31342594, 15322873, 17147650, 16149418, 29989285, 4323183, 10866842, 58082, -3481, 569441, 29957178, 4626189, 6328514, -76842, 8097046, 3064311, 13300, 17762273, 1583799, 24374165, 22415]\n"
     ]
    },
    {
     "data": {
      "text/plain": [
       "1939607039"
      ]
     },
     "execution_count": 7,
     "metadata": {},
     "output_type": "execute_result"
    }
   ],
   "source": [
    "inputs = open(\"../inputs/9.txt\").read().splitlines()\n",
    "next_readings = []\n",
    "for line in inputs:\n",
    "    readings = [int(reading) for reading in line.split()]\n",
    "    next_readings.append(predict_next(readings))\n",
    "print(next_readings)\n",
    "sum(next_readings)"
   ]
  },
  {
   "cell_type": "markdown",
   "metadata": {},
   "source": [
    "## Part 2\n",
    "\n",
    "Of course, it would be nice to have even more history included in your report. Surely it's safe to just extrapolate backwards as well, right?\n",
    "\n",
    "For each history, repeat the process of finding differences until the sequence of differences is entirely zero. Then, rather than adding a zero to the end and filling in the next values of each previous sequence, you should instead add a zero to the beginning of your sequence of zeroes, then fill in new first values for each previous sequence.\n",
    "\n",
    "In particular, here is what the third example history looks like when extrapolating back in time:\n",
    "\n",
    "```\n",
    "5  10  13  16  21  30  45\n",
    "  5   3   3   5   9  15\n",
    "   -2   0   2   4   6\n",
    "      2   2   2   2\n",
    "        0   0   0\n",
    "```\n",
    "Adding the new values on the left side of each sequence from bottom to top eventually reveals the new left-most history value: 5.\n",
    "\n",
    "Doing this for the remaining example data above results in previous values of -3 for the first history and 0 for the second history. Adding all three new values together produces 2.\n",
    "\n",
    "Analyze your OASIS report again, this time extrapolating the previous value for each history. What is the sum of these extrapolated values?"
   ]
  },
  {
   "cell_type": "code",
   "execution_count": 12,
   "metadata": {},
   "outputs": [
    {
     "name": "stdout",
     "output_type": "stream",
     "text": [
      "[-3, 0, 5]\n"
     ]
    },
    {
     "data": {
      "text/plain": [
       "2"
      ]
     },
     "execution_count": 12,
     "metadata": {},
     "output_type": "execute_result"
    }
   ],
   "source": [
    "test_next_readings2 = []\n",
    "for line in test_input:\n",
    "    readings2 = [int(reading) for reading in line.split()][::-1]\n",
    "    test_next_readings2.append(predict_next(readings2))\n",
    "\n",
    "print(test_next_readings2)\n",
    "sum(test_next_readings2)"
   ]
  },
  {
   "cell_type": "code",
   "execution_count": 13,
   "metadata": {},
   "outputs": [
    {
     "name": "stdout",
     "output_type": "stream",
     "text": [
      "[-3, 15, -5, 13, 12, 12, 15, 14, 14, 10, 14, -5, 1, -4, 5, -1, -4, 10, -3, 9, -3, 6, 13, 4, 11, 13, 1, 14, 15, 2, 12, 12, -3, 10, -3, 2, 6, 1, -4, 0, 8, -5, 10, 4, 14, 3, 11, 7, -3, 7, 2, 2, 9, 6, 6, 10, 5, 15, -4, -5, 9, 5, 6, 0, 8, 2, 15, 6, 12, -3, -2, 4, -4, 4, -3, 14, 13, 10, 15, 12, 0, 11, -1, -2, -3, 9, 6, 11, 0, 12, 6, -3, 12, 6, 5, 2, 6, -5, 6, -1, -1, -4, 8, 1, -2, 9, 9, 7, 10, 10, 15, 2, 4, 1, 9, 9, 6, 8, 13, 12, 14, 0, 12, -1, 6, 6, 15, 5, 1, 6, 11, -5, 15, 0, -5, 10, 9, 3, -5, 12, -3, -5, 0, 2, 5, -3, 10, 11, -5, -1, 7, 11, 3, 8, 13, 5, 14, 13, 4, 6, 5, 1, 11, 10, 5, -3, -3, 12, 3, -5, 1, 15, 9, 11, 14, 8, 1, 0, -3, 1, 9, 4, 0, 1, -4, 12, 13, 6, 15, -4, 6, 7, 15, -3, 8, 12, -1, -3, -2, -3]\n"
     ]
    },
    {
     "data": {
      "text/plain": [
       "1041"
      ]
     },
     "execution_count": 13,
     "metadata": {},
     "output_type": "execute_result"
    }
   ],
   "source": [
    "next_readings2 = []\n",
    "for line in inputs:\n",
    "    readings = [int(reading) for reading in line.split()][::-1]\n",
    "    next_readings2.append(predict_next(readings))\n",
    "print(next_readings2)\n",
    "sum(next_readings2)"
   ]
  }
 ],
 "metadata": {
  "kernelspec": {
   "display_name": ".venv",
   "language": "python",
   "name": "python3"
  },
  "language_info": {
   "codemirror_mode": {
    "name": "ipython",
    "version": 3
   },
   "file_extension": ".py",
   "mimetype": "text/x-python",
   "name": "python",
   "nbconvert_exporter": "python",
   "pygments_lexer": "ipython3",
   "version": "3.11.5"
  }
 },
 "nbformat": 4,
 "nbformat_minor": 2
}
