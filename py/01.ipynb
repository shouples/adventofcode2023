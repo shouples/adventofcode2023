{
 "cells": [
  {
   "cell_type": "markdown",
   "metadata": {},
   "source": [
    "# [Day 1](https://adventofcode.com/2023/day/1)\n",
    "\n",
    "## Part 1\n",
    "\n",
    "The newly-improved calibration document consists of lines of text; each line originally contained a specific calibration value that the Elves now need to recover. On each line, the calibration value can be found by combining the first digit and the last digit (in that order) to form a single two-digit number.\n",
    "\n",
    "For example:\n",
    "\n",
    "```\n",
    "1abc2\n",
    "pqr3stu8vwx\n",
    "a1b2c3d4e5f\n",
    "treb7uchet\n",
    "```\n",
    "In this example, the calibration values of these four lines are 12, 38, 15, and 77. Adding these together produces 142.\n",
    "\n",
    "Consider your entire calibration document. What is the sum of all of the calibration values?"
   ]
  },
  {
   "cell_type": "code",
   "execution_count": null,
   "metadata": {},
   "outputs": [],
   "source": [
    "inputs = open(\"../inputs/1.txt\").readlines()\n",
    "inputs[:3]"
   ]
  },
  {
   "cell_type": "code",
   "execution_count": null,
   "metadata": {},
   "outputs": [],
   "source": [
    "def get_first_and_last_digits(line: str) -> int:\n",
    "    first_digit = None\n",
    "    last_digit = None\n",
    "\n",
    "    line = line.strip()\n",
    "\n",
    "    # iterate through the characters to get the first digit\n",
    "    for c in line:\n",
    "        if c.isdigit():\n",
    "            first_digit = c\n",
    "            break\n",
    "\n",
    "    # reverse the line and iterate through the characters to get the last digit\n",
    "    for c in line[::-1]:\n",
    "        if c.isdigit():\n",
    "            last_digit = c\n",
    "            break\n",
    "\n",
    "    combined_value: str = f\"{first_digit}{last_digit}\"\n",
    "    print(line)\n",
    "    print(f\"\\t{first_digit=} + {last_digit=} -> {combined_value}\")\n",
    "    return int(combined_value)\n",
    "\n",
    "\n",
    "test_inputs = \"\"\"1abc2\n",
    "pqr3stu8vwx\n",
    "a1b2c3d4e5f\n",
    "treb7uchet\"\"\".split()\n",
    "\n",
    "test_values = [get_first_and_last_digits(l) for l in test_inputs]\n",
    "assert sum(test_values) == 142\n",
    "test_values"
   ]
  },
  {
   "cell_type": "code",
   "execution_count": 3,
   "metadata": {},
   "outputs": [
    {
     "data": {
      "text/plain": [
       "142"
      ]
     },
     "execution_count": 3,
     "metadata": {},
     "output_type": "execute_result"
    }
   ],
   "source": [
    "sum(test_values)"
   ]
  },
  {
   "cell_type": "code",
   "execution_count": null,
   "metadata": {},
   "outputs": [],
   "source": [
    "all_values = [get_first_and_last_digits(l) for l in inputs]\n",
    "all_values[:3]"
   ]
  },
  {
   "cell_type": "code",
   "execution_count": 5,
   "metadata": {},
   "outputs": [
    {
     "data": {
      "text/plain": [
       "55621"
      ]
     },
     "execution_count": 5,
     "metadata": {},
     "output_type": "execute_result"
    }
   ],
   "source": [
    "sum(all_values)"
   ]
  },
  {
   "cell_type": "markdown",
   "metadata": {},
   "source": [
    "## Part 2\n",
    "\n",
    "Your calculation isn't quite right. It looks like some of the digits are actually spelled out with letters: one, two, three, four, five, six, seven, eight, and nine also count as valid \"digits\".\n",
    "\n",
    "Equipped with this new information, you now need to find the real first and last digit on each line. For example:\n",
    "\n",
    "```\n",
    "two1nine\n",
    "eightwothree\n",
    "abcone2threexyz\n",
    "xtwone3four\n",
    "4nineeightseven2\n",
    "zoneight234\n",
    "7pqrstsixteen\n",
    "```\n",
    "In this example, the calibration values are 29, 83, 13, 24, 42, 14, and 76. Adding these together produces 281.\n",
    "\n",
    "What is the sum of all of the calibration values?"
   ]
  },
  {
   "cell_type": "code",
   "execution_count": null,
   "metadata": {},
   "outputs": [],
   "source": [
    "digit_conversions = {\n",
    "    \"one\": 1,\n",
    "    \"two\": 2,\n",
    "    \"three\": 3,\n",
    "    \"four\": 4,\n",
    "    \"five\": 5,\n",
    "    \"six\": 6,\n",
    "    \"seven\": 7,\n",
    "    \"eight\": 8,\n",
    "    \"nine\": 9,\n",
    "}\n",
    "\n",
    "\n",
    "def get_first_and_last_digits_with_conversion(line: str) -> int:\n",
    "    first_digit = None\n",
    "    last_digit = None\n",
    "\n",
    "    line = line.strip()\n",
    "    print(line)\n",
    "\n",
    "    # iterate through the characters to get the first digit\n",
    "    for i, c in enumerate(line):\n",
    "        if first_digit is not None:\n",
    "            break\n",
    "        if c.isdigit():\n",
    "            first_digit = c\n",
    "            break\n",
    "        for str_digit, digit in digit_conversions.items():\n",
    "            if line[i:].startswith(str_digit):\n",
    "                first_digit = str(digit)\n",
    "                break\n",
    "\n",
    "    # reverse the line and iterate through the characters to get the last digit\n",
    "    for i, c in enumerate(line[::-1]):\n",
    "        if last_digit is not None:\n",
    "            break\n",
    "        if c.isdigit():\n",
    "            last_digit = c\n",
    "            break\n",
    "        # look for the spelled out digit in the not-reversed line, stepping back through the string\n",
    "        # (there's probably a better way to do this)\n",
    "        for str_digit, digit in digit_conversions.items():\n",
    "            if i:\n",
    "                if line[: -i + 1].endswith(str_digit):\n",
    "                    last_digit = str(digit)\n",
    "                    break\n",
    "            else:\n",
    "                if line.endswith(str_digit):\n",
    "                    last_digit = str(digit)\n",
    "                    break\n",
    "\n",
    "    combined_value: str = f\"{first_digit}{last_digit}\"\n",
    "    print(f\"\\t{first_digit=} + {last_digit=} -> {combined_value}\")\n",
    "\n",
    "    return int(combined_value)\n",
    "\n",
    "\n",
    "test_inputs2 = \"\"\"two1nine\n",
    "eightwothree\n",
    "abcone2threexyz\n",
    "xtwone3four\n",
    "4nineeightseven2\n",
    "zoneight234\n",
    "7pqrstsixteen\"\"\".split()\n",
    "\n",
    "test_values2 = [get_first_and_last_digits_with_conversion(l) for l in test_inputs2]\n",
    "assert sum(test_values2) == 281\n",
    "test_values2, sum(test_values2)"
   ]
  },
  {
   "cell_type": "code",
   "execution_count": 7,
   "metadata": {},
   "outputs": [
    {
     "data": {
      "text/plain": [
       "281"
      ]
     },
     "execution_count": 7,
     "metadata": {},
     "output_type": "execute_result"
    }
   ],
   "source": [
    "sum(test_values2)"
   ]
  },
  {
   "cell_type": "code",
   "execution_count": null,
   "metadata": {},
   "outputs": [],
   "source": [
    "all_converted_values = [get_first_and_last_digits_with_conversion(l) for l in inputs]\n",
    "all_converted_values[:3]"
   ]
  },
  {
   "cell_type": "code",
   "execution_count": 9,
   "metadata": {},
   "outputs": [
    {
     "data": {
      "text/plain": [
       "53592"
      ]
     },
     "execution_count": 9,
     "metadata": {},
     "output_type": "execute_result"
    }
   ],
   "source": [
    "sum(all_converted_values)"
   ]
  }
 ],
 "metadata": {
  "kernelspec": {
   "display_name": ".venv",
   "language": "python",
   "name": "python3"
  },
  "language_info": {
   "codemirror_mode": {
    "name": "ipython",
    "version": 3
   },
   "file_extension": ".py",
   "mimetype": "text/x-python",
   "name": "python",
   "nbconvert_exporter": "python",
   "pygments_lexer": "ipython3",
   "version": "3.11.5"
  }
 },
 "nbformat": 4,
 "nbformat_minor": 2
}
