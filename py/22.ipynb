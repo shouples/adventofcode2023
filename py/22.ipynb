{
 "cells": [
  {
   "cell_type": "markdown",
   "metadata": {},
   "source": [
    "# Day 22\n",
    "\n",
    "## Part 1\n",
    "\n",
    "Enough sand has fallen; it can finally filter water for Snow Island.\n",
    "\n",
    "Well, almost.\n",
    "\n",
    "The sand has been falling as large compacted bricks of sand, piling up to form an impressive stack here near the edge of Island Island. In order to make use of the sand to filter water, some of the bricks will need to be broken apart - nay, disintegrated - back into freely flowing sand.\n",
    "\n",
    "The stack is tall enough that you'll have to be careful about choosing which bricks to disintegrate; if you disintegrate the wrong brick, large portions of the stack could topple, which sounds pretty dangerous.\n",
    "\n",
    "The Elves responsible for water filtering operations took a snapshot of the bricks while they were still falling (your puzzle input) which should let you work out which bricks are safe to disintegrate. For example:\n",
    "\n",
    "```\n",
    "1,0,1~1,2,1\n",
    "0,0,2~2,0,2\n",
    "0,2,3~2,2,3\n",
    "0,0,4~0,2,4\n",
    "2,0,5~2,2,5\n",
    "0,1,6~2,1,6\n",
    "1,1,8~1,1,9\n",
    "```\n",
    "Each line of text in the snapshot represents the position of a single brick at the time the snapshot was taken. The position is given as two x,y,z coordinates - one for each end of the brick - separated by a tilde (~). Each brick is made up of a single straight line of cubes, and the Elves were even careful to choose a time for the snapshot that had all of the free-falling bricks at integer positions above the ground, so the whole snapshot is aligned to a three-dimensional cube grid.\n",
    "\n",
    "A line like 2,2,2~2,2,2 means that both ends of the brick are at the same coordinate - in other words, that the brick is a single cube.\n",
    "\n",
    "Lines like 0,0,10~1,0,10 or 0,0,10~0,1,10 both represent bricks that are two cubes in volume, both oriented horizontally. The first brick extends in the x direction, while the second brick extends in the y direction.\n",
    "\n",
    "A line like 0,0,1~0,0,10 represents a ten-cube brick which is oriented vertically. One end of the brick is the cube located at 0,0,1, while the other end of the brick is located directly above it at 0,0,10.\n",
    "\n",
    "The ground is at z=0 and is perfectly flat; the lowest z value a brick can have is therefore 1. So, 5,5,1~5,6,1 and 0,2,1~0,2,5 are both resting on the ground, but 3,3,2~3,3,3 was above the ground at the time of the snapshot.\n",
    "\n",
    "Because the snapshot was taken while the bricks were still falling, some bricks will still be in the air; you'll need to start by figuring out where they will end up. Bricks are magically stabilized, so they never rotate, even in weird situations like where a long horizontal brick is only supported on one end. Two bricks cannot occupy the same position, so a falling brick will come to rest upon the first other brick it encounters.\n",
    "\n",
    "Here is the same example again, this time with each brick given a letter so it can be marked in diagrams:\n",
    "\n",
    "```\n",
    "1,0,1~1,2,1   <- A\n",
    "0,0,2~2,0,2   <- B\n",
    "0,2,3~2,2,3   <- C\n",
    "0,0,4~0,2,4   <- D\n",
    "2,0,5~2,2,5   <- E\n",
    "0,1,6~2,1,6   <- F\n",
    "1,1,8~1,1,9   <- G\n",
    "```\n",
    "At the time of the snapshot, from the side so the x axis goes left to right, these bricks are arranged like this:\n",
    "\n",
    "```\n",
    " x\n",
    "012\n",
    ".G. 9\n",
    ".G. 8\n",
    "... 7\n",
    "FFF 6\n",
    "..E 5 z\n",
    "D.. 4\n",
    "CCC 3\n",
    "BBB 2\n",
    ".A. 1\n",
    "--- 0\n",
    "```\n",
    "Rotating the perspective 90 degrees so the y axis now goes left to right, the same bricks are arranged like this:\n",
    "\n",
    "```\n",
    " y\n",
    "012\n",
    ".G. 9\n",
    ".G. 8\n",
    "... 7\n",
    ".F. 6\n",
    "EEE 5 z\n",
    "DDD 4\n",
    "..C 3\n",
    "B.. 2\n",
    "AAA 1\n",
    "--- 0\n",
    "```\n",
    "Once all of the bricks fall downward as far as they can go, the stack looks like this, where ? means bricks are hidden behind other bricks at that location:\n",
    "\n",
    "```\n",
    " x\n",
    "012\n",
    ".G. 6\n",
    ".G. 5\n",
    "FFF 4\n",
    "D.E 3 z\n",
    "??? 2\n",
    ".A. 1\n",
    "--- 0\n",
    "```\n",
    "Again from the side:\n",
    "\n",
    "```\n",
    " y\n",
    "012\n",
    ".G. 6\n",
    ".G. 5\n",
    ".F. 4\n",
    "??? 3 z\n",
    "B.C 2\n",
    "AAA 1\n",
    "--- 0\n",
    "```\n",
    "Now that all of the bricks have settled, it becomes easier to tell which bricks are supporting which other bricks:\n",
    "\n",
    "- rick A is the only brick supporting bricks B and C.\n",
    "- Brick B is one of two bricks supporting brick D and brick E.\n",
    "- Brick C is the other brick supporting brick D and brick E.\n",
    "- Brick D supports brick F.\n",
    "- Brick E also supports brick F.\n",
    "- Brick F supports brick G.\n",
    "- Brick G isn't supporting any bricks.\n",
    "Your first task is to figure out which bricks are safe to disintegrate. A brick can be safely disintegrated if, after removing it, no other bricks would fall further directly downward. Don't actually disintegrate any bricks - just determine what would happen if, for each brick, only that brick were disintegrated. Bricks can be disintegrated even if they're completely surrounded by other bricks; you can squeeze between bricks if you need to.\n",
    "\n",
    "In this example, the bricks can be disintegrated as follows:\n",
    "\n",
    "- Brick A cannot be disintegrated safely; if it were disintegrated, bricks B and C would both fall.\n",
    "- Brick B can be disintegrated; the bricks above it (D and E) would still be supported by brick C.\n",
    "- Brick C can be disintegrated; the bricks above it (D and E) would still be supported by brick B.\n",
    "- Brick D can be disintegrated; the brick above it (F) would still be supported by brick E.\n",
    "- Brick E can be disintegrated; the brick above it (F) would still be supported by brick D.\n",
    "- Brick F cannot be disintegrated; the brick above it (G) would fall.\n",
    "- Brick G can be disintegrated; it does not support any other bricks.\n",
    "So, in this example, 5 bricks can be safely disintegrated.\n",
    "\n",
    "Figure how the blocks will settle based on the snapshot. Once they've settled, consider disintegrating a single brick; how many bricks could be safely chosen as the one to get disintegrated?"
   ]
  },
  {
   "cell_type": "code",
   "execution_count": 86,
   "metadata": {},
   "outputs": [
    {
     "data": {
      "application/vnd.plotly.v1+json": {
       "config": {
        "plotlyServerURL": "https://plot.ly"
       },
       "data": [
        {
         "mode": "lines",
         "name": "brick 0",
         "type": "scatter3d",
         "x": [
          0.5,
          0.5,
          0.5,
          0.5,
          0.5,
          0.5,
          0.5,
          1.5,
          1.5,
          0.5,
          0.5,
          0.5,
          1.5,
          1.5,
          0.5,
          0.5,
          0.5,
          0.5,
          0.5,
          0.5,
          1.5,
          1.5,
          1.5,
          1.5,
          1.5,
          1.5,
          1.5,
          1.5,
          1.5,
          1.5,
          0.5
         ],
         "y": [
          -0.5,
          -0.5,
          2.5,
          2.5,
          -0.5,
          2.5,
          2.5,
          2.5,
          2.5,
          2.5,
          -0.5,
          -0.5,
          -0.5,
          -0.5,
          -0.5,
          -0.5,
          -0.5,
          2.5,
          2.5,
          -0.5,
          -0.5,
          -0.5,
          2.5,
          2.5,
          -0.5,
          -0.5,
          -0.5,
          2.5,
          2.5,
          -0.5,
          -0.5
         ],
         "z": [
          0.5,
          1.5,
          1.5,
          0.5,
          0.5,
          0.5,
          1.5,
          1.5,
          0.5,
          0.5,
          0.5,
          1.5,
          1.5,
          0.5,
          0.5,
          0.5,
          1.5,
          1.5,
          0.5,
          0.5,
          0.5,
          1.5,
          1.5,
          0.5,
          0.5,
          0.5,
          1.5,
          1.5,
          0.5,
          0.5,
          0.5
         ]
        },
        {
         "mode": "lines",
         "name": "brick 1",
         "type": "scatter3d",
         "x": [
          -0.5,
          -0.5,
          -0.5,
          -0.5,
          -0.5,
          -0.5,
          -0.5,
          2.5,
          2.5,
          -0.5,
          -0.5,
          -0.5,
          2.5,
          2.5,
          -0.5,
          -0.5,
          -0.5,
          -0.5,
          -0.5,
          -0.5,
          2.5,
          2.5,
          2.5,
          2.5,
          2.5,
          2.5,
          2.5,
          2.5,
          2.5,
          2.5,
          -0.5
         ],
         "y": [
          -0.5,
          -0.5,
          0.5,
          0.5,
          -0.5,
          0.5,
          0.5,
          0.5,
          0.5,
          0.5,
          -0.5,
          -0.5,
          -0.5,
          -0.5,
          -0.5,
          -0.5,
          -0.5,
          0.5,
          0.5,
          -0.5,
          -0.5,
          -0.5,
          0.5,
          0.5,
          -0.5,
          -0.5,
          -0.5,
          0.5,
          0.5,
          -0.5,
          -0.5
         ],
         "z": [
          1.5,
          2.5,
          2.5,
          1.5,
          1.5,
          1.5,
          2.5,
          2.5,
          1.5,
          1.5,
          1.5,
          2.5,
          2.5,
          1.5,
          1.5,
          1.5,
          2.5,
          2.5,
          1.5,
          1.5,
          1.5,
          2.5,
          2.5,
          1.5,
          1.5,
          1.5,
          2.5,
          2.5,
          1.5,
          1.5,
          1.5
         ]
        },
        {
         "mode": "lines",
         "name": "brick 2",
         "type": "scatter3d",
         "x": [
          -0.5,
          -0.5,
          -0.5,
          -0.5,
          -0.5,
          -0.5,
          -0.5,
          2.5,
          2.5,
          -0.5,
          -0.5,
          -0.5,
          2.5,
          2.5,
          -0.5,
          -0.5,
          -0.5,
          -0.5,
          -0.5,
          -0.5,
          2.5,
          2.5,
          2.5,
          2.5,
          2.5,
          2.5,
          2.5,
          2.5,
          2.5,
          2.5,
          -0.5
         ],
         "y": [
          1.5,
          1.5,
          2.5,
          2.5,
          1.5,
          2.5,
          2.5,
          2.5,
          2.5,
          2.5,
          1.5,
          1.5,
          1.5,
          1.5,
          1.5,
          1.5,
          1.5,
          2.5,
          2.5,
          1.5,
          1.5,
          1.5,
          2.5,
          2.5,
          1.5,
          1.5,
          1.5,
          2.5,
          2.5,
          1.5,
          1.5
         ],
         "z": [
          2.5,
          3.5,
          3.5,
          2.5,
          2.5,
          2.5,
          3.5,
          3.5,
          2.5,
          2.5,
          2.5,
          3.5,
          3.5,
          2.5,
          2.5,
          2.5,
          3.5,
          3.5,
          2.5,
          2.5,
          2.5,
          3.5,
          3.5,
          2.5,
          2.5,
          2.5,
          3.5,
          3.5,
          2.5,
          2.5,
          2.5
         ]
        },
        {
         "mode": "lines",
         "name": "brick 3",
         "type": "scatter3d",
         "x": [
          -0.5,
          -0.5,
          -0.5,
          -0.5,
          -0.5,
          -0.5,
          -0.5,
          0.5,
          0.5,
          -0.5,
          -0.5,
          -0.5,
          0.5,
          0.5,
          -0.5,
          -0.5,
          -0.5,
          -0.5,
          -0.5,
          -0.5,
          0.5,
          0.5,
          0.5,
          0.5,
          0.5,
          0.5,
          0.5,
          0.5,
          0.5,
          0.5,
          -0.5
         ],
         "y": [
          -0.5,
          -0.5,
          2.5,
          2.5,
          -0.5,
          2.5,
          2.5,
          2.5,
          2.5,
          2.5,
          -0.5,
          -0.5,
          -0.5,
          -0.5,
          -0.5,
          -0.5,
          -0.5,
          2.5,
          2.5,
          -0.5,
          -0.5,
          -0.5,
          2.5,
          2.5,
          -0.5,
          -0.5,
          -0.5,
          2.5,
          2.5,
          -0.5,
          -0.5
         ],
         "z": [
          3.5,
          4.5,
          4.5,
          3.5,
          3.5,
          3.5,
          4.5,
          4.5,
          3.5,
          3.5,
          3.5,
          4.5,
          4.5,
          3.5,
          3.5,
          3.5,
          4.5,
          4.5,
          3.5,
          3.5,
          3.5,
          4.5,
          4.5,
          3.5,
          3.5,
          3.5,
          4.5,
          4.5,
          3.5,
          3.5,
          3.5
         ]
        },
        {
         "mode": "lines",
         "name": "brick 4",
         "type": "scatter3d",
         "x": [
          1.5,
          1.5,
          1.5,
          1.5,
          1.5,
          1.5,
          1.5,
          2.5,
          2.5,
          1.5,
          1.5,
          1.5,
          2.5,
          2.5,
          1.5,
          1.5,
          1.5,
          1.5,
          1.5,
          1.5,
          2.5,
          2.5,
          2.5,
          2.5,
          2.5,
          2.5,
          2.5,
          2.5,
          2.5,
          2.5,
          1.5
         ],
         "y": [
          -0.5,
          -0.5,
          2.5,
          2.5,
          -0.5,
          2.5,
          2.5,
          2.5,
          2.5,
          2.5,
          -0.5,
          -0.5,
          -0.5,
          -0.5,
          -0.5,
          -0.5,
          -0.5,
          2.5,
          2.5,
          -0.5,
          -0.5,
          -0.5,
          2.5,
          2.5,
          -0.5,
          -0.5,
          -0.5,
          2.5,
          2.5,
          -0.5,
          -0.5
         ],
         "z": [
          4.5,
          5.5,
          5.5,
          4.5,
          4.5,
          4.5,
          5.5,
          5.5,
          4.5,
          4.5,
          4.5,
          5.5,
          5.5,
          4.5,
          4.5,
          4.5,
          5.5,
          5.5,
          4.5,
          4.5,
          4.5,
          5.5,
          5.5,
          4.5,
          4.5,
          4.5,
          5.5,
          5.5,
          4.5,
          4.5,
          4.5
         ]
        },
        {
         "mode": "lines",
         "name": "brick 5",
         "type": "scatter3d",
         "x": [
          -0.5,
          -0.5,
          -0.5,
          -0.5,
          -0.5,
          -0.5,
          -0.5,
          2.5,
          2.5,
          -0.5,
          -0.5,
          -0.5,
          2.5,
          2.5,
          -0.5,
          -0.5,
          -0.5,
          -0.5,
          -0.5,
          -0.5,
          2.5,
          2.5,
          2.5,
          2.5,
          2.5,
          2.5,
          2.5,
          2.5,
          2.5,
          2.5,
          -0.5
         ],
         "y": [
          0.5,
          0.5,
          1.5,
          1.5,
          0.5,
          1.5,
          1.5,
          1.5,
          1.5,
          1.5,
          0.5,
          0.5,
          0.5,
          0.5,
          0.5,
          0.5,
          0.5,
          1.5,
          1.5,
          0.5,
          0.5,
          0.5,
          1.5,
          1.5,
          0.5,
          0.5,
          0.5,
          1.5,
          1.5,
          0.5,
          0.5
         ],
         "z": [
          5.5,
          6.5,
          6.5,
          5.5,
          5.5,
          5.5,
          6.5,
          6.5,
          5.5,
          5.5,
          5.5,
          6.5,
          6.5,
          5.5,
          5.5,
          5.5,
          6.5,
          6.5,
          5.5,
          5.5,
          5.5,
          6.5,
          6.5,
          5.5,
          5.5,
          5.5,
          6.5,
          6.5,
          5.5,
          5.5,
          5.5
         ]
        },
        {
         "mode": "lines",
         "name": "brick 6",
         "type": "scatter3d",
         "x": [
          0.5,
          0.5,
          0.5,
          0.5,
          0.5,
          0.5,
          0.5,
          1.5,
          1.5,
          0.5,
          0.5,
          0.5,
          1.5,
          1.5,
          0.5,
          0.5,
          0.5,
          0.5,
          0.5,
          0.5,
          1.5,
          1.5,
          1.5,
          1.5,
          1.5,
          1.5,
          1.5,
          1.5,
          1.5,
          1.5,
          0.5
         ],
         "y": [
          0.5,
          0.5,
          1.5,
          1.5,
          0.5,
          1.5,
          1.5,
          1.5,
          1.5,
          1.5,
          0.5,
          0.5,
          0.5,
          0.5,
          0.5,
          0.5,
          0.5,
          1.5,
          1.5,
          0.5,
          0.5,
          0.5,
          1.5,
          1.5,
          0.5,
          0.5,
          0.5,
          1.5,
          1.5,
          0.5,
          0.5
         ],
         "z": [
          7.5,
          9.5,
          9.5,
          7.5,
          7.5,
          7.5,
          9.5,
          9.5,
          7.5,
          7.5,
          7.5,
          9.5,
          9.5,
          7.5,
          7.5,
          7.5,
          9.5,
          9.5,
          7.5,
          7.5,
          7.5,
          9.5,
          9.5,
          7.5,
          7.5,
          7.5,
          9.5,
          9.5,
          7.5,
          7.5,
          7.5
         ]
        }
       ],
       "layout": {
        "margin": {
         "b": 5,
         "l": 5,
         "r": 5,
         "t": 5
        },
        "scene": {
         "xaxis": {
          "gridcolor": "rgb(35, 35, 35)",
          "nticks": 0,
          "range": [
           -1.5,
           3.5
          ]
         },
         "yaxis": {
          "gridcolor": "rgb(35, 35, 35)",
          "nticks": 0,
          "range": [
           -1.5,
           3.5
          ]
         },
         "zaxis": {
          "gridcolor": "rgb(35, 35, 35)",
          "nticks": 0,
          "range": [
           -1,
           10.5
          ]
         }
        },
        "template": {
         "data": {
          "bar": [
           {
            "error_x": {
             "color": "#f2f5fa"
            },
            "error_y": {
             "color": "#f2f5fa"
            },
            "marker": {
             "line": {
              "color": "rgb(17,17,17)",
              "width": 0.5
             },
             "pattern": {
              "fillmode": "overlay",
              "size": 10,
              "solidity": 0.2
             }
            },
            "type": "bar"
           }
          ],
          "barpolar": [
           {
            "marker": {
             "line": {
              "color": "rgb(17,17,17)",
              "width": 0.5
             },
             "pattern": {
              "fillmode": "overlay",
              "size": 10,
              "solidity": 0.2
             }
            },
            "type": "barpolar"
           }
          ],
          "carpet": [
           {
            "aaxis": {
             "endlinecolor": "#A2B1C6",
             "gridcolor": "#506784",
             "linecolor": "#506784",
             "minorgridcolor": "#506784",
             "startlinecolor": "#A2B1C6"
            },
            "baxis": {
             "endlinecolor": "#A2B1C6",
             "gridcolor": "#506784",
             "linecolor": "#506784",
             "minorgridcolor": "#506784",
             "startlinecolor": "#A2B1C6"
            },
            "type": "carpet"
           }
          ],
          "choropleth": [
           {
            "colorbar": {
             "outlinewidth": 0,
             "ticks": ""
            },
            "type": "choropleth"
           }
          ],
          "contour": [
           {
            "colorbar": {
             "outlinewidth": 0,
             "ticks": ""
            },
            "colorscale": [
             [
              0,
              "#0d0887"
             ],
             [
              0.1111111111111111,
              "#46039f"
             ],
             [
              0.2222222222222222,
              "#7201a8"
             ],
             [
              0.3333333333333333,
              "#9c179e"
             ],
             [
              0.4444444444444444,
              "#bd3786"
             ],
             [
              0.5555555555555556,
              "#d8576b"
             ],
             [
              0.6666666666666666,
              "#ed7953"
             ],
             [
              0.7777777777777778,
              "#fb9f3a"
             ],
             [
              0.8888888888888888,
              "#fdca26"
             ],
             [
              1,
              "#f0f921"
             ]
            ],
            "type": "contour"
           }
          ],
          "contourcarpet": [
           {
            "colorbar": {
             "outlinewidth": 0,
             "ticks": ""
            },
            "type": "contourcarpet"
           }
          ],
          "heatmap": [
           {
            "colorbar": {
             "outlinewidth": 0,
             "ticks": ""
            },
            "colorscale": [
             [
              0,
              "#0d0887"
             ],
             [
              0.1111111111111111,
              "#46039f"
             ],
             [
              0.2222222222222222,
              "#7201a8"
             ],
             [
              0.3333333333333333,
              "#9c179e"
             ],
             [
              0.4444444444444444,
              "#bd3786"
             ],
             [
              0.5555555555555556,
              "#d8576b"
             ],
             [
              0.6666666666666666,
              "#ed7953"
             ],
             [
              0.7777777777777778,
              "#fb9f3a"
             ],
             [
              0.8888888888888888,
              "#fdca26"
             ],
             [
              1,
              "#f0f921"
             ]
            ],
            "type": "heatmap"
           }
          ],
          "heatmapgl": [
           {
            "colorbar": {
             "outlinewidth": 0,
             "ticks": ""
            },
            "colorscale": [
             [
              0,
              "#0d0887"
             ],
             [
              0.1111111111111111,
              "#46039f"
             ],
             [
              0.2222222222222222,
              "#7201a8"
             ],
             [
              0.3333333333333333,
              "#9c179e"
             ],
             [
              0.4444444444444444,
              "#bd3786"
             ],
             [
              0.5555555555555556,
              "#d8576b"
             ],
             [
              0.6666666666666666,
              "#ed7953"
             ],
             [
              0.7777777777777778,
              "#fb9f3a"
             ],
             [
              0.8888888888888888,
              "#fdca26"
             ],
             [
              1,
              "#f0f921"
             ]
            ],
            "type": "heatmapgl"
           }
          ],
          "histogram": [
           {
            "marker": {
             "pattern": {
              "fillmode": "overlay",
              "size": 10,
              "solidity": 0.2
             }
            },
            "type": "histogram"
           }
          ],
          "histogram2d": [
           {
            "colorbar": {
             "outlinewidth": 0,
             "ticks": ""
            },
            "colorscale": [
             [
              0,
              "#0d0887"
             ],
             [
              0.1111111111111111,
              "#46039f"
             ],
             [
              0.2222222222222222,
              "#7201a8"
             ],
             [
              0.3333333333333333,
              "#9c179e"
             ],
             [
              0.4444444444444444,
              "#bd3786"
             ],
             [
              0.5555555555555556,
              "#d8576b"
             ],
             [
              0.6666666666666666,
              "#ed7953"
             ],
             [
              0.7777777777777778,
              "#fb9f3a"
             ],
             [
              0.8888888888888888,
              "#fdca26"
             ],
             [
              1,
              "#f0f921"
             ]
            ],
            "type": "histogram2d"
           }
          ],
          "histogram2dcontour": [
           {
            "colorbar": {
             "outlinewidth": 0,
             "ticks": ""
            },
            "colorscale": [
             [
              0,
              "#0d0887"
             ],
             [
              0.1111111111111111,
              "#46039f"
             ],
             [
              0.2222222222222222,
              "#7201a8"
             ],
             [
              0.3333333333333333,
              "#9c179e"
             ],
             [
              0.4444444444444444,
              "#bd3786"
             ],
             [
              0.5555555555555556,
              "#d8576b"
             ],
             [
              0.6666666666666666,
              "#ed7953"
             ],
             [
              0.7777777777777778,
              "#fb9f3a"
             ],
             [
              0.8888888888888888,
              "#fdca26"
             ],
             [
              1,
              "#f0f921"
             ]
            ],
            "type": "histogram2dcontour"
           }
          ],
          "mesh3d": [
           {
            "colorbar": {
             "outlinewidth": 0,
             "ticks": ""
            },
            "type": "mesh3d"
           }
          ],
          "parcoords": [
           {
            "line": {
             "colorbar": {
              "outlinewidth": 0,
              "ticks": ""
             }
            },
            "type": "parcoords"
           }
          ],
          "pie": [
           {
            "automargin": true,
            "type": "pie"
           }
          ],
          "scatter": [
           {
            "marker": {
             "line": {
              "color": "#283442"
             }
            },
            "type": "scatter"
           }
          ],
          "scatter3d": [
           {
            "line": {
             "colorbar": {
              "outlinewidth": 0,
              "ticks": ""
             }
            },
            "marker": {
             "colorbar": {
              "outlinewidth": 0,
              "ticks": ""
             }
            },
            "type": "scatter3d"
           }
          ],
          "scattercarpet": [
           {
            "marker": {
             "colorbar": {
              "outlinewidth": 0,
              "ticks": ""
             }
            },
            "type": "scattercarpet"
           }
          ],
          "scattergeo": [
           {
            "marker": {
             "colorbar": {
              "outlinewidth": 0,
              "ticks": ""
             }
            },
            "type": "scattergeo"
           }
          ],
          "scattergl": [
           {
            "marker": {
             "line": {
              "color": "#283442"
             }
            },
            "type": "scattergl"
           }
          ],
          "scattermapbox": [
           {
            "marker": {
             "colorbar": {
              "outlinewidth": 0,
              "ticks": ""
             }
            },
            "type": "scattermapbox"
           }
          ],
          "scatterpolar": [
           {
            "marker": {
             "colorbar": {
              "outlinewidth": 0,
              "ticks": ""
             }
            },
            "type": "scatterpolar"
           }
          ],
          "scatterpolargl": [
           {
            "marker": {
             "colorbar": {
              "outlinewidth": 0,
              "ticks": ""
             }
            },
            "type": "scatterpolargl"
           }
          ],
          "scatterternary": [
           {
            "marker": {
             "colorbar": {
              "outlinewidth": 0,
              "ticks": ""
             }
            },
            "type": "scatterternary"
           }
          ],
          "surface": [
           {
            "colorbar": {
             "outlinewidth": 0,
             "ticks": ""
            },
            "colorscale": [
             [
              0,
              "#0d0887"
             ],
             [
              0.1111111111111111,
              "#46039f"
             ],
             [
              0.2222222222222222,
              "#7201a8"
             ],
             [
              0.3333333333333333,
              "#9c179e"
             ],
             [
              0.4444444444444444,
              "#bd3786"
             ],
             [
              0.5555555555555556,
              "#d8576b"
             ],
             [
              0.6666666666666666,
              "#ed7953"
             ],
             [
              0.7777777777777778,
              "#fb9f3a"
             ],
             [
              0.8888888888888888,
              "#fdca26"
             ],
             [
              1,
              "#f0f921"
             ]
            ],
            "type": "surface"
           }
          ],
          "table": [
           {
            "cells": {
             "fill": {
              "color": "#506784"
             },
             "line": {
              "color": "rgb(17,17,17)"
             }
            },
            "header": {
             "fill": {
              "color": "#2a3f5f"
             },
             "line": {
              "color": "rgb(17,17,17)"
             }
            },
            "type": "table"
           }
          ]
         },
         "layout": {
          "annotationdefaults": {
           "arrowcolor": "#f2f5fa",
           "arrowhead": 0,
           "arrowwidth": 1
          },
          "autotypenumbers": "strict",
          "coloraxis": {
           "colorbar": {
            "outlinewidth": 0,
            "ticks": ""
           }
          },
          "colorscale": {
           "diverging": [
            [
             0,
             "#8e0152"
            ],
            [
             0.1,
             "#c51b7d"
            ],
            [
             0.2,
             "#de77ae"
            ],
            [
             0.3,
             "#f1b6da"
            ],
            [
             0.4,
             "#fde0ef"
            ],
            [
             0.5,
             "#f7f7f7"
            ],
            [
             0.6,
             "#e6f5d0"
            ],
            [
             0.7,
             "#b8e186"
            ],
            [
             0.8,
             "#7fbc41"
            ],
            [
             0.9,
             "#4d9221"
            ],
            [
             1,
             "#276419"
            ]
           ],
           "sequential": [
            [
             0,
             "#0d0887"
            ],
            [
             0.1111111111111111,
             "#46039f"
            ],
            [
             0.2222222222222222,
             "#7201a8"
            ],
            [
             0.3333333333333333,
             "#9c179e"
            ],
            [
             0.4444444444444444,
             "#bd3786"
            ],
            [
             0.5555555555555556,
             "#d8576b"
            ],
            [
             0.6666666666666666,
             "#ed7953"
            ],
            [
             0.7777777777777778,
             "#fb9f3a"
            ],
            [
             0.8888888888888888,
             "#fdca26"
            ],
            [
             1,
             "#f0f921"
            ]
           ],
           "sequentialminus": [
            [
             0,
             "#0d0887"
            ],
            [
             0.1111111111111111,
             "#46039f"
            ],
            [
             0.2222222222222222,
             "#7201a8"
            ],
            [
             0.3333333333333333,
             "#9c179e"
            ],
            [
             0.4444444444444444,
             "#bd3786"
            ],
            [
             0.5555555555555556,
             "#d8576b"
            ],
            [
             0.6666666666666666,
             "#ed7953"
            ],
            [
             0.7777777777777778,
             "#fb9f3a"
            ],
            [
             0.8888888888888888,
             "#fdca26"
            ],
            [
             1,
             "#f0f921"
            ]
           ]
          },
          "colorway": [
           "#636efa",
           "#EF553B",
           "#00cc96",
           "#ab63fa",
           "#FFA15A",
           "#19d3f3",
           "#FF6692",
           "#B6E880",
           "#FF97FF",
           "#FECB52"
          ],
          "font": {
           "color": "#f2f5fa"
          },
          "geo": {
           "bgcolor": "rgb(17,17,17)",
           "lakecolor": "rgb(17,17,17)",
           "landcolor": "rgb(17,17,17)",
           "showlakes": true,
           "showland": true,
           "subunitcolor": "#506784"
          },
          "hoverlabel": {
           "align": "left"
          },
          "hovermode": "closest",
          "mapbox": {
           "style": "dark"
          },
          "paper_bgcolor": "rgb(17,17,17)",
          "plot_bgcolor": "rgb(17,17,17)",
          "polar": {
           "angularaxis": {
            "gridcolor": "#506784",
            "linecolor": "#506784",
            "ticks": ""
           },
           "bgcolor": "rgb(17,17,17)",
           "radialaxis": {
            "gridcolor": "#506784",
            "linecolor": "#506784",
            "ticks": ""
           }
          },
          "scene": {
           "xaxis": {
            "backgroundcolor": "rgb(17,17,17)",
            "gridcolor": "#506784",
            "gridwidth": 2,
            "linecolor": "#506784",
            "showbackground": true,
            "ticks": "",
            "zerolinecolor": "#C8D4E3"
           },
           "yaxis": {
            "backgroundcolor": "rgb(17,17,17)",
            "gridcolor": "#506784",
            "gridwidth": 2,
            "linecolor": "#506784",
            "showbackground": true,
            "ticks": "",
            "zerolinecolor": "#C8D4E3"
           },
           "zaxis": {
            "backgroundcolor": "rgb(17,17,17)",
            "gridcolor": "#506784",
            "gridwidth": 2,
            "linecolor": "#506784",
            "showbackground": true,
            "ticks": "",
            "zerolinecolor": "#C8D4E3"
           }
          },
          "shapedefaults": {
           "line": {
            "color": "#f2f5fa"
           }
          },
          "sliderdefaults": {
           "bgcolor": "#C8D4E3",
           "bordercolor": "rgb(17,17,17)",
           "borderwidth": 1,
           "tickwidth": 0
          },
          "ternary": {
           "aaxis": {
            "gridcolor": "#506784",
            "linecolor": "#506784",
            "ticks": ""
           },
           "baxis": {
            "gridcolor": "#506784",
            "linecolor": "#506784",
            "ticks": ""
           },
           "bgcolor": "rgb(17,17,17)",
           "caxis": {
            "gridcolor": "#506784",
            "linecolor": "#506784",
            "ticks": ""
           }
          },
          "title": {
           "x": 0.05
          },
          "updatemenudefaults": {
           "bgcolor": "#506784",
           "borderwidth": 0
          },
          "xaxis": {
           "automargin": true,
           "gridcolor": "#283442",
           "linecolor": "#506784",
           "ticks": "",
           "title": {
            "standoff": 15
           },
           "zerolinecolor": "#283442",
           "zerolinewidth": 2
          },
          "yaxis": {
           "automargin": true,
           "gridcolor": "#283442",
           "linecolor": "#506784",
           "ticks": "",
           "title": {
            "standoff": 15
           },
           "zerolinecolor": "#283442",
           "zerolinewidth": 2
          }
         }
        },
        "width": 500
       }
      },
      "text/html": [
       "<div>                            <div id=\"37f850e8-e451-4425-8f40-ab0ebb7475ac\" class=\"plotly-graph-div\" style=\"height:525px; width:500px;\"></div>            <script type=\"text/javascript\">                require([\"plotly\"], function(Plotly) {                    window.PLOTLYENV=window.PLOTLYENV || {};                                    if (document.getElementById(\"37f850e8-e451-4425-8f40-ab0ebb7475ac\")) {                    Plotly.newPlot(                        \"37f850e8-e451-4425-8f40-ab0ebb7475ac\",                        [{\"mode\":\"lines\",\"name\":\"brick 0\",\"x\":[0.5,0.5,0.5,0.5,0.5,0.5,0.5,1.5,1.5,0.5,0.5,0.5,1.5,1.5,0.5,0.5,0.5,0.5,0.5,0.5,1.5,1.5,1.5,1.5,1.5,1.5,1.5,1.5,1.5,1.5,0.5],\"y\":[-0.5,-0.5,2.5,2.5,-0.5,2.5,2.5,2.5,2.5,2.5,-0.5,-0.5,-0.5,-0.5,-0.5,-0.5,-0.5,2.5,2.5,-0.5,-0.5,-0.5,2.5,2.5,-0.5,-0.5,-0.5,2.5,2.5,-0.5,-0.5],\"z\":[0.5,1.5,1.5,0.5,0.5,0.5,1.5,1.5,0.5,0.5,0.5,1.5,1.5,0.5,0.5,0.5,1.5,1.5,0.5,0.5,0.5,1.5,1.5,0.5,0.5,0.5,1.5,1.5,0.5,0.5,0.5],\"type\":\"scatter3d\"},{\"mode\":\"lines\",\"name\":\"brick 1\",\"x\":[-0.5,-0.5,-0.5,-0.5,-0.5,-0.5,-0.5,2.5,2.5,-0.5,-0.5,-0.5,2.5,2.5,-0.5,-0.5,-0.5,-0.5,-0.5,-0.5,2.5,2.5,2.5,2.5,2.5,2.5,2.5,2.5,2.5,2.5,-0.5],\"y\":[-0.5,-0.5,0.5,0.5,-0.5,0.5,0.5,0.5,0.5,0.5,-0.5,-0.5,-0.5,-0.5,-0.5,-0.5,-0.5,0.5,0.5,-0.5,-0.5,-0.5,0.5,0.5,-0.5,-0.5,-0.5,0.5,0.5,-0.5,-0.5],\"z\":[1.5,2.5,2.5,1.5,1.5,1.5,2.5,2.5,1.5,1.5,1.5,2.5,2.5,1.5,1.5,1.5,2.5,2.5,1.5,1.5,1.5,2.5,2.5,1.5,1.5,1.5,2.5,2.5,1.5,1.5,1.5],\"type\":\"scatter3d\"},{\"mode\":\"lines\",\"name\":\"brick 2\",\"x\":[-0.5,-0.5,-0.5,-0.5,-0.5,-0.5,-0.5,2.5,2.5,-0.5,-0.5,-0.5,2.5,2.5,-0.5,-0.5,-0.5,-0.5,-0.5,-0.5,2.5,2.5,2.5,2.5,2.5,2.5,2.5,2.5,2.5,2.5,-0.5],\"y\":[1.5,1.5,2.5,2.5,1.5,2.5,2.5,2.5,2.5,2.5,1.5,1.5,1.5,1.5,1.5,1.5,1.5,2.5,2.5,1.5,1.5,1.5,2.5,2.5,1.5,1.5,1.5,2.5,2.5,1.5,1.5],\"z\":[2.5,3.5,3.5,2.5,2.5,2.5,3.5,3.5,2.5,2.5,2.5,3.5,3.5,2.5,2.5,2.5,3.5,3.5,2.5,2.5,2.5,3.5,3.5,2.5,2.5,2.5,3.5,3.5,2.5,2.5,2.5],\"type\":\"scatter3d\"},{\"mode\":\"lines\",\"name\":\"brick 3\",\"x\":[-0.5,-0.5,-0.5,-0.5,-0.5,-0.5,-0.5,0.5,0.5,-0.5,-0.5,-0.5,0.5,0.5,-0.5,-0.5,-0.5,-0.5,-0.5,-0.5,0.5,0.5,0.5,0.5,0.5,0.5,0.5,0.5,0.5,0.5,-0.5],\"y\":[-0.5,-0.5,2.5,2.5,-0.5,2.5,2.5,2.5,2.5,2.5,-0.5,-0.5,-0.5,-0.5,-0.5,-0.5,-0.5,2.5,2.5,-0.5,-0.5,-0.5,2.5,2.5,-0.5,-0.5,-0.5,2.5,2.5,-0.5,-0.5],\"z\":[3.5,4.5,4.5,3.5,3.5,3.5,4.5,4.5,3.5,3.5,3.5,4.5,4.5,3.5,3.5,3.5,4.5,4.5,3.5,3.5,3.5,4.5,4.5,3.5,3.5,3.5,4.5,4.5,3.5,3.5,3.5],\"type\":\"scatter3d\"},{\"mode\":\"lines\",\"name\":\"brick 4\",\"x\":[1.5,1.5,1.5,1.5,1.5,1.5,1.5,2.5,2.5,1.5,1.5,1.5,2.5,2.5,1.5,1.5,1.5,1.5,1.5,1.5,2.5,2.5,2.5,2.5,2.5,2.5,2.5,2.5,2.5,2.5,1.5],\"y\":[-0.5,-0.5,2.5,2.5,-0.5,2.5,2.5,2.5,2.5,2.5,-0.5,-0.5,-0.5,-0.5,-0.5,-0.5,-0.5,2.5,2.5,-0.5,-0.5,-0.5,2.5,2.5,-0.5,-0.5,-0.5,2.5,2.5,-0.5,-0.5],\"z\":[4.5,5.5,5.5,4.5,4.5,4.5,5.5,5.5,4.5,4.5,4.5,5.5,5.5,4.5,4.5,4.5,5.5,5.5,4.5,4.5,4.5,5.5,5.5,4.5,4.5,4.5,5.5,5.5,4.5,4.5,4.5],\"type\":\"scatter3d\"},{\"mode\":\"lines\",\"name\":\"brick 5\",\"x\":[-0.5,-0.5,-0.5,-0.5,-0.5,-0.5,-0.5,2.5,2.5,-0.5,-0.5,-0.5,2.5,2.5,-0.5,-0.5,-0.5,-0.5,-0.5,-0.5,2.5,2.5,2.5,2.5,2.5,2.5,2.5,2.5,2.5,2.5,-0.5],\"y\":[0.5,0.5,1.5,1.5,0.5,1.5,1.5,1.5,1.5,1.5,0.5,0.5,0.5,0.5,0.5,0.5,0.5,1.5,1.5,0.5,0.5,0.5,1.5,1.5,0.5,0.5,0.5,1.5,1.5,0.5,0.5],\"z\":[5.5,6.5,6.5,5.5,5.5,5.5,6.5,6.5,5.5,5.5,5.5,6.5,6.5,5.5,5.5,5.5,6.5,6.5,5.5,5.5,5.5,6.5,6.5,5.5,5.5,5.5,6.5,6.5,5.5,5.5,5.5],\"type\":\"scatter3d\"},{\"mode\":\"lines\",\"name\":\"brick 6\",\"x\":[0.5,0.5,0.5,0.5,0.5,0.5,0.5,1.5,1.5,0.5,0.5,0.5,1.5,1.5,0.5,0.5,0.5,0.5,0.5,0.5,1.5,1.5,1.5,1.5,1.5,1.5,1.5,1.5,1.5,1.5,0.5],\"y\":[0.5,0.5,1.5,1.5,0.5,1.5,1.5,1.5,1.5,1.5,0.5,0.5,0.5,0.5,0.5,0.5,0.5,1.5,1.5,0.5,0.5,0.5,1.5,1.5,0.5,0.5,0.5,1.5,1.5,0.5,0.5],\"z\":[7.5,9.5,9.5,7.5,7.5,7.5,9.5,9.5,7.5,7.5,7.5,9.5,9.5,7.5,7.5,7.5,9.5,9.5,7.5,7.5,7.5,9.5,9.5,7.5,7.5,7.5,9.5,9.5,7.5,7.5,7.5],\"type\":\"scatter3d\"}],                        {\"template\":{\"data\":{\"barpolar\":[{\"marker\":{\"line\":{\"color\":\"rgb(17,17,17)\",\"width\":0.5},\"pattern\":{\"fillmode\":\"overlay\",\"size\":10,\"solidity\":0.2}},\"type\":\"barpolar\"}],\"bar\":[{\"error_x\":{\"color\":\"#f2f5fa\"},\"error_y\":{\"color\":\"#f2f5fa\"},\"marker\":{\"line\":{\"color\":\"rgb(17,17,17)\",\"width\":0.5},\"pattern\":{\"fillmode\":\"overlay\",\"size\":10,\"solidity\":0.2}},\"type\":\"bar\"}],\"carpet\":[{\"aaxis\":{\"endlinecolor\":\"#A2B1C6\",\"gridcolor\":\"#506784\",\"linecolor\":\"#506784\",\"minorgridcolor\":\"#506784\",\"startlinecolor\":\"#A2B1C6\"},\"baxis\":{\"endlinecolor\":\"#A2B1C6\",\"gridcolor\":\"#506784\",\"linecolor\":\"#506784\",\"minorgridcolor\":\"#506784\",\"startlinecolor\":\"#A2B1C6\"},\"type\":\"carpet\"}],\"choropleth\":[{\"colorbar\":{\"outlinewidth\":0,\"ticks\":\"\"},\"type\":\"choropleth\"}],\"contourcarpet\":[{\"colorbar\":{\"outlinewidth\":0,\"ticks\":\"\"},\"type\":\"contourcarpet\"}],\"contour\":[{\"colorbar\":{\"outlinewidth\":0,\"ticks\":\"\"},\"colorscale\":[[0.0,\"#0d0887\"],[0.1111111111111111,\"#46039f\"],[0.2222222222222222,\"#7201a8\"],[0.3333333333333333,\"#9c179e\"],[0.4444444444444444,\"#bd3786\"],[0.5555555555555556,\"#d8576b\"],[0.6666666666666666,\"#ed7953\"],[0.7777777777777778,\"#fb9f3a\"],[0.8888888888888888,\"#fdca26\"],[1.0,\"#f0f921\"]],\"type\":\"contour\"}],\"heatmapgl\":[{\"colorbar\":{\"outlinewidth\":0,\"ticks\":\"\"},\"colorscale\":[[0.0,\"#0d0887\"],[0.1111111111111111,\"#46039f\"],[0.2222222222222222,\"#7201a8\"],[0.3333333333333333,\"#9c179e\"],[0.4444444444444444,\"#bd3786\"],[0.5555555555555556,\"#d8576b\"],[0.6666666666666666,\"#ed7953\"],[0.7777777777777778,\"#fb9f3a\"],[0.8888888888888888,\"#fdca26\"],[1.0,\"#f0f921\"]],\"type\":\"heatmapgl\"}],\"heatmap\":[{\"colorbar\":{\"outlinewidth\":0,\"ticks\":\"\"},\"colorscale\":[[0.0,\"#0d0887\"],[0.1111111111111111,\"#46039f\"],[0.2222222222222222,\"#7201a8\"],[0.3333333333333333,\"#9c179e\"],[0.4444444444444444,\"#bd3786\"],[0.5555555555555556,\"#d8576b\"],[0.6666666666666666,\"#ed7953\"],[0.7777777777777778,\"#fb9f3a\"],[0.8888888888888888,\"#fdca26\"],[1.0,\"#f0f921\"]],\"type\":\"heatmap\"}],\"histogram2dcontour\":[{\"colorbar\":{\"outlinewidth\":0,\"ticks\":\"\"},\"colorscale\":[[0.0,\"#0d0887\"],[0.1111111111111111,\"#46039f\"],[0.2222222222222222,\"#7201a8\"],[0.3333333333333333,\"#9c179e\"],[0.4444444444444444,\"#bd3786\"],[0.5555555555555556,\"#d8576b\"],[0.6666666666666666,\"#ed7953\"],[0.7777777777777778,\"#fb9f3a\"],[0.8888888888888888,\"#fdca26\"],[1.0,\"#f0f921\"]],\"type\":\"histogram2dcontour\"}],\"histogram2d\":[{\"colorbar\":{\"outlinewidth\":0,\"ticks\":\"\"},\"colorscale\":[[0.0,\"#0d0887\"],[0.1111111111111111,\"#46039f\"],[0.2222222222222222,\"#7201a8\"],[0.3333333333333333,\"#9c179e\"],[0.4444444444444444,\"#bd3786\"],[0.5555555555555556,\"#d8576b\"],[0.6666666666666666,\"#ed7953\"],[0.7777777777777778,\"#fb9f3a\"],[0.8888888888888888,\"#fdca26\"],[1.0,\"#f0f921\"]],\"type\":\"histogram2d\"}],\"histogram\":[{\"marker\":{\"pattern\":{\"fillmode\":\"overlay\",\"size\":10,\"solidity\":0.2}},\"type\":\"histogram\"}],\"mesh3d\":[{\"colorbar\":{\"outlinewidth\":0,\"ticks\":\"\"},\"type\":\"mesh3d\"}],\"parcoords\":[{\"line\":{\"colorbar\":{\"outlinewidth\":0,\"ticks\":\"\"}},\"type\":\"parcoords\"}],\"pie\":[{\"automargin\":true,\"type\":\"pie\"}],\"scatter3d\":[{\"line\":{\"colorbar\":{\"outlinewidth\":0,\"ticks\":\"\"}},\"marker\":{\"colorbar\":{\"outlinewidth\":0,\"ticks\":\"\"}},\"type\":\"scatter3d\"}],\"scattercarpet\":[{\"marker\":{\"colorbar\":{\"outlinewidth\":0,\"ticks\":\"\"}},\"type\":\"scattercarpet\"}],\"scattergeo\":[{\"marker\":{\"colorbar\":{\"outlinewidth\":0,\"ticks\":\"\"}},\"type\":\"scattergeo\"}],\"scattergl\":[{\"marker\":{\"line\":{\"color\":\"#283442\"}},\"type\":\"scattergl\"}],\"scattermapbox\":[{\"marker\":{\"colorbar\":{\"outlinewidth\":0,\"ticks\":\"\"}},\"type\":\"scattermapbox\"}],\"scatterpolargl\":[{\"marker\":{\"colorbar\":{\"outlinewidth\":0,\"ticks\":\"\"}},\"type\":\"scatterpolargl\"}],\"scatterpolar\":[{\"marker\":{\"colorbar\":{\"outlinewidth\":0,\"ticks\":\"\"}},\"type\":\"scatterpolar\"}],\"scatter\":[{\"marker\":{\"line\":{\"color\":\"#283442\"}},\"type\":\"scatter\"}],\"scatterternary\":[{\"marker\":{\"colorbar\":{\"outlinewidth\":0,\"ticks\":\"\"}},\"type\":\"scatterternary\"}],\"surface\":[{\"colorbar\":{\"outlinewidth\":0,\"ticks\":\"\"},\"colorscale\":[[0.0,\"#0d0887\"],[0.1111111111111111,\"#46039f\"],[0.2222222222222222,\"#7201a8\"],[0.3333333333333333,\"#9c179e\"],[0.4444444444444444,\"#bd3786\"],[0.5555555555555556,\"#d8576b\"],[0.6666666666666666,\"#ed7953\"],[0.7777777777777778,\"#fb9f3a\"],[0.8888888888888888,\"#fdca26\"],[1.0,\"#f0f921\"]],\"type\":\"surface\"}],\"table\":[{\"cells\":{\"fill\":{\"color\":\"#506784\"},\"line\":{\"color\":\"rgb(17,17,17)\"}},\"header\":{\"fill\":{\"color\":\"#2a3f5f\"},\"line\":{\"color\":\"rgb(17,17,17)\"}},\"type\":\"table\"}]},\"layout\":{\"annotationdefaults\":{\"arrowcolor\":\"#f2f5fa\",\"arrowhead\":0,\"arrowwidth\":1},\"autotypenumbers\":\"strict\",\"coloraxis\":{\"colorbar\":{\"outlinewidth\":0,\"ticks\":\"\"}},\"colorscale\":{\"diverging\":[[0,\"#8e0152\"],[0.1,\"#c51b7d\"],[0.2,\"#de77ae\"],[0.3,\"#f1b6da\"],[0.4,\"#fde0ef\"],[0.5,\"#f7f7f7\"],[0.6,\"#e6f5d0\"],[0.7,\"#b8e186\"],[0.8,\"#7fbc41\"],[0.9,\"#4d9221\"],[1,\"#276419\"]],\"sequential\":[[0.0,\"#0d0887\"],[0.1111111111111111,\"#46039f\"],[0.2222222222222222,\"#7201a8\"],[0.3333333333333333,\"#9c179e\"],[0.4444444444444444,\"#bd3786\"],[0.5555555555555556,\"#d8576b\"],[0.6666666666666666,\"#ed7953\"],[0.7777777777777778,\"#fb9f3a\"],[0.8888888888888888,\"#fdca26\"],[1.0,\"#f0f921\"]],\"sequentialminus\":[[0.0,\"#0d0887\"],[0.1111111111111111,\"#46039f\"],[0.2222222222222222,\"#7201a8\"],[0.3333333333333333,\"#9c179e\"],[0.4444444444444444,\"#bd3786\"],[0.5555555555555556,\"#d8576b\"],[0.6666666666666666,\"#ed7953\"],[0.7777777777777778,\"#fb9f3a\"],[0.8888888888888888,\"#fdca26\"],[1.0,\"#f0f921\"]]},\"colorway\":[\"#636efa\",\"#EF553B\",\"#00cc96\",\"#ab63fa\",\"#FFA15A\",\"#19d3f3\",\"#FF6692\",\"#B6E880\",\"#FF97FF\",\"#FECB52\"],\"font\":{\"color\":\"#f2f5fa\"},\"geo\":{\"bgcolor\":\"rgb(17,17,17)\",\"lakecolor\":\"rgb(17,17,17)\",\"landcolor\":\"rgb(17,17,17)\",\"showlakes\":true,\"showland\":true,\"subunitcolor\":\"#506784\"},\"hoverlabel\":{\"align\":\"left\"},\"hovermode\":\"closest\",\"mapbox\":{\"style\":\"dark\"},\"paper_bgcolor\":\"rgb(17,17,17)\",\"plot_bgcolor\":\"rgb(17,17,17)\",\"polar\":{\"angularaxis\":{\"gridcolor\":\"#506784\",\"linecolor\":\"#506784\",\"ticks\":\"\"},\"bgcolor\":\"rgb(17,17,17)\",\"radialaxis\":{\"gridcolor\":\"#506784\",\"linecolor\":\"#506784\",\"ticks\":\"\"}},\"scene\":{\"xaxis\":{\"backgroundcolor\":\"rgb(17,17,17)\",\"gridcolor\":\"#506784\",\"gridwidth\":2,\"linecolor\":\"#506784\",\"showbackground\":true,\"ticks\":\"\",\"zerolinecolor\":\"#C8D4E3\"},\"yaxis\":{\"backgroundcolor\":\"rgb(17,17,17)\",\"gridcolor\":\"#506784\",\"gridwidth\":2,\"linecolor\":\"#506784\",\"showbackground\":true,\"ticks\":\"\",\"zerolinecolor\":\"#C8D4E3\"},\"zaxis\":{\"backgroundcolor\":\"rgb(17,17,17)\",\"gridcolor\":\"#506784\",\"gridwidth\":2,\"linecolor\":\"#506784\",\"showbackground\":true,\"ticks\":\"\",\"zerolinecolor\":\"#C8D4E3\"}},\"shapedefaults\":{\"line\":{\"color\":\"#f2f5fa\"}},\"sliderdefaults\":{\"bgcolor\":\"#C8D4E3\",\"bordercolor\":\"rgb(17,17,17)\",\"borderwidth\":1,\"tickwidth\":0},\"ternary\":{\"aaxis\":{\"gridcolor\":\"#506784\",\"linecolor\":\"#506784\",\"ticks\":\"\"},\"baxis\":{\"gridcolor\":\"#506784\",\"linecolor\":\"#506784\",\"ticks\":\"\"},\"bgcolor\":\"rgb(17,17,17)\",\"caxis\":{\"gridcolor\":\"#506784\",\"linecolor\":\"#506784\",\"ticks\":\"\"}},\"title\":{\"x\":0.05},\"updatemenudefaults\":{\"bgcolor\":\"#506784\",\"borderwidth\":0},\"xaxis\":{\"automargin\":true,\"gridcolor\":\"#283442\",\"linecolor\":\"#506784\",\"ticks\":\"\",\"title\":{\"standoff\":15},\"zerolinecolor\":\"#283442\",\"zerolinewidth\":2},\"yaxis\":{\"automargin\":true,\"gridcolor\":\"#283442\",\"linecolor\":\"#506784\",\"ticks\":\"\",\"title\":{\"standoff\":15},\"zerolinecolor\":\"#283442\",\"zerolinewidth\":2}}},\"scene\":{\"xaxis\":{\"range\":[-1.5,3.5],\"gridcolor\":\"rgb(35, 35, 35)\",\"nticks\":0},\"yaxis\":{\"range\":[-1.5,3.5],\"gridcolor\":\"rgb(35, 35, 35)\",\"nticks\":0},\"zaxis\":{\"range\":[-1,10.5],\"gridcolor\":\"rgb(35, 35, 35)\",\"nticks\":0}},\"margin\":{\"r\":5,\"l\":5,\"b\":5,\"t\":5},\"width\":500},                        {\"responsive\": true}                    ).then(function(){\n",
       "                            \n",
       "var gd = document.getElementById('37f850e8-e451-4425-8f40-ab0ebb7475ac');\n",
       "var x = new MutationObserver(function (mutations, observer) {{\n",
       "        var display = window.getComputedStyle(gd).display;\n",
       "        if (!display || display === 'none') {{\n",
       "            console.log([gd, 'removed!']);\n",
       "            Plotly.purge(gd);\n",
       "            observer.disconnect();\n",
       "        }}\n",
       "}});\n",
       "\n",
       "// Listen for the removal of the full notebook cells\n",
       "var notebookContainer = gd.closest('#notebook-container');\n",
       "if (notebookContainer) {{\n",
       "    x.observe(notebookContainer, {childList: true});\n",
       "}}\n",
       "\n",
       "// Listen for the clearing of the current output cell\n",
       "var outputEl = gd.closest('.output');\n",
       "if (outputEl) {{\n",
       "    x.observe(outputEl, {childList: true});\n",
       "}}\n",
       "\n",
       "                        })                };                });            </script>        </div>"
      ]
     },
     "metadata": {},
     "output_type": "display_data"
    }
   ],
   "source": [
    "from shapely.geometry import Polygon\n",
    "import plotly.graph_objects as go\n",
    "\n",
    "\n",
    "def plot_bricks(bricks: list[Polygon]) -> None:\n",
    "    fig = go.Figure()\n",
    "\n",
    "    # set the axes ranges\n",
    "    xmin = 0\n",
    "    xmax = 0\n",
    "    ymin = 0\n",
    "    ymax = 0\n",
    "    zmin = 0\n",
    "    zmax = 0\n",
    "\n",
    "    for i, brick in enumerate(bricks):\n",
    "        X, Y, Z = zip(*list(brick.exterior.coords))\n",
    "\n",
    "        xmin = min(xmin, min(X))\n",
    "        xmax = max(xmax, max(X))\n",
    "        ymin = min(ymin, min(Y))\n",
    "        ymax = max(ymax, max(Y))\n",
    "        zmin = min(zmin, min(Z))\n",
    "        zmax = max(zmax, max(Z))\n",
    "\n",
    "        fig.add_trace(\n",
    "            go.Scatter3d(\n",
    "                x=X,\n",
    "                y=Y,\n",
    "                z=Z,\n",
    "                mode=\"lines\",\n",
    "                name=f\"brick {i}\",\n",
    "            )\n",
    "        )\n",
    "\n",
    "    fig.update_layout(\n",
    "        template=\"plotly_dark\",\n",
    "        scene=dict(\n",
    "            xaxis=dict(\n",
    "                range=[xmin - 1, xmax + 1],\n",
    "                gridcolor=\"rgb(35, 35, 35)\",\n",
    "                nticks=0,\n",
    "            ),\n",
    "            yaxis=dict(\n",
    "                range=[ymin - 1, ymax + 1],\n",
    "                gridcolor=\"rgb(35, 35, 35)\",\n",
    "                nticks=0,\n",
    "            ),\n",
    "            zaxis=dict(\n",
    "                range=[zmin - 1, zmax + 1],\n",
    "                gridcolor=\"rgb(35, 35, 35)\",\n",
    "                nticks=0,\n",
    "            ),\n",
    "        ),\n",
    "        width=500,\n",
    "        margin=dict(r=5, l=5, b=5, t=5),\n",
    "    )\n",
    "    fig.show()\n",
    "\n",
    "\n",
    "def get_3d_vertices(x1: int, y1: int, z1: int, x2: int, y2: int, z2: int) -> list:\n",
    "    # create the six faces of a brick\n",
    "    offset = 0.5\n",
    "    return [\n",
    "        # front face\n",
    "        (x1 - offset, y1 - offset, z1 - offset),\n",
    "        (x1 - offset, y1 - offset, z2 + offset),\n",
    "        (x1 - offset, y2 + offset, z2 + offset),\n",
    "        (x1 - offset, y2 + offset, z1 - offset),\n",
    "        (x1 - offset, y1 - offset, z1 - offset),  # close the loop\n",
    "        # top face\n",
    "        (x1 - offset, y2 + offset, z1 - offset),\n",
    "        (x1 - offset, y2 + offset, z2 + offset),\n",
    "        (x2 + offset, y2 + offset, z2 + offset),\n",
    "        (x2 + offset, y2 + offset, z1 - offset),\n",
    "        (x1 - offset, y2 + offset, z1 - offset),  # close the loop\n",
    "        # bottom face\n",
    "        (x1 - offset, y1 - offset, z1 - offset),\n",
    "        (x1 - offset, y1 - offset, z2 + offset),\n",
    "        (x2 + offset, y1 - offset, z2 + offset),\n",
    "        (x2 + offset, y1 - offset, z1 - offset),\n",
    "        (x1 - offset, y1 - offset, z1 - offset),  # close the loop\n",
    "        # left face\n",
    "        (x1 - offset, y1 - offset, z1 - offset),\n",
    "        (x1 - offset, y1 - offset, z2 + offset),\n",
    "        (x1 - offset, y2 + offset, z2 + offset),\n",
    "        (x1 - offset, y2 + offset, z1 - offset),\n",
    "        (x1 - offset, y1 - offset, z1 - offset),  # close the loop\n",
    "        # right face\n",
    "        (x2 + offset, y1 - offset, z1 - offset),\n",
    "        (x2 + offset, y1 - offset, z2 + offset),\n",
    "        (x2 + offset, y2 + offset, z2 + offset),\n",
    "        (x2 + offset, y2 + offset, z1 - offset),\n",
    "        (x2 + offset, y1 - offset, z1 - offset),  # close the loop\n",
    "        # back face\n",
    "        (x2 + offset, y1 - offset, z1 - offset),\n",
    "        (x2 + offset, y1 - offset, z2 + offset),\n",
    "        (x2 + offset, y2 + offset, z2 + offset),\n",
    "        (x2 + offset, y2 + offset, z1 - offset),\n",
    "        (x2 + offset, y1 - offset, z1 - offset),  # close the loop\n",
    "        (x1 - offset, y1 - offset, z1 - offset),  # close the loop\n",
    "    ]\n",
    "\n",
    "\n",
    "def make_brick(coords1: str, coords2: str) -> list:\n",
    "    x1, y1, z1 = [int(x) for x in coords1.split(\",\")]\n",
    "    x2, y2, z2 = [int(x) for x in coords2.split(\",\")]\n",
    "\n",
    "    if x1 != x2:\n",
    "        # grows in x direction, same y/z values\n",
    "        brick_coords = get_3d_vertices(min(x1, x2), y1, z1, max(x1, x2), y1, z1)\n",
    "    elif y1 != y2:\n",
    "        # grows in y direction, same x/z values\n",
    "        brick_coords = get_3d_vertices(x1, min(y1, y2), z1, x1, max(y1, y2), z1)\n",
    "    elif z1 != z2:\n",
    "        # grows in z direction, same x/y values\n",
    "        brick_coords = get_3d_vertices(x1, y1, min(z1, z2), x1, y1, max(z1, z2))\n",
    "    else:\n",
    "        # Handle the case where the brick doesn't extend in any direction (it's a single cube)\n",
    "        brick_coords = get_3d_vertices(x1, y1, z1, x2, y2, z2)\n",
    "\n",
    "    return Polygon(brick_coords)\n",
    "\n",
    "\n",
    "def make_bricks(inputs: list[str]):\n",
    "    bricks = []\n",
    "    for line in inputs:\n",
    "        coords1, coords2 = line.split(\"~\")\n",
    "        brick = make_brick(coords1, coords2)\n",
    "        bricks.append(brick)\n",
    "    return bricks\n",
    "\n",
    "\n",
    "test_input = \"\"\"\n",
    "1,0,1~1,2,1\n",
    "0,0,2~2,0,2\n",
    "0,2,3~2,2,3\n",
    "0,0,4~0,2,4\n",
    "2,0,5~2,2,5\n",
    "0,1,6~2,1,6\n",
    "1,1,8~1,1,9\"\"\".strip().splitlines()\n",
    "\n",
    "test_bricks = make_bricks(test_input)\n",
    "plot_bricks(test_bricks)"
   ]
  },
  {
   "cell_type": "code",
   "execution_count": 80,
   "metadata": {},
   "outputs": [
    {
     "data": {
      "application/vnd.plotly.v1+json": {
       "config": {
        "plotlyServerURL": "https://plot.ly"
       },
       "data": [
        {
         "mode": "lines",
         "name": "brick 0",
         "type": "scatter3d",
         "x": [
          0.5,
          0.5,
          0.5,
          0.5,
          0.5,
          0.5,
          0.5,
          1.5,
          1.5,
          0.5,
          0.5,
          0.5,
          1.5,
          1.5,
          0.5,
          0.5,
          0.5,
          0.5,
          0.5,
          0.5,
          1.5,
          1.5,
          1.5,
          1.5,
          1.5,
          1.5,
          1.5,
          1.5,
          1.5,
          1.5,
          0.5
         ],
         "y": [
          -0.5,
          -0.5,
          2.5,
          2.5,
          -0.5,
          2.5,
          2.5,
          2.5,
          2.5,
          2.5,
          -0.5,
          -0.5,
          -0.5,
          -0.5,
          -0.5,
          -0.5,
          -0.5,
          2.5,
          2.5,
          -0.5,
          -0.5,
          -0.5,
          2.5,
          2.5,
          -0.5,
          -0.5,
          -0.5,
          2.5,
          2.5,
          -0.5,
          -0.5
         ],
         "z": [
          0.5,
          1.5,
          1.5,
          0.5,
          0.5,
          0.5,
          1.5,
          1.5,
          0.5,
          0.5,
          0.5,
          1.5,
          1.5,
          0.5,
          0.5,
          0.5,
          1.5,
          1.5,
          0.5,
          0.5,
          0.5,
          1.5,
          1.5,
          0.5,
          0.5,
          0.5,
          1.5,
          1.5,
          0.5,
          0.5,
          0.5
         ]
        },
        {
         "mode": "lines",
         "name": "brick 1",
         "type": "scatter3d",
         "x": [
          -0.5,
          -0.5,
          -0.5,
          -0.5,
          -0.5,
          -0.5,
          -0.5,
          2.5,
          2.5,
          -0.5,
          -0.5,
          -0.5,
          2.5,
          2.5,
          -0.5,
          -0.5,
          -0.5,
          -0.5,
          -0.5,
          -0.5,
          2.5,
          2.5,
          2.5,
          2.5,
          2.5,
          2.5,
          2.5,
          2.5,
          2.5,
          2.5,
          -0.5
         ],
         "y": [
          1.5,
          1.5,
          2.5,
          2.5,
          1.5,
          2.5,
          2.5,
          2.5,
          2.5,
          2.5,
          1.5,
          1.5,
          1.5,
          1.5,
          1.5,
          1.5,
          1.5,
          2.5,
          2.5,
          1.5,
          1.5,
          1.5,
          2.5,
          2.5,
          1.5,
          1.5,
          1.5,
          2.5,
          2.5,
          1.5,
          1.5
         ],
         "z": [
          2.5,
          3.5,
          3.5,
          2.5,
          2.5,
          2.5,
          3.5,
          3.5,
          2.5,
          2.5,
          2.5,
          3.5,
          3.5,
          2.5,
          2.5,
          2.5,
          3.5,
          3.5,
          2.5,
          2.5,
          2.5,
          3.5,
          3.5,
          2.5,
          2.5,
          2.5,
          3.5,
          3.5,
          2.5,
          2.5,
          2.5
         ]
        }
       ],
       "layout": {
        "margin": {
         "b": 5,
         "l": 5,
         "r": 5,
         "t": 5
        },
        "scene": {
         "xaxis": {
          "gridcolor": "rgb(35, 35, 35)",
          "nticks": 0,
          "range": [
           -1.5,
           3.5
          ]
         },
         "yaxis": {
          "gridcolor": "rgb(35, 35, 35)",
          "nticks": 0,
          "range": [
           -1.5,
           3.5
          ]
         },
         "zaxis": {
          "gridcolor": "rgb(35, 35, 35)",
          "nticks": 0,
          "range": [
           -1,
           4.5
          ]
         }
        },
        "template": {
         "data": {
          "bar": [
           {
            "error_x": {
             "color": "#f2f5fa"
            },
            "error_y": {
             "color": "#f2f5fa"
            },
            "marker": {
             "line": {
              "color": "rgb(17,17,17)",
              "width": 0.5
             },
             "pattern": {
              "fillmode": "overlay",
              "size": 10,
              "solidity": 0.2
             }
            },
            "type": "bar"
           }
          ],
          "barpolar": [
           {
            "marker": {
             "line": {
              "color": "rgb(17,17,17)",
              "width": 0.5
             },
             "pattern": {
              "fillmode": "overlay",
              "size": 10,
              "solidity": 0.2
             }
            },
            "type": "barpolar"
           }
          ],
          "carpet": [
           {
            "aaxis": {
             "endlinecolor": "#A2B1C6",
             "gridcolor": "#506784",
             "linecolor": "#506784",
             "minorgridcolor": "#506784",
             "startlinecolor": "#A2B1C6"
            },
            "baxis": {
             "endlinecolor": "#A2B1C6",
             "gridcolor": "#506784",
             "linecolor": "#506784",
             "minorgridcolor": "#506784",
             "startlinecolor": "#A2B1C6"
            },
            "type": "carpet"
           }
          ],
          "choropleth": [
           {
            "colorbar": {
             "outlinewidth": 0,
             "ticks": ""
            },
            "type": "choropleth"
           }
          ],
          "contour": [
           {
            "colorbar": {
             "outlinewidth": 0,
             "ticks": ""
            },
            "colorscale": [
             [
              0,
              "#0d0887"
             ],
             [
              0.1111111111111111,
              "#46039f"
             ],
             [
              0.2222222222222222,
              "#7201a8"
             ],
             [
              0.3333333333333333,
              "#9c179e"
             ],
             [
              0.4444444444444444,
              "#bd3786"
             ],
             [
              0.5555555555555556,
              "#d8576b"
             ],
             [
              0.6666666666666666,
              "#ed7953"
             ],
             [
              0.7777777777777778,
              "#fb9f3a"
             ],
             [
              0.8888888888888888,
              "#fdca26"
             ],
             [
              1,
              "#f0f921"
             ]
            ],
            "type": "contour"
           }
          ],
          "contourcarpet": [
           {
            "colorbar": {
             "outlinewidth": 0,
             "ticks": ""
            },
            "type": "contourcarpet"
           }
          ],
          "heatmap": [
           {
            "colorbar": {
             "outlinewidth": 0,
             "ticks": ""
            },
            "colorscale": [
             [
              0,
              "#0d0887"
             ],
             [
              0.1111111111111111,
              "#46039f"
             ],
             [
              0.2222222222222222,
              "#7201a8"
             ],
             [
              0.3333333333333333,
              "#9c179e"
             ],
             [
              0.4444444444444444,
              "#bd3786"
             ],
             [
              0.5555555555555556,
              "#d8576b"
             ],
             [
              0.6666666666666666,
              "#ed7953"
             ],
             [
              0.7777777777777778,
              "#fb9f3a"
             ],
             [
              0.8888888888888888,
              "#fdca26"
             ],
             [
              1,
              "#f0f921"
             ]
            ],
            "type": "heatmap"
           }
          ],
          "heatmapgl": [
           {
            "colorbar": {
             "outlinewidth": 0,
             "ticks": ""
            },
            "colorscale": [
             [
              0,
              "#0d0887"
             ],
             [
              0.1111111111111111,
              "#46039f"
             ],
             [
              0.2222222222222222,
              "#7201a8"
             ],
             [
              0.3333333333333333,
              "#9c179e"
             ],
             [
              0.4444444444444444,
              "#bd3786"
             ],
             [
              0.5555555555555556,
              "#d8576b"
             ],
             [
              0.6666666666666666,
              "#ed7953"
             ],
             [
              0.7777777777777778,
              "#fb9f3a"
             ],
             [
              0.8888888888888888,
              "#fdca26"
             ],
             [
              1,
              "#f0f921"
             ]
            ],
            "type": "heatmapgl"
           }
          ],
          "histogram": [
           {
            "marker": {
             "pattern": {
              "fillmode": "overlay",
              "size": 10,
              "solidity": 0.2
             }
            },
            "type": "histogram"
           }
          ],
          "histogram2d": [
           {
            "colorbar": {
             "outlinewidth": 0,
             "ticks": ""
            },
            "colorscale": [
             [
              0,
              "#0d0887"
             ],
             [
              0.1111111111111111,
              "#46039f"
             ],
             [
              0.2222222222222222,
              "#7201a8"
             ],
             [
              0.3333333333333333,
              "#9c179e"
             ],
             [
              0.4444444444444444,
              "#bd3786"
             ],
             [
              0.5555555555555556,
              "#d8576b"
             ],
             [
              0.6666666666666666,
              "#ed7953"
             ],
             [
              0.7777777777777778,
              "#fb9f3a"
             ],
             [
              0.8888888888888888,
              "#fdca26"
             ],
             [
              1,
              "#f0f921"
             ]
            ],
            "type": "histogram2d"
           }
          ],
          "histogram2dcontour": [
           {
            "colorbar": {
             "outlinewidth": 0,
             "ticks": ""
            },
            "colorscale": [
             [
              0,
              "#0d0887"
             ],
             [
              0.1111111111111111,
              "#46039f"
             ],
             [
              0.2222222222222222,
              "#7201a8"
             ],
             [
              0.3333333333333333,
              "#9c179e"
             ],
             [
              0.4444444444444444,
              "#bd3786"
             ],
             [
              0.5555555555555556,
              "#d8576b"
             ],
             [
              0.6666666666666666,
              "#ed7953"
             ],
             [
              0.7777777777777778,
              "#fb9f3a"
             ],
             [
              0.8888888888888888,
              "#fdca26"
             ],
             [
              1,
              "#f0f921"
             ]
            ],
            "type": "histogram2dcontour"
           }
          ],
          "mesh3d": [
           {
            "colorbar": {
             "outlinewidth": 0,
             "ticks": ""
            },
            "type": "mesh3d"
           }
          ],
          "parcoords": [
           {
            "line": {
             "colorbar": {
              "outlinewidth": 0,
              "ticks": ""
             }
            },
            "type": "parcoords"
           }
          ],
          "pie": [
           {
            "automargin": true,
            "type": "pie"
           }
          ],
          "scatter": [
           {
            "marker": {
             "line": {
              "color": "#283442"
             }
            },
            "type": "scatter"
           }
          ],
          "scatter3d": [
           {
            "line": {
             "colorbar": {
              "outlinewidth": 0,
              "ticks": ""
             }
            },
            "marker": {
             "colorbar": {
              "outlinewidth": 0,
              "ticks": ""
             }
            },
            "type": "scatter3d"
           }
          ],
          "scattercarpet": [
           {
            "marker": {
             "colorbar": {
              "outlinewidth": 0,
              "ticks": ""
             }
            },
            "type": "scattercarpet"
           }
          ],
          "scattergeo": [
           {
            "marker": {
             "colorbar": {
              "outlinewidth": 0,
              "ticks": ""
             }
            },
            "type": "scattergeo"
           }
          ],
          "scattergl": [
           {
            "marker": {
             "line": {
              "color": "#283442"
             }
            },
            "type": "scattergl"
           }
          ],
          "scattermapbox": [
           {
            "marker": {
             "colorbar": {
              "outlinewidth": 0,
              "ticks": ""
             }
            },
            "type": "scattermapbox"
           }
          ],
          "scatterpolar": [
           {
            "marker": {
             "colorbar": {
              "outlinewidth": 0,
              "ticks": ""
             }
            },
            "type": "scatterpolar"
           }
          ],
          "scatterpolargl": [
           {
            "marker": {
             "colorbar": {
              "outlinewidth": 0,
              "ticks": ""
             }
            },
            "type": "scatterpolargl"
           }
          ],
          "scatterternary": [
           {
            "marker": {
             "colorbar": {
              "outlinewidth": 0,
              "ticks": ""
             }
            },
            "type": "scatterternary"
           }
          ],
          "surface": [
           {
            "colorbar": {
             "outlinewidth": 0,
             "ticks": ""
            },
            "colorscale": [
             [
              0,
              "#0d0887"
             ],
             [
              0.1111111111111111,
              "#46039f"
             ],
             [
              0.2222222222222222,
              "#7201a8"
             ],
             [
              0.3333333333333333,
              "#9c179e"
             ],
             [
              0.4444444444444444,
              "#bd3786"
             ],
             [
              0.5555555555555556,
              "#d8576b"
             ],
             [
              0.6666666666666666,
              "#ed7953"
             ],
             [
              0.7777777777777778,
              "#fb9f3a"
             ],
             [
              0.8888888888888888,
              "#fdca26"
             ],
             [
              1,
              "#f0f921"
             ]
            ],
            "type": "surface"
           }
          ],
          "table": [
           {
            "cells": {
             "fill": {
              "color": "#506784"
             },
             "line": {
              "color": "rgb(17,17,17)"
             }
            },
            "header": {
             "fill": {
              "color": "#2a3f5f"
             },
             "line": {
              "color": "rgb(17,17,17)"
             }
            },
            "type": "table"
           }
          ]
         },
         "layout": {
          "annotationdefaults": {
           "arrowcolor": "#f2f5fa",
           "arrowhead": 0,
           "arrowwidth": 1
          },
          "autotypenumbers": "strict",
          "coloraxis": {
           "colorbar": {
            "outlinewidth": 0,
            "ticks": ""
           }
          },
          "colorscale": {
           "diverging": [
            [
             0,
             "#8e0152"
            ],
            [
             0.1,
             "#c51b7d"
            ],
            [
             0.2,
             "#de77ae"
            ],
            [
             0.3,
             "#f1b6da"
            ],
            [
             0.4,
             "#fde0ef"
            ],
            [
             0.5,
             "#f7f7f7"
            ],
            [
             0.6,
             "#e6f5d0"
            ],
            [
             0.7,
             "#b8e186"
            ],
            [
             0.8,
             "#7fbc41"
            ],
            [
             0.9,
             "#4d9221"
            ],
            [
             1,
             "#276419"
            ]
           ],
           "sequential": [
            [
             0,
             "#0d0887"
            ],
            [
             0.1111111111111111,
             "#46039f"
            ],
            [
             0.2222222222222222,
             "#7201a8"
            ],
            [
             0.3333333333333333,
             "#9c179e"
            ],
            [
             0.4444444444444444,
             "#bd3786"
            ],
            [
             0.5555555555555556,
             "#d8576b"
            ],
            [
             0.6666666666666666,
             "#ed7953"
            ],
            [
             0.7777777777777778,
             "#fb9f3a"
            ],
            [
             0.8888888888888888,
             "#fdca26"
            ],
            [
             1,
             "#f0f921"
            ]
           ],
           "sequentialminus": [
            [
             0,
             "#0d0887"
            ],
            [
             0.1111111111111111,
             "#46039f"
            ],
            [
             0.2222222222222222,
             "#7201a8"
            ],
            [
             0.3333333333333333,
             "#9c179e"
            ],
            [
             0.4444444444444444,
             "#bd3786"
            ],
            [
             0.5555555555555556,
             "#d8576b"
            ],
            [
             0.6666666666666666,
             "#ed7953"
            ],
            [
             0.7777777777777778,
             "#fb9f3a"
            ],
            [
             0.8888888888888888,
             "#fdca26"
            ],
            [
             1,
             "#f0f921"
            ]
           ]
          },
          "colorway": [
           "#636efa",
           "#EF553B",
           "#00cc96",
           "#ab63fa",
           "#FFA15A",
           "#19d3f3",
           "#FF6692",
           "#B6E880",
           "#FF97FF",
           "#FECB52"
          ],
          "font": {
           "color": "#f2f5fa"
          },
          "geo": {
           "bgcolor": "rgb(17,17,17)",
           "lakecolor": "rgb(17,17,17)",
           "landcolor": "rgb(17,17,17)",
           "showlakes": true,
           "showland": true,
           "subunitcolor": "#506784"
          },
          "hoverlabel": {
           "align": "left"
          },
          "hovermode": "closest",
          "mapbox": {
           "style": "dark"
          },
          "paper_bgcolor": "rgb(17,17,17)",
          "plot_bgcolor": "rgb(17,17,17)",
          "polar": {
           "angularaxis": {
            "gridcolor": "#506784",
            "linecolor": "#506784",
            "ticks": ""
           },
           "bgcolor": "rgb(17,17,17)",
           "radialaxis": {
            "gridcolor": "#506784",
            "linecolor": "#506784",
            "ticks": ""
           }
          },
          "scene": {
           "xaxis": {
            "backgroundcolor": "rgb(17,17,17)",
            "gridcolor": "#506784",
            "gridwidth": 2,
            "linecolor": "#506784",
            "showbackground": true,
            "ticks": "",
            "zerolinecolor": "#C8D4E3"
           },
           "yaxis": {
            "backgroundcolor": "rgb(17,17,17)",
            "gridcolor": "#506784",
            "gridwidth": 2,
            "linecolor": "#506784",
            "showbackground": true,
            "ticks": "",
            "zerolinecolor": "#C8D4E3"
           },
           "zaxis": {
            "backgroundcolor": "rgb(17,17,17)",
            "gridcolor": "#506784",
            "gridwidth": 2,
            "linecolor": "#506784",
            "showbackground": true,
            "ticks": "",
            "zerolinecolor": "#C8D4E3"
           }
          },
          "shapedefaults": {
           "line": {
            "color": "#f2f5fa"
           }
          },
          "sliderdefaults": {
           "bgcolor": "#C8D4E3",
           "bordercolor": "rgb(17,17,17)",
           "borderwidth": 1,
           "tickwidth": 0
          },
          "ternary": {
           "aaxis": {
            "gridcolor": "#506784",
            "linecolor": "#506784",
            "ticks": ""
           },
           "baxis": {
            "gridcolor": "#506784",
            "linecolor": "#506784",
            "ticks": ""
           },
           "bgcolor": "rgb(17,17,17)",
           "caxis": {
            "gridcolor": "#506784",
            "linecolor": "#506784",
            "ticks": ""
           }
          },
          "title": {
           "x": 0.05
          },
          "updatemenudefaults": {
           "bgcolor": "#506784",
           "borderwidth": 0
          },
          "xaxis": {
           "automargin": true,
           "gridcolor": "#283442",
           "linecolor": "#506784",
           "ticks": "",
           "title": {
            "standoff": 15
           },
           "zerolinecolor": "#283442",
           "zerolinewidth": 2
          },
          "yaxis": {
           "automargin": true,
           "gridcolor": "#283442",
           "linecolor": "#506784",
           "ticks": "",
           "title": {
            "standoff": 15
           },
           "zerolinecolor": "#283442",
           "zerolinewidth": 2
          }
         }
        },
        "width": 500
       }
      },
      "text/html": [
       "<div>                            <div id=\"96b4b6b8-7764-4ef8-98a0-a785929096a0\" class=\"plotly-graph-div\" style=\"height:525px; width:500px;\"></div>            <script type=\"text/javascript\">                require([\"plotly\"], function(Plotly) {                    window.PLOTLYENV=window.PLOTLYENV || {};                                    if (document.getElementById(\"96b4b6b8-7764-4ef8-98a0-a785929096a0\")) {                    Plotly.newPlot(                        \"96b4b6b8-7764-4ef8-98a0-a785929096a0\",                        [{\"mode\":\"lines\",\"name\":\"brick 0\",\"x\":[0.5,0.5,0.5,0.5,0.5,0.5,0.5,1.5,1.5,0.5,0.5,0.5,1.5,1.5,0.5,0.5,0.5,0.5,0.5,0.5,1.5,1.5,1.5,1.5,1.5,1.5,1.5,1.5,1.5,1.5,0.5],\"y\":[-0.5,-0.5,2.5,2.5,-0.5,2.5,2.5,2.5,2.5,2.5,-0.5,-0.5,-0.5,-0.5,-0.5,-0.5,-0.5,2.5,2.5,-0.5,-0.5,-0.5,2.5,2.5,-0.5,-0.5,-0.5,2.5,2.5,-0.5,-0.5],\"z\":[0.5,1.5,1.5,0.5,0.5,0.5,1.5,1.5,0.5,0.5,0.5,1.5,1.5,0.5,0.5,0.5,1.5,1.5,0.5,0.5,0.5,1.5,1.5,0.5,0.5,0.5,1.5,1.5,0.5,0.5,0.5],\"type\":\"scatter3d\"},{\"mode\":\"lines\",\"name\":\"brick 1\",\"x\":[-0.5,-0.5,-0.5,-0.5,-0.5,-0.5,-0.5,2.5,2.5,-0.5,-0.5,-0.5,2.5,2.5,-0.5,-0.5,-0.5,-0.5,-0.5,-0.5,2.5,2.5,2.5,2.5,2.5,2.5,2.5,2.5,2.5,2.5,-0.5],\"y\":[1.5,1.5,2.5,2.5,1.5,2.5,2.5,2.5,2.5,2.5,1.5,1.5,1.5,1.5,1.5,1.5,1.5,2.5,2.5,1.5,1.5,1.5,2.5,2.5,1.5,1.5,1.5,2.5,2.5,1.5,1.5],\"z\":[2.5,3.5,3.5,2.5,2.5,2.5,3.5,3.5,2.5,2.5,2.5,3.5,3.5,2.5,2.5,2.5,3.5,3.5,2.5,2.5,2.5,3.5,3.5,2.5,2.5,2.5,3.5,3.5,2.5,2.5,2.5],\"type\":\"scatter3d\"}],                        {\"template\":{\"data\":{\"barpolar\":[{\"marker\":{\"line\":{\"color\":\"rgb(17,17,17)\",\"width\":0.5},\"pattern\":{\"fillmode\":\"overlay\",\"size\":10,\"solidity\":0.2}},\"type\":\"barpolar\"}],\"bar\":[{\"error_x\":{\"color\":\"#f2f5fa\"},\"error_y\":{\"color\":\"#f2f5fa\"},\"marker\":{\"line\":{\"color\":\"rgb(17,17,17)\",\"width\":0.5},\"pattern\":{\"fillmode\":\"overlay\",\"size\":10,\"solidity\":0.2}},\"type\":\"bar\"}],\"carpet\":[{\"aaxis\":{\"endlinecolor\":\"#A2B1C6\",\"gridcolor\":\"#506784\",\"linecolor\":\"#506784\",\"minorgridcolor\":\"#506784\",\"startlinecolor\":\"#A2B1C6\"},\"baxis\":{\"endlinecolor\":\"#A2B1C6\",\"gridcolor\":\"#506784\",\"linecolor\":\"#506784\",\"minorgridcolor\":\"#506784\",\"startlinecolor\":\"#A2B1C6\"},\"type\":\"carpet\"}],\"choropleth\":[{\"colorbar\":{\"outlinewidth\":0,\"ticks\":\"\"},\"type\":\"choropleth\"}],\"contourcarpet\":[{\"colorbar\":{\"outlinewidth\":0,\"ticks\":\"\"},\"type\":\"contourcarpet\"}],\"contour\":[{\"colorbar\":{\"outlinewidth\":0,\"ticks\":\"\"},\"colorscale\":[[0.0,\"#0d0887\"],[0.1111111111111111,\"#46039f\"],[0.2222222222222222,\"#7201a8\"],[0.3333333333333333,\"#9c179e\"],[0.4444444444444444,\"#bd3786\"],[0.5555555555555556,\"#d8576b\"],[0.6666666666666666,\"#ed7953\"],[0.7777777777777778,\"#fb9f3a\"],[0.8888888888888888,\"#fdca26\"],[1.0,\"#f0f921\"]],\"type\":\"contour\"}],\"heatmapgl\":[{\"colorbar\":{\"outlinewidth\":0,\"ticks\":\"\"},\"colorscale\":[[0.0,\"#0d0887\"],[0.1111111111111111,\"#46039f\"],[0.2222222222222222,\"#7201a8\"],[0.3333333333333333,\"#9c179e\"],[0.4444444444444444,\"#bd3786\"],[0.5555555555555556,\"#d8576b\"],[0.6666666666666666,\"#ed7953\"],[0.7777777777777778,\"#fb9f3a\"],[0.8888888888888888,\"#fdca26\"],[1.0,\"#f0f921\"]],\"type\":\"heatmapgl\"}],\"heatmap\":[{\"colorbar\":{\"outlinewidth\":0,\"ticks\":\"\"},\"colorscale\":[[0.0,\"#0d0887\"],[0.1111111111111111,\"#46039f\"],[0.2222222222222222,\"#7201a8\"],[0.3333333333333333,\"#9c179e\"],[0.4444444444444444,\"#bd3786\"],[0.5555555555555556,\"#d8576b\"],[0.6666666666666666,\"#ed7953\"],[0.7777777777777778,\"#fb9f3a\"],[0.8888888888888888,\"#fdca26\"],[1.0,\"#f0f921\"]],\"type\":\"heatmap\"}],\"histogram2dcontour\":[{\"colorbar\":{\"outlinewidth\":0,\"ticks\":\"\"},\"colorscale\":[[0.0,\"#0d0887\"],[0.1111111111111111,\"#46039f\"],[0.2222222222222222,\"#7201a8\"],[0.3333333333333333,\"#9c179e\"],[0.4444444444444444,\"#bd3786\"],[0.5555555555555556,\"#d8576b\"],[0.6666666666666666,\"#ed7953\"],[0.7777777777777778,\"#fb9f3a\"],[0.8888888888888888,\"#fdca26\"],[1.0,\"#f0f921\"]],\"type\":\"histogram2dcontour\"}],\"histogram2d\":[{\"colorbar\":{\"outlinewidth\":0,\"ticks\":\"\"},\"colorscale\":[[0.0,\"#0d0887\"],[0.1111111111111111,\"#46039f\"],[0.2222222222222222,\"#7201a8\"],[0.3333333333333333,\"#9c179e\"],[0.4444444444444444,\"#bd3786\"],[0.5555555555555556,\"#d8576b\"],[0.6666666666666666,\"#ed7953\"],[0.7777777777777778,\"#fb9f3a\"],[0.8888888888888888,\"#fdca26\"],[1.0,\"#f0f921\"]],\"type\":\"histogram2d\"}],\"histogram\":[{\"marker\":{\"pattern\":{\"fillmode\":\"overlay\",\"size\":10,\"solidity\":0.2}},\"type\":\"histogram\"}],\"mesh3d\":[{\"colorbar\":{\"outlinewidth\":0,\"ticks\":\"\"},\"type\":\"mesh3d\"}],\"parcoords\":[{\"line\":{\"colorbar\":{\"outlinewidth\":0,\"ticks\":\"\"}},\"type\":\"parcoords\"}],\"pie\":[{\"automargin\":true,\"type\":\"pie\"}],\"scatter3d\":[{\"line\":{\"colorbar\":{\"outlinewidth\":0,\"ticks\":\"\"}},\"marker\":{\"colorbar\":{\"outlinewidth\":0,\"ticks\":\"\"}},\"type\":\"scatter3d\"}],\"scattercarpet\":[{\"marker\":{\"colorbar\":{\"outlinewidth\":0,\"ticks\":\"\"}},\"type\":\"scattercarpet\"}],\"scattergeo\":[{\"marker\":{\"colorbar\":{\"outlinewidth\":0,\"ticks\":\"\"}},\"type\":\"scattergeo\"}],\"scattergl\":[{\"marker\":{\"line\":{\"color\":\"#283442\"}},\"type\":\"scattergl\"}],\"scattermapbox\":[{\"marker\":{\"colorbar\":{\"outlinewidth\":0,\"ticks\":\"\"}},\"type\":\"scattermapbox\"}],\"scatterpolargl\":[{\"marker\":{\"colorbar\":{\"outlinewidth\":0,\"ticks\":\"\"}},\"type\":\"scatterpolargl\"}],\"scatterpolar\":[{\"marker\":{\"colorbar\":{\"outlinewidth\":0,\"ticks\":\"\"}},\"type\":\"scatterpolar\"}],\"scatter\":[{\"marker\":{\"line\":{\"color\":\"#283442\"}},\"type\":\"scatter\"}],\"scatterternary\":[{\"marker\":{\"colorbar\":{\"outlinewidth\":0,\"ticks\":\"\"}},\"type\":\"scatterternary\"}],\"surface\":[{\"colorbar\":{\"outlinewidth\":0,\"ticks\":\"\"},\"colorscale\":[[0.0,\"#0d0887\"],[0.1111111111111111,\"#46039f\"],[0.2222222222222222,\"#7201a8\"],[0.3333333333333333,\"#9c179e\"],[0.4444444444444444,\"#bd3786\"],[0.5555555555555556,\"#d8576b\"],[0.6666666666666666,\"#ed7953\"],[0.7777777777777778,\"#fb9f3a\"],[0.8888888888888888,\"#fdca26\"],[1.0,\"#f0f921\"]],\"type\":\"surface\"}],\"table\":[{\"cells\":{\"fill\":{\"color\":\"#506784\"},\"line\":{\"color\":\"rgb(17,17,17)\"}},\"header\":{\"fill\":{\"color\":\"#2a3f5f\"},\"line\":{\"color\":\"rgb(17,17,17)\"}},\"type\":\"table\"}]},\"layout\":{\"annotationdefaults\":{\"arrowcolor\":\"#f2f5fa\",\"arrowhead\":0,\"arrowwidth\":1},\"autotypenumbers\":\"strict\",\"coloraxis\":{\"colorbar\":{\"outlinewidth\":0,\"ticks\":\"\"}},\"colorscale\":{\"diverging\":[[0,\"#8e0152\"],[0.1,\"#c51b7d\"],[0.2,\"#de77ae\"],[0.3,\"#f1b6da\"],[0.4,\"#fde0ef\"],[0.5,\"#f7f7f7\"],[0.6,\"#e6f5d0\"],[0.7,\"#b8e186\"],[0.8,\"#7fbc41\"],[0.9,\"#4d9221\"],[1,\"#276419\"]],\"sequential\":[[0.0,\"#0d0887\"],[0.1111111111111111,\"#46039f\"],[0.2222222222222222,\"#7201a8\"],[0.3333333333333333,\"#9c179e\"],[0.4444444444444444,\"#bd3786\"],[0.5555555555555556,\"#d8576b\"],[0.6666666666666666,\"#ed7953\"],[0.7777777777777778,\"#fb9f3a\"],[0.8888888888888888,\"#fdca26\"],[1.0,\"#f0f921\"]],\"sequentialminus\":[[0.0,\"#0d0887\"],[0.1111111111111111,\"#46039f\"],[0.2222222222222222,\"#7201a8\"],[0.3333333333333333,\"#9c179e\"],[0.4444444444444444,\"#bd3786\"],[0.5555555555555556,\"#d8576b\"],[0.6666666666666666,\"#ed7953\"],[0.7777777777777778,\"#fb9f3a\"],[0.8888888888888888,\"#fdca26\"],[1.0,\"#f0f921\"]]},\"colorway\":[\"#636efa\",\"#EF553B\",\"#00cc96\",\"#ab63fa\",\"#FFA15A\",\"#19d3f3\",\"#FF6692\",\"#B6E880\",\"#FF97FF\",\"#FECB52\"],\"font\":{\"color\":\"#f2f5fa\"},\"geo\":{\"bgcolor\":\"rgb(17,17,17)\",\"lakecolor\":\"rgb(17,17,17)\",\"landcolor\":\"rgb(17,17,17)\",\"showlakes\":true,\"showland\":true,\"subunitcolor\":\"#506784\"},\"hoverlabel\":{\"align\":\"left\"},\"hovermode\":\"closest\",\"mapbox\":{\"style\":\"dark\"},\"paper_bgcolor\":\"rgb(17,17,17)\",\"plot_bgcolor\":\"rgb(17,17,17)\",\"polar\":{\"angularaxis\":{\"gridcolor\":\"#506784\",\"linecolor\":\"#506784\",\"ticks\":\"\"},\"bgcolor\":\"rgb(17,17,17)\",\"radialaxis\":{\"gridcolor\":\"#506784\",\"linecolor\":\"#506784\",\"ticks\":\"\"}},\"scene\":{\"xaxis\":{\"backgroundcolor\":\"rgb(17,17,17)\",\"gridcolor\":\"#506784\",\"gridwidth\":2,\"linecolor\":\"#506784\",\"showbackground\":true,\"ticks\":\"\",\"zerolinecolor\":\"#C8D4E3\"},\"yaxis\":{\"backgroundcolor\":\"rgb(17,17,17)\",\"gridcolor\":\"#506784\",\"gridwidth\":2,\"linecolor\":\"#506784\",\"showbackground\":true,\"ticks\":\"\",\"zerolinecolor\":\"#C8D4E3\"},\"zaxis\":{\"backgroundcolor\":\"rgb(17,17,17)\",\"gridcolor\":\"#506784\",\"gridwidth\":2,\"linecolor\":\"#506784\",\"showbackground\":true,\"ticks\":\"\",\"zerolinecolor\":\"#C8D4E3\"}},\"shapedefaults\":{\"line\":{\"color\":\"#f2f5fa\"}},\"sliderdefaults\":{\"bgcolor\":\"#C8D4E3\",\"bordercolor\":\"rgb(17,17,17)\",\"borderwidth\":1,\"tickwidth\":0},\"ternary\":{\"aaxis\":{\"gridcolor\":\"#506784\",\"linecolor\":\"#506784\",\"ticks\":\"\"},\"baxis\":{\"gridcolor\":\"#506784\",\"linecolor\":\"#506784\",\"ticks\":\"\"},\"bgcolor\":\"rgb(17,17,17)\",\"caxis\":{\"gridcolor\":\"#506784\",\"linecolor\":\"#506784\",\"ticks\":\"\"}},\"title\":{\"x\":0.05},\"updatemenudefaults\":{\"bgcolor\":\"#506784\",\"borderwidth\":0},\"xaxis\":{\"automargin\":true,\"gridcolor\":\"#283442\",\"linecolor\":\"#506784\",\"ticks\":\"\",\"title\":{\"standoff\":15},\"zerolinecolor\":\"#283442\",\"zerolinewidth\":2},\"yaxis\":{\"automargin\":true,\"gridcolor\":\"#283442\",\"linecolor\":\"#506784\",\"ticks\":\"\",\"title\":{\"standoff\":15},\"zerolinecolor\":\"#283442\",\"zerolinewidth\":2}}},\"scene\":{\"xaxis\":{\"range\":[-1.5,3.5],\"gridcolor\":\"rgb(35, 35, 35)\",\"nticks\":0},\"yaxis\":{\"range\":[-1.5,3.5],\"gridcolor\":\"rgb(35, 35, 35)\",\"nticks\":0},\"zaxis\":{\"range\":[-1,4.5],\"gridcolor\":\"rgb(35, 35, 35)\",\"nticks\":0}},\"margin\":{\"r\":5,\"l\":5,\"b\":5,\"t\":5},\"width\":500},                        {\"responsive\": true}                    ).then(function(){\n",
       "                            \n",
       "var gd = document.getElementById('96b4b6b8-7764-4ef8-98a0-a785929096a0');\n",
       "var x = new MutationObserver(function (mutations, observer) {{\n",
       "        var display = window.getComputedStyle(gd).display;\n",
       "        if (!display || display === 'none') {{\n",
       "            console.log([gd, 'removed!']);\n",
       "            Plotly.purge(gd);\n",
       "            observer.disconnect();\n",
       "        }}\n",
       "}});\n",
       "\n",
       "// Listen for the removal of the full notebook cells\n",
       "var notebookContainer = gd.closest('#notebook-container');\n",
       "if (notebookContainer) {{\n",
       "    x.observe(notebookContainer, {childList: true});\n",
       "}}\n",
       "\n",
       "// Listen for the clearing of the current output cell\n",
       "var outputEl = gd.closest('.output');\n",
       "if (outputEl) {{\n",
       "    x.observe(outputEl, {childList: true});\n",
       "}}\n",
       "\n",
       "                        })                };                });            </script>        </div>"
      ]
     },
     "metadata": {},
     "output_type": "display_data"
    },
    {
     "data": {
      "text/plain": [
       "(True, <LINESTRING Z (0.5 2.5 1.5, 1.5 2.5 1.5)>)"
      ]
     },
     "execution_count": 80,
     "metadata": {},
     "output_type": "execute_result"
    }
   ],
   "source": [
    "sample1 = test_bricks[0]\n",
    "sample2 = test_bricks[2]\n",
    "\n",
    "plot_bricks([sample1, sample2])\n",
    "sample1.intersects(sample2), sample1.intersection(sample2)"
   ]
  },
  {
   "cell_type": "code",
   "execution_count": 82,
   "metadata": {},
   "outputs": [
    {
     "data": {
      "text/plain": [
       "False"
      ]
     },
     "execution_count": 82,
     "metadata": {},
     "output_type": "execute_result"
    }
   ],
   "source": []
  },
  {
   "cell_type": "code",
   "execution_count": 78,
   "metadata": {},
   "outputs": [
    {
     "name": "stdout",
     "output_type": "stream",
     "text": [
      "1394\n"
     ]
    },
    {
     "data": {
      "application/vnd.plotly.v1+json": {
       "config": {
        "plotlyServerURL": "https://plot.ly"
       },
       "data": [
        {
         "mode": "lines",
         "name": "brick 0",
         "type": "scatter3d",
         "x": [
          4.5,
          4.5,
          4.5,
          4.5,
          4.5,
          4.5,
          4.5,
          5.5,
          5.5,
          4.5,
          4.5,
          4.5,
          5.5,
          5.5,
          4.5,
          4.5,
          4.5,
          4.5,
          4.5,
          4.5,
          5.5,
          5.5,
          5.5,
          5.5,
          5.5,
          5.5,
          5.5,
          5.5,
          5.5,
          5.5,
          4.5
         ],
         "y": [
          4.5,
          4.5,
          7.5,
          7.5,
          4.5,
          7.5,
          7.5,
          7.5,
          7.5,
          7.5,
          4.5,
          4.5,
          4.5,
          4.5,
          4.5,
          4.5,
          4.5,
          7.5,
          7.5,
          4.5,
          4.5,
          4.5,
          7.5,
          7.5,
          4.5,
          4.5,
          4.5,
          7.5,
          7.5,
          4.5,
          4.5
         ],
         "z": [
          155.5,
          156.5,
          156.5,
          155.5,
          155.5,
          155.5,
          156.5,
          156.5,
          155.5,
          155.5,
          155.5,
          156.5,
          156.5,
          155.5,
          155.5,
          155.5,
          156.5,
          156.5,
          155.5,
          155.5,
          155.5,
          156.5,
          156.5,
          155.5,
          155.5,
          155.5,
          156.5,
          156.5,
          155.5,
          155.5,
          155.5
         ]
        },
        {
         "mode": "lines",
         "name": "brick 1",
         "type": "scatter3d",
         "x": [
          7.5,
          7.5,
          7.5,
          7.5,
          7.5,
          7.5,
          7.5,
          8.5,
          8.5,
          7.5,
          7.5,
          7.5,
          8.5,
          8.5,
          7.5,
          7.5,
          7.5,
          7.5,
          7.5,
          7.5,
          8.5,
          8.5,
          8.5,
          8.5,
          8.5,
          8.5,
          8.5,
          8.5,
          8.5,
          8.5,
          7.5
         ],
         "y": [
          4.5,
          4.5,
          7.5,
          7.5,
          4.5,
          7.5,
          7.5,
          7.5,
          7.5,
          7.5,
          4.5,
          4.5,
          4.5,
          4.5,
          4.5,
          4.5,
          4.5,
          7.5,
          7.5,
          4.5,
          4.5,
          4.5,
          7.5,
          7.5,
          4.5,
          4.5,
          4.5,
          7.5,
          7.5,
          4.5,
          4.5
         ],
         "z": [
          81.5,
          82.5,
          82.5,
          81.5,
          81.5,
          81.5,
          82.5,
          82.5,
          81.5,
          81.5,
          81.5,
          82.5,
          82.5,
          81.5,
          81.5,
          81.5,
          82.5,
          82.5,
          81.5,
          81.5,
          81.5,
          82.5,
          82.5,
          81.5,
          81.5,
          81.5,
          82.5,
          82.5,
          81.5,
          81.5,
          81.5
         ]
        },
        {
         "mode": "lines",
         "name": "brick 2",
         "type": "scatter3d",
         "x": [
          5.5,
          5.5,
          5.5,
          5.5,
          5.5,
          5.5,
          5.5,
          6.5,
          6.5,
          5.5,
          5.5,
          5.5,
          6.5,
          6.5,
          5.5,
          5.5,
          5.5,
          5.5,
          5.5,
          5.5,
          6.5,
          6.5,
          6.5,
          6.5,
          6.5,
          6.5,
          6.5,
          6.5,
          6.5,
          6.5,
          5.5
         ],
         "y": [
          4.5,
          4.5,
          7.5,
          7.5,
          4.5,
          7.5,
          7.5,
          7.5,
          7.5,
          7.5,
          4.5,
          4.5,
          4.5,
          4.5,
          4.5,
          4.5,
          4.5,
          7.5,
          7.5,
          4.5,
          4.5,
          4.5,
          7.5,
          7.5,
          4.5,
          4.5,
          4.5,
          7.5,
          7.5,
          4.5,
          4.5
         ],
         "z": [
          195.5,
          196.5,
          196.5,
          195.5,
          195.5,
          195.5,
          196.5,
          196.5,
          195.5,
          195.5,
          195.5,
          196.5,
          196.5,
          195.5,
          195.5,
          195.5,
          196.5,
          196.5,
          195.5,
          195.5,
          195.5,
          196.5,
          196.5,
          195.5,
          195.5,
          195.5,
          196.5,
          196.5,
          195.5,
          195.5,
          195.5
         ]
        },
        {
         "mode": "lines",
         "name": "brick 3",
         "type": "scatter3d",
         "x": [
          -0.5,
          -0.5,
          -0.5,
          -0.5,
          -0.5,
          -0.5,
          -0.5,
          0.5,
          0.5,
          -0.5,
          -0.5,
          -0.5,
          0.5,
          0.5,
          -0.5,
          -0.5,
          -0.5,
          -0.5,
          -0.5,
          -0.5,
          0.5,
          0.5,
          0.5,
          0.5,
          0.5,
          0.5,
          0.5,
          0.5,
          0.5,
          0.5,
          -0.5
         ],
         "y": [
          6.5,
          6.5,
          8.5,
          8.5,
          6.5,
          8.5,
          8.5,
          8.5,
          8.5,
          8.5,
          6.5,
          6.5,
          6.5,
          6.5,
          6.5,
          6.5,
          6.5,
          8.5,
          8.5,
          6.5,
          6.5,
          6.5,
          8.5,
          8.5,
          6.5,
          6.5,
          6.5,
          8.5,
          8.5,
          6.5,
          6.5
         ],
         "z": [
          6.5,
          7.5,
          7.5,
          6.5,
          6.5,
          6.5,
          7.5,
          7.5,
          6.5,
          6.5,
          6.5,
          7.5,
          7.5,
          6.5,
          6.5,
          6.5,
          7.5,
          7.5,
          6.5,
          6.5,
          6.5,
          7.5,
          7.5,
          6.5,
          6.5,
          6.5,
          7.5,
          7.5,
          6.5,
          6.5,
          6.5
         ]
        },
        {
         "mode": "lines",
         "name": "brick 4",
         "type": "scatter3d",
         "x": [
          1.5,
          1.5,
          1.5,
          1.5,
          1.5,
          1.5,
          1.5,
          2.5,
          2.5,
          1.5,
          1.5,
          1.5,
          2.5,
          2.5,
          1.5,
          1.5,
          1.5,
          1.5,
          1.5,
          1.5,
          2.5,
          2.5,
          2.5,
          2.5,
          2.5,
          2.5,
          2.5,
          2.5,
          2.5,
          2.5,
          1.5
         ],
         "y": [
          2.5,
          2.5,
          6.5,
          6.5,
          2.5,
          6.5,
          6.5,
          6.5,
          6.5,
          6.5,
          2.5,
          2.5,
          2.5,
          2.5,
          2.5,
          2.5,
          2.5,
          6.5,
          6.5,
          2.5,
          2.5,
          2.5,
          6.5,
          6.5,
          2.5,
          2.5,
          2.5,
          6.5,
          6.5,
          2.5,
          2.5
         ],
         "z": [
          128.5,
          129.5,
          129.5,
          128.5,
          128.5,
          128.5,
          129.5,
          129.5,
          128.5,
          128.5,
          128.5,
          129.5,
          129.5,
          128.5,
          128.5,
          128.5,
          129.5,
          129.5,
          128.5,
          128.5,
          128.5,
          129.5,
          129.5,
          128.5,
          128.5,
          128.5,
          129.5,
          129.5,
          128.5,
          128.5,
          128.5
         ]
        },
        {
         "mode": "lines",
         "name": "brick 5",
         "type": "scatter3d",
         "x": [
          8.5,
          8.5,
          8.5,
          8.5,
          8.5,
          8.5,
          8.5,
          9.5,
          9.5,
          8.5,
          8.5,
          8.5,
          9.5,
          9.5,
          8.5,
          8.5,
          8.5,
          8.5,
          8.5,
          8.5,
          9.5,
          9.5,
          9.5,
          9.5,
          9.5,
          9.5,
          9.5,
          9.5,
          9.5,
          9.5,
          8.5
         ],
         "y": [
          4.5,
          4.5,
          7.5,
          7.5,
          4.5,
          7.5,
          7.5,
          7.5,
          7.5,
          7.5,
          4.5,
          4.5,
          4.5,
          4.5,
          4.5,
          4.5,
          4.5,
          7.5,
          7.5,
          4.5,
          4.5,
          4.5,
          7.5,
          7.5,
          4.5,
          4.5,
          4.5,
          7.5,
          7.5,
          4.5,
          4.5
         ],
         "z": [
          264.5,
          265.5,
          265.5,
          264.5,
          264.5,
          264.5,
          265.5,
          265.5,
          264.5,
          264.5,
          264.5,
          265.5,
          265.5,
          264.5,
          264.5,
          264.5,
          265.5,
          265.5,
          264.5,
          264.5,
          264.5,
          265.5,
          265.5,
          264.5,
          264.5,
          264.5,
          265.5,
          265.5,
          264.5,
          264.5,
          264.5
         ]
        },
        {
         "mode": "lines",
         "name": "brick 6",
         "type": "scatter3d",
         "x": [
          0.5,
          0.5,
          0.5,
          0.5,
          0.5,
          0.5,
          0.5,
          3.5,
          3.5,
          0.5,
          0.5,
          0.5,
          3.5,
          3.5,
          0.5,
          0.5,
          0.5,
          0.5,
          0.5,
          0.5,
          3.5,
          3.5,
          3.5,
          3.5,
          3.5,
          3.5,
          3.5,
          3.5,
          3.5,
          3.5,
          0.5
         ],
         "y": [
          3.5,
          3.5,
          4.5,
          4.5,
          3.5,
          4.5,
          4.5,
          4.5,
          4.5,
          4.5,
          3.5,
          3.5,
          3.5,
          3.5,
          3.5,
          3.5,
          3.5,
          4.5,
          4.5,
          3.5,
          3.5,
          3.5,
          4.5,
          4.5,
          3.5,
          3.5,
          3.5,
          4.5,
          4.5,
          3.5,
          3.5
         ],
         "z": [
          277.5,
          278.5,
          278.5,
          277.5,
          277.5,
          277.5,
          278.5,
          278.5,
          277.5,
          277.5,
          277.5,
          278.5,
          278.5,
          277.5,
          277.5,
          277.5,
          278.5,
          278.5,
          277.5,
          277.5,
          277.5,
          278.5,
          278.5,
          277.5,
          277.5,
          277.5,
          278.5,
          278.5,
          277.5,
          277.5,
          277.5
         ]
        },
        {
         "mode": "lines",
         "name": "brick 7",
         "type": "scatter3d",
         "x": [
          1.5,
          1.5,
          1.5,
          1.5,
          1.5,
          1.5,
          1.5,
          4.5,
          4.5,
          1.5,
          1.5,
          1.5,
          4.5,
          4.5,
          1.5,
          1.5,
          1.5,
          1.5,
          1.5,
          1.5,
          4.5,
          4.5,
          4.5,
          4.5,
          4.5,
          4.5,
          4.5,
          4.5,
          4.5,
          4.5,
          1.5
         ],
         "y": [
          5.5,
          5.5,
          6.5,
          6.5,
          5.5,
          6.5,
          6.5,
          6.5,
          6.5,
          6.5,
          5.5,
          5.5,
          5.5,
          5.5,
          5.5,
          5.5,
          5.5,
          6.5,
          6.5,
          5.5,
          5.5,
          5.5,
          6.5,
          6.5,
          5.5,
          5.5,
          5.5,
          6.5,
          6.5,
          5.5,
          5.5
         ],
         "z": [
          148.5,
          149.5,
          149.5,
          148.5,
          148.5,
          148.5,
          149.5,
          149.5,
          148.5,
          148.5,
          148.5,
          149.5,
          149.5,
          148.5,
          148.5,
          148.5,
          149.5,
          149.5,
          148.5,
          148.5,
          148.5,
          149.5,
          149.5,
          148.5,
          148.5,
          148.5,
          149.5,
          149.5,
          148.5,
          148.5,
          148.5
         ]
        },
        {
         "mode": "lines",
         "name": "brick 8",
         "type": "scatter3d",
         "x": [
          6.5,
          6.5,
          6.5,
          6.5,
          6.5,
          6.5,
          6.5,
          9.5,
          9.5,
          6.5,
          6.5,
          6.5,
          9.5,
          9.5,
          6.5,
          6.5,
          6.5,
          6.5,
          6.5,
          6.5,
          9.5,
          9.5,
          9.5,
          9.5,
          9.5,
          9.5,
          9.5,
          9.5,
          9.5,
          9.5,
          6.5
         ],
         "y": [
          6.5,
          6.5,
          7.5,
          7.5,
          6.5,
          7.5,
          7.5,
          7.5,
          7.5,
          7.5,
          6.5,
          6.5,
          6.5,
          6.5,
          6.5,
          6.5,
          6.5,
          7.5,
          7.5,
          6.5,
          6.5,
          6.5,
          7.5,
          7.5,
          6.5,
          6.5,
          6.5,
          7.5,
          7.5,
          6.5,
          6.5
         ],
         "z": [
          245.5,
          246.5,
          246.5,
          245.5,
          245.5,
          245.5,
          246.5,
          246.5,
          245.5,
          245.5,
          245.5,
          246.5,
          246.5,
          245.5,
          245.5,
          245.5,
          246.5,
          246.5,
          245.5,
          245.5,
          245.5,
          246.5,
          246.5,
          245.5,
          245.5,
          245.5,
          246.5,
          246.5,
          245.5,
          245.5,
          245.5
         ]
        },
        {
         "mode": "lines",
         "name": "brick 9",
         "type": "scatter3d",
         "x": [
          7.5,
          7.5,
          7.5,
          7.5,
          7.5,
          7.5,
          7.5,
          9.5,
          9.5,
          7.5,
          7.5,
          7.5,
          9.5,
          9.5,
          7.5,
          7.5,
          7.5,
          7.5,
          7.5,
          7.5,
          9.5,
          9.5,
          9.5,
          9.5,
          9.5,
          9.5,
          9.5,
          9.5,
          9.5,
          9.5,
          7.5
         ],
         "y": [
          5.5,
          5.5,
          6.5,
          6.5,
          5.5,
          6.5,
          6.5,
          6.5,
          6.5,
          6.5,
          5.5,
          5.5,
          5.5,
          5.5,
          5.5,
          5.5,
          5.5,
          6.5,
          6.5,
          5.5,
          5.5,
          5.5,
          6.5,
          6.5,
          5.5,
          5.5,
          5.5,
          6.5,
          6.5,
          5.5,
          5.5
         ],
         "z": [
          281.5,
          282.5,
          282.5,
          281.5,
          281.5,
          281.5,
          282.5,
          282.5,
          281.5,
          281.5,
          281.5,
          282.5,
          282.5,
          281.5,
          281.5,
          281.5,
          282.5,
          282.5,
          281.5,
          281.5,
          281.5,
          282.5,
          282.5,
          281.5,
          281.5,
          281.5,
          282.5,
          282.5,
          281.5,
          281.5,
          281.5
         ]
        },
        {
         "mode": "lines",
         "name": "brick 10",
         "type": "scatter3d",
         "x": [
          0.5,
          0.5,
          0.5,
          0.5,
          0.5,
          0.5,
          0.5,
          1.5,
          1.5,
          0.5,
          0.5,
          0.5,
          1.5,
          1.5,
          0.5,
          0.5,
          0.5,
          0.5,
          0.5,
          0.5,
          1.5,
          1.5,
          1.5,
          1.5,
          1.5,
          1.5,
          1.5,
          1.5,
          1.5,
          1.5,
          0.5
         ],
         "y": [
          0.5,
          0.5,
          5.5,
          5.5,
          0.5,
          5.5,
          5.5,
          5.5,
          5.5,
          5.5,
          0.5,
          0.5,
          0.5,
          0.5,
          0.5,
          0.5,
          0.5,
          5.5,
          5.5,
          0.5,
          0.5,
          0.5,
          5.5,
          5.5,
          0.5,
          0.5,
          0.5,
          5.5,
          5.5,
          0.5,
          0.5
         ],
         "z": [
          288.5,
          289.5,
          289.5,
          288.5,
          288.5,
          288.5,
          289.5,
          289.5,
          288.5,
          288.5,
          288.5,
          289.5,
          289.5,
          288.5,
          288.5,
          288.5,
          289.5,
          289.5,
          288.5,
          288.5,
          288.5,
          289.5,
          289.5,
          288.5,
          288.5,
          288.5,
          289.5,
          289.5,
          288.5,
          288.5,
          288.5
         ]
        },
        {
         "mode": "lines",
         "name": "brick 11",
         "type": "scatter3d",
         "x": [
          6.5,
          6.5,
          6.5,
          6.5,
          6.5,
          6.5,
          6.5,
          7.5,
          7.5,
          6.5,
          6.5,
          6.5,
          7.5,
          7.5,
          6.5,
          6.5,
          6.5,
          6.5,
          6.5,
          6.5,
          7.5,
          7.5,
          7.5,
          7.5,
          7.5,
          7.5,
          7.5,
          7.5,
          7.5,
          7.5,
          6.5
         ],
         "y": [
          2.5,
          2.5,
          6.5,
          6.5,
          2.5,
          6.5,
          6.5,
          6.5,
          6.5,
          6.5,
          2.5,
          2.5,
          2.5,
          2.5,
          2.5,
          2.5,
          2.5,
          6.5,
          6.5,
          2.5,
          2.5,
          2.5,
          6.5,
          6.5,
          2.5,
          2.5,
          2.5,
          6.5,
          6.5,
          2.5,
          2.5
         ],
         "z": [
          69.5,
          70.5,
          70.5,
          69.5,
          69.5,
          69.5,
          70.5,
          70.5,
          69.5,
          69.5,
          69.5,
          70.5,
          70.5,
          69.5,
          69.5,
          69.5,
          70.5,
          70.5,
          69.5,
          69.5,
          69.5,
          70.5,
          70.5,
          69.5,
          69.5,
          69.5,
          70.5,
          70.5,
          69.5,
          69.5,
          69.5
         ]
        },
        {
         "mode": "lines",
         "name": "brick 12",
         "type": "scatter3d",
         "x": [
          2.5,
          2.5,
          2.5,
          2.5,
          2.5,
          2.5,
          2.5,
          3.5,
          3.5,
          2.5,
          2.5,
          2.5,
          3.5,
          3.5,
          2.5,
          2.5,
          2.5,
          2.5,
          2.5,
          2.5,
          3.5,
          3.5,
          3.5,
          3.5,
          3.5,
          3.5,
          3.5,
          3.5,
          3.5,
          3.5,
          2.5
         ],
         "y": [
          8.5,
          8.5,
          9.5,
          9.5,
          8.5,
          9.5,
          9.5,
          9.5,
          9.5,
          9.5,
          8.5,
          8.5,
          8.5,
          8.5,
          8.5,
          8.5,
          8.5,
          9.5,
          9.5,
          8.5,
          8.5,
          8.5,
          9.5,
          9.5,
          8.5,
          8.5,
          8.5,
          9.5,
          9.5,
          8.5,
          8.5
         ],
         "z": [
          277.5,
          280.5,
          280.5,
          277.5,
          277.5,
          277.5,
          280.5,
          280.5,
          277.5,
          277.5,
          277.5,
          280.5,
          280.5,
          277.5,
          277.5,
          277.5,
          280.5,
          280.5,
          277.5,
          277.5,
          277.5,
          280.5,
          280.5,
          277.5,
          277.5,
          277.5,
          280.5,
          280.5,
          277.5,
          277.5,
          277.5
         ]
        },
        {
         "mode": "lines",
         "name": "brick 13",
         "type": "scatter3d",
         "x": [
          5.5,
          5.5,
          5.5,
          5.5,
          5.5,
          5.5,
          5.5,
          7.5,
          7.5,
          5.5,
          5.5,
          5.5,
          7.5,
          7.5,
          5.5,
          5.5,
          5.5,
          5.5,
          5.5,
          5.5,
          7.5,
          7.5,
          7.5,
          7.5,
          7.5,
          7.5,
          7.5,
          7.5,
          7.5,
          7.5,
          5.5
         ],
         "y": [
          8.5,
          8.5,
          9.5,
          9.5,
          8.5,
          9.5,
          9.5,
          9.5,
          9.5,
          9.5,
          8.5,
          8.5,
          8.5,
          8.5,
          8.5,
          8.5,
          8.5,
          9.5,
          9.5,
          8.5,
          8.5,
          8.5,
          9.5,
          9.5,
          8.5,
          8.5,
          8.5,
          9.5,
          9.5,
          8.5,
          8.5
         ],
         "z": [
          260.5,
          261.5,
          261.5,
          260.5,
          260.5,
          260.5,
          261.5,
          261.5,
          260.5,
          260.5,
          260.5,
          261.5,
          261.5,
          260.5,
          260.5,
          260.5,
          261.5,
          261.5,
          260.5,
          260.5,
          260.5,
          261.5,
          261.5,
          260.5,
          260.5,
          260.5,
          261.5,
          261.5,
          260.5,
          260.5,
          260.5
         ]
        },
        {
         "mode": "lines",
         "name": "brick 14",
         "type": "scatter3d",
         "x": [
          2.5,
          2.5,
          2.5,
          2.5,
          2.5,
          2.5,
          2.5,
          5.5,
          5.5,
          2.5,
          2.5,
          2.5,
          5.5,
          5.5,
          2.5,
          2.5,
          2.5,
          2.5,
          2.5,
          2.5,
          5.5,
          5.5,
          5.5,
          5.5,
          5.5,
          5.5,
          5.5,
          5.5,
          5.5,
          5.5,
          2.5
         ],
         "y": [
          4.5,
          4.5,
          5.5,
          5.5,
          4.5,
          5.5,
          5.5,
          5.5,
          5.5,
          5.5,
          4.5,
          4.5,
          4.5,
          4.5,
          4.5,
          4.5,
          4.5,
          5.5,
          5.5,
          4.5,
          4.5,
          4.5,
          5.5,
          5.5,
          4.5,
          4.5,
          4.5,
          5.5,
          5.5,
          4.5,
          4.5
         ],
         "z": [
          74.5,
          75.5,
          75.5,
          74.5,
          74.5,
          74.5,
          75.5,
          75.5,
          74.5,
          74.5,
          74.5,
          75.5,
          75.5,
          74.5,
          74.5,
          74.5,
          75.5,
          75.5,
          74.5,
          74.5,
          74.5,
          75.5,
          75.5,
          74.5,
          74.5,
          74.5,
          75.5,
          75.5,
          74.5,
          74.5,
          74.5
         ]
        },
        {
         "mode": "lines",
         "name": "brick 15",
         "type": "scatter3d",
         "x": [
          2.5,
          2.5,
          2.5,
          2.5,
          2.5,
          2.5,
          2.5,
          3.5,
          3.5,
          2.5,
          2.5,
          2.5,
          3.5,
          3.5,
          2.5,
          2.5,
          2.5,
          2.5,
          2.5,
          2.5,
          3.5,
          3.5,
          3.5,
          3.5,
          3.5,
          3.5,
          3.5,
          3.5,
          3.5,
          3.5,
          2.5
         ],
         "y": [
          0.5,
          0.5,
          1.5,
          1.5,
          0.5,
          1.5,
          1.5,
          1.5,
          1.5,
          1.5,
          0.5,
          0.5,
          0.5,
          0.5,
          0.5,
          0.5,
          0.5,
          1.5,
          1.5,
          0.5,
          0.5,
          0.5,
          1.5,
          1.5,
          0.5,
          0.5,
          0.5,
          1.5,
          1.5,
          0.5,
          0.5
         ],
         "z": [
          220.5,
          224.5,
          224.5,
          220.5,
          220.5,
          220.5,
          224.5,
          224.5,
          220.5,
          220.5,
          220.5,
          224.5,
          224.5,
          220.5,
          220.5,
          220.5,
          224.5,
          224.5,
          220.5,
          220.5,
          220.5,
          224.5,
          224.5,
          220.5,
          220.5,
          220.5,
          224.5,
          224.5,
          220.5,
          220.5,
          220.5
         ]
        },
        {
         "mode": "lines",
         "name": "brick 16",
         "type": "scatter3d",
         "x": [
          -0.5,
          -0.5,
          -0.5,
          -0.5,
          -0.5,
          -0.5,
          -0.5,
          2.5,
          2.5,
          -0.5,
          -0.5,
          -0.5,
          2.5,
          2.5,
          -0.5,
          -0.5,
          -0.5,
          -0.5,
          -0.5,
          -0.5,
          2.5,
          2.5,
          2.5,
          2.5,
          2.5,
          2.5,
          2.5,
          2.5,
          2.5,
          2.5,
          -0.5
         ],
         "y": [
          8.5,
          8.5,
          9.5,
          9.5,
          8.5,
          9.5,
          9.5,
          9.5,
          9.5,
          9.5,
          8.5,
          8.5,
          8.5,
          8.5,
          8.5,
          8.5,
          8.5,
          9.5,
          9.5,
          8.5,
          8.5,
          8.5,
          9.5,
          9.5,
          8.5,
          8.5,
          8.5,
          9.5,
          9.5,
          8.5,
          8.5
         ],
         "z": [
          210.5,
          211.5,
          211.5,
          210.5,
          210.5,
          210.5,
          211.5,
          211.5,
          210.5,
          210.5,
          210.5,
          211.5,
          211.5,
          210.5,
          210.5,
          210.5,
          211.5,
          211.5,
          210.5,
          210.5,
          210.5,
          211.5,
          211.5,
          210.5,
          210.5,
          210.5,
          211.5,
          211.5,
          210.5,
          210.5,
          210.5
         ]
        },
        {
         "mode": "lines",
         "name": "brick 17",
         "type": "scatter3d",
         "x": [
          2.5,
          2.5,
          2.5,
          2.5,
          2.5,
          2.5,
          2.5,
          4.5,
          4.5,
          2.5,
          2.5,
          2.5,
          4.5,
          4.5,
          2.5,
          2.5,
          2.5,
          2.5,
          2.5,
          2.5,
          4.5,
          4.5,
          4.5,
          4.5,
          4.5,
          4.5,
          4.5,
          4.5,
          4.5,
          4.5,
          2.5
         ],
         "y": [
          8.5,
          8.5,
          9.5,
          9.5,
          8.5,
          9.5,
          9.5,
          9.5,
          9.5,
          9.5,
          8.5,
          8.5,
          8.5,
          8.5,
          8.5,
          8.5,
          8.5,
          9.5,
          9.5,
          8.5,
          8.5,
          8.5,
          9.5,
          9.5,
          8.5,
          8.5,
          8.5,
          9.5,
          9.5,
          8.5,
          8.5
         ],
         "z": [
          250.5,
          251.5,
          251.5,
          250.5,
          250.5,
          250.5,
          251.5,
          251.5,
          250.5,
          250.5,
          250.5,
          251.5,
          251.5,
          250.5,
          250.5,
          250.5,
          251.5,
          251.5,
          250.5,
          250.5,
          250.5,
          251.5,
          251.5,
          250.5,
          250.5,
          250.5,
          251.5,
          251.5,
          250.5,
          250.5,
          250.5
         ]
        },
        {
         "mode": "lines",
         "name": "brick 18",
         "type": "scatter3d",
         "x": [
          -0.5,
          -0.5,
          -0.5,
          -0.5,
          -0.5,
          -0.5,
          -0.5,
          2.5,
          2.5,
          -0.5,
          -0.5,
          -0.5,
          2.5,
          2.5,
          -0.5,
          -0.5,
          -0.5,
          -0.5,
          -0.5,
          -0.5,
          2.5,
          2.5,
          2.5,
          2.5,
          2.5,
          2.5,
          2.5,
          2.5,
          2.5,
          2.5,
          -0.5
         ],
         "y": [
          3.5,
          3.5,
          4.5,
          4.5,
          3.5,
          4.5,
          4.5,
          4.5,
          4.5,
          4.5,
          3.5,
          3.5,
          3.5,
          3.5,
          3.5,
          3.5,
          3.5,
          4.5,
          4.5,
          3.5,
          3.5,
          3.5,
          4.5,
          4.5,
          3.5,
          3.5,
          3.5,
          4.5,
          4.5,
          3.5,
          3.5
         ],
         "z": [
          27.5,
          28.5,
          28.5,
          27.5,
          27.5,
          27.5,
          28.5,
          28.5,
          27.5,
          27.5,
          27.5,
          28.5,
          28.5,
          27.5,
          27.5,
          27.5,
          28.5,
          28.5,
          27.5,
          27.5,
          27.5,
          28.5,
          28.5,
          27.5,
          27.5,
          27.5,
          28.5,
          28.5,
          27.5,
          27.5,
          27.5
         ]
        },
        {
         "mode": "lines",
         "name": "brick 19",
         "type": "scatter3d",
         "x": [
          1.5,
          1.5,
          1.5,
          1.5,
          1.5,
          1.5,
          1.5,
          2.5,
          2.5,
          1.5,
          1.5,
          1.5,
          2.5,
          2.5,
          1.5,
          1.5,
          1.5,
          1.5,
          1.5,
          1.5,
          2.5,
          2.5,
          2.5,
          2.5,
          2.5,
          2.5,
          2.5,
          2.5,
          2.5,
          2.5,
          1.5
         ],
         "y": [
          6.5,
          6.5,
          7.5,
          7.5,
          6.5,
          7.5,
          7.5,
          7.5,
          7.5,
          7.5,
          6.5,
          6.5,
          6.5,
          6.5,
          6.5,
          6.5,
          6.5,
          7.5,
          7.5,
          6.5,
          6.5,
          6.5,
          7.5,
          7.5,
          6.5,
          6.5,
          6.5,
          7.5,
          7.5,
          6.5,
          6.5
         ],
         "z": [
          290.5,
          293.5,
          293.5,
          290.5,
          290.5,
          290.5,
          293.5,
          293.5,
          290.5,
          290.5,
          290.5,
          293.5,
          293.5,
          290.5,
          290.5,
          290.5,
          293.5,
          293.5,
          290.5,
          290.5,
          290.5,
          293.5,
          293.5,
          290.5,
          290.5,
          290.5,
          293.5,
          293.5,
          290.5,
          290.5,
          290.5
         ]
        }
       ],
       "layout": {
        "margin": {
         "b": 5,
         "l": 5,
         "r": 5,
         "t": 5
        },
        "scene": {
         "xaxis": {
          "gridcolor": "rgb(35, 35, 35)",
          "nticks": 0,
          "range": [
           -1.5,
           10.5
          ]
         },
         "yaxis": {
          "gridcolor": "rgb(35, 35, 35)",
          "nticks": 0,
          "range": [
           -1,
           10.5
          ]
         },
         "zaxis": {
          "gridcolor": "rgb(35, 35, 35)",
          "nticks": 0,
          "range": [
           -1,
           294.5
          ]
         }
        },
        "template": {
         "data": {
          "bar": [
           {
            "error_x": {
             "color": "#f2f5fa"
            },
            "error_y": {
             "color": "#f2f5fa"
            },
            "marker": {
             "line": {
              "color": "rgb(17,17,17)",
              "width": 0.5
             },
             "pattern": {
              "fillmode": "overlay",
              "size": 10,
              "solidity": 0.2
             }
            },
            "type": "bar"
           }
          ],
          "barpolar": [
           {
            "marker": {
             "line": {
              "color": "rgb(17,17,17)",
              "width": 0.5
             },
             "pattern": {
              "fillmode": "overlay",
              "size": 10,
              "solidity": 0.2
             }
            },
            "type": "barpolar"
           }
          ],
          "carpet": [
           {
            "aaxis": {
             "endlinecolor": "#A2B1C6",
             "gridcolor": "#506784",
             "linecolor": "#506784",
             "minorgridcolor": "#506784",
             "startlinecolor": "#A2B1C6"
            },
            "baxis": {
             "endlinecolor": "#A2B1C6",
             "gridcolor": "#506784",
             "linecolor": "#506784",
             "minorgridcolor": "#506784",
             "startlinecolor": "#A2B1C6"
            },
            "type": "carpet"
           }
          ],
          "choropleth": [
           {
            "colorbar": {
             "outlinewidth": 0,
             "ticks": ""
            },
            "type": "choropleth"
           }
          ],
          "contour": [
           {
            "colorbar": {
             "outlinewidth": 0,
             "ticks": ""
            },
            "colorscale": [
             [
              0,
              "#0d0887"
             ],
             [
              0.1111111111111111,
              "#46039f"
             ],
             [
              0.2222222222222222,
              "#7201a8"
             ],
             [
              0.3333333333333333,
              "#9c179e"
             ],
             [
              0.4444444444444444,
              "#bd3786"
             ],
             [
              0.5555555555555556,
              "#d8576b"
             ],
             [
              0.6666666666666666,
              "#ed7953"
             ],
             [
              0.7777777777777778,
              "#fb9f3a"
             ],
             [
              0.8888888888888888,
              "#fdca26"
             ],
             [
              1,
              "#f0f921"
             ]
            ],
            "type": "contour"
           }
          ],
          "contourcarpet": [
           {
            "colorbar": {
             "outlinewidth": 0,
             "ticks": ""
            },
            "type": "contourcarpet"
           }
          ],
          "heatmap": [
           {
            "colorbar": {
             "outlinewidth": 0,
             "ticks": ""
            },
            "colorscale": [
             [
              0,
              "#0d0887"
             ],
             [
              0.1111111111111111,
              "#46039f"
             ],
             [
              0.2222222222222222,
              "#7201a8"
             ],
             [
              0.3333333333333333,
              "#9c179e"
             ],
             [
              0.4444444444444444,
              "#bd3786"
             ],
             [
              0.5555555555555556,
              "#d8576b"
             ],
             [
              0.6666666666666666,
              "#ed7953"
             ],
             [
              0.7777777777777778,
              "#fb9f3a"
             ],
             [
              0.8888888888888888,
              "#fdca26"
             ],
             [
              1,
              "#f0f921"
             ]
            ],
            "type": "heatmap"
           }
          ],
          "heatmapgl": [
           {
            "colorbar": {
             "outlinewidth": 0,
             "ticks": ""
            },
            "colorscale": [
             [
              0,
              "#0d0887"
             ],
             [
              0.1111111111111111,
              "#46039f"
             ],
             [
              0.2222222222222222,
              "#7201a8"
             ],
             [
              0.3333333333333333,
              "#9c179e"
             ],
             [
              0.4444444444444444,
              "#bd3786"
             ],
             [
              0.5555555555555556,
              "#d8576b"
             ],
             [
              0.6666666666666666,
              "#ed7953"
             ],
             [
              0.7777777777777778,
              "#fb9f3a"
             ],
             [
              0.8888888888888888,
              "#fdca26"
             ],
             [
              1,
              "#f0f921"
             ]
            ],
            "type": "heatmapgl"
           }
          ],
          "histogram": [
           {
            "marker": {
             "pattern": {
              "fillmode": "overlay",
              "size": 10,
              "solidity": 0.2
             }
            },
            "type": "histogram"
           }
          ],
          "histogram2d": [
           {
            "colorbar": {
             "outlinewidth": 0,
             "ticks": ""
            },
            "colorscale": [
             [
              0,
              "#0d0887"
             ],
             [
              0.1111111111111111,
              "#46039f"
             ],
             [
              0.2222222222222222,
              "#7201a8"
             ],
             [
              0.3333333333333333,
              "#9c179e"
             ],
             [
              0.4444444444444444,
              "#bd3786"
             ],
             [
              0.5555555555555556,
              "#d8576b"
             ],
             [
              0.6666666666666666,
              "#ed7953"
             ],
             [
              0.7777777777777778,
              "#fb9f3a"
             ],
             [
              0.8888888888888888,
              "#fdca26"
             ],
             [
              1,
              "#f0f921"
             ]
            ],
            "type": "histogram2d"
           }
          ],
          "histogram2dcontour": [
           {
            "colorbar": {
             "outlinewidth": 0,
             "ticks": ""
            },
            "colorscale": [
             [
              0,
              "#0d0887"
             ],
             [
              0.1111111111111111,
              "#46039f"
             ],
             [
              0.2222222222222222,
              "#7201a8"
             ],
             [
              0.3333333333333333,
              "#9c179e"
             ],
             [
              0.4444444444444444,
              "#bd3786"
             ],
             [
              0.5555555555555556,
              "#d8576b"
             ],
             [
              0.6666666666666666,
              "#ed7953"
             ],
             [
              0.7777777777777778,
              "#fb9f3a"
             ],
             [
              0.8888888888888888,
              "#fdca26"
             ],
             [
              1,
              "#f0f921"
             ]
            ],
            "type": "histogram2dcontour"
           }
          ],
          "mesh3d": [
           {
            "colorbar": {
             "outlinewidth": 0,
             "ticks": ""
            },
            "type": "mesh3d"
           }
          ],
          "parcoords": [
           {
            "line": {
             "colorbar": {
              "outlinewidth": 0,
              "ticks": ""
             }
            },
            "type": "parcoords"
           }
          ],
          "pie": [
           {
            "automargin": true,
            "type": "pie"
           }
          ],
          "scatter": [
           {
            "marker": {
             "line": {
              "color": "#283442"
             }
            },
            "type": "scatter"
           }
          ],
          "scatter3d": [
           {
            "line": {
             "colorbar": {
              "outlinewidth": 0,
              "ticks": ""
             }
            },
            "marker": {
             "colorbar": {
              "outlinewidth": 0,
              "ticks": ""
             }
            },
            "type": "scatter3d"
           }
          ],
          "scattercarpet": [
           {
            "marker": {
             "colorbar": {
              "outlinewidth": 0,
              "ticks": ""
             }
            },
            "type": "scattercarpet"
           }
          ],
          "scattergeo": [
           {
            "marker": {
             "colorbar": {
              "outlinewidth": 0,
              "ticks": ""
             }
            },
            "type": "scattergeo"
           }
          ],
          "scattergl": [
           {
            "marker": {
             "line": {
              "color": "#283442"
             }
            },
            "type": "scattergl"
           }
          ],
          "scattermapbox": [
           {
            "marker": {
             "colorbar": {
              "outlinewidth": 0,
              "ticks": ""
             }
            },
            "type": "scattermapbox"
           }
          ],
          "scatterpolar": [
           {
            "marker": {
             "colorbar": {
              "outlinewidth": 0,
              "ticks": ""
             }
            },
            "type": "scatterpolar"
           }
          ],
          "scatterpolargl": [
           {
            "marker": {
             "colorbar": {
              "outlinewidth": 0,
              "ticks": ""
             }
            },
            "type": "scatterpolargl"
           }
          ],
          "scatterternary": [
           {
            "marker": {
             "colorbar": {
              "outlinewidth": 0,
              "ticks": ""
             }
            },
            "type": "scatterternary"
           }
          ],
          "surface": [
           {
            "colorbar": {
             "outlinewidth": 0,
             "ticks": ""
            },
            "colorscale": [
             [
              0,
              "#0d0887"
             ],
             [
              0.1111111111111111,
              "#46039f"
             ],
             [
              0.2222222222222222,
              "#7201a8"
             ],
             [
              0.3333333333333333,
              "#9c179e"
             ],
             [
              0.4444444444444444,
              "#bd3786"
             ],
             [
              0.5555555555555556,
              "#d8576b"
             ],
             [
              0.6666666666666666,
              "#ed7953"
             ],
             [
              0.7777777777777778,
              "#fb9f3a"
             ],
             [
              0.8888888888888888,
              "#fdca26"
             ],
             [
              1,
              "#f0f921"
             ]
            ],
            "type": "surface"
           }
          ],
          "table": [
           {
            "cells": {
             "fill": {
              "color": "#506784"
             },
             "line": {
              "color": "rgb(17,17,17)"
             }
            },
            "header": {
             "fill": {
              "color": "#2a3f5f"
             },
             "line": {
              "color": "rgb(17,17,17)"
             }
            },
            "type": "table"
           }
          ]
         },
         "layout": {
          "annotationdefaults": {
           "arrowcolor": "#f2f5fa",
           "arrowhead": 0,
           "arrowwidth": 1
          },
          "autotypenumbers": "strict",
          "coloraxis": {
           "colorbar": {
            "outlinewidth": 0,
            "ticks": ""
           }
          },
          "colorscale": {
           "diverging": [
            [
             0,
             "#8e0152"
            ],
            [
             0.1,
             "#c51b7d"
            ],
            [
             0.2,
             "#de77ae"
            ],
            [
             0.3,
             "#f1b6da"
            ],
            [
             0.4,
             "#fde0ef"
            ],
            [
             0.5,
             "#f7f7f7"
            ],
            [
             0.6,
             "#e6f5d0"
            ],
            [
             0.7,
             "#b8e186"
            ],
            [
             0.8,
             "#7fbc41"
            ],
            [
             0.9,
             "#4d9221"
            ],
            [
             1,
             "#276419"
            ]
           ],
           "sequential": [
            [
             0,
             "#0d0887"
            ],
            [
             0.1111111111111111,
             "#46039f"
            ],
            [
             0.2222222222222222,
             "#7201a8"
            ],
            [
             0.3333333333333333,
             "#9c179e"
            ],
            [
             0.4444444444444444,
             "#bd3786"
            ],
            [
             0.5555555555555556,
             "#d8576b"
            ],
            [
             0.6666666666666666,
             "#ed7953"
            ],
            [
             0.7777777777777778,
             "#fb9f3a"
            ],
            [
             0.8888888888888888,
             "#fdca26"
            ],
            [
             1,
             "#f0f921"
            ]
           ],
           "sequentialminus": [
            [
             0,
             "#0d0887"
            ],
            [
             0.1111111111111111,
             "#46039f"
            ],
            [
             0.2222222222222222,
             "#7201a8"
            ],
            [
             0.3333333333333333,
             "#9c179e"
            ],
            [
             0.4444444444444444,
             "#bd3786"
            ],
            [
             0.5555555555555556,
             "#d8576b"
            ],
            [
             0.6666666666666666,
             "#ed7953"
            ],
            [
             0.7777777777777778,
             "#fb9f3a"
            ],
            [
             0.8888888888888888,
             "#fdca26"
            ],
            [
             1,
             "#f0f921"
            ]
           ]
          },
          "colorway": [
           "#636efa",
           "#EF553B",
           "#00cc96",
           "#ab63fa",
           "#FFA15A",
           "#19d3f3",
           "#FF6692",
           "#B6E880",
           "#FF97FF",
           "#FECB52"
          ],
          "font": {
           "color": "#f2f5fa"
          },
          "geo": {
           "bgcolor": "rgb(17,17,17)",
           "lakecolor": "rgb(17,17,17)",
           "landcolor": "rgb(17,17,17)",
           "showlakes": true,
           "showland": true,
           "subunitcolor": "#506784"
          },
          "hoverlabel": {
           "align": "left"
          },
          "hovermode": "closest",
          "mapbox": {
           "style": "dark"
          },
          "paper_bgcolor": "rgb(17,17,17)",
          "plot_bgcolor": "rgb(17,17,17)",
          "polar": {
           "angularaxis": {
            "gridcolor": "#506784",
            "linecolor": "#506784",
            "ticks": ""
           },
           "bgcolor": "rgb(17,17,17)",
           "radialaxis": {
            "gridcolor": "#506784",
            "linecolor": "#506784",
            "ticks": ""
           }
          },
          "scene": {
           "xaxis": {
            "backgroundcolor": "rgb(17,17,17)",
            "gridcolor": "#506784",
            "gridwidth": 2,
            "linecolor": "#506784",
            "showbackground": true,
            "ticks": "",
            "zerolinecolor": "#C8D4E3"
           },
           "yaxis": {
            "backgroundcolor": "rgb(17,17,17)",
            "gridcolor": "#506784",
            "gridwidth": 2,
            "linecolor": "#506784",
            "showbackground": true,
            "ticks": "",
            "zerolinecolor": "#C8D4E3"
           },
           "zaxis": {
            "backgroundcolor": "rgb(17,17,17)",
            "gridcolor": "#506784",
            "gridwidth": 2,
            "linecolor": "#506784",
            "showbackground": true,
            "ticks": "",
            "zerolinecolor": "#C8D4E3"
           }
          },
          "shapedefaults": {
           "line": {
            "color": "#f2f5fa"
           }
          },
          "sliderdefaults": {
           "bgcolor": "#C8D4E3",
           "bordercolor": "rgb(17,17,17)",
           "borderwidth": 1,
           "tickwidth": 0
          },
          "ternary": {
           "aaxis": {
            "gridcolor": "#506784",
            "linecolor": "#506784",
            "ticks": ""
           },
           "baxis": {
            "gridcolor": "#506784",
            "linecolor": "#506784",
            "ticks": ""
           },
           "bgcolor": "rgb(17,17,17)",
           "caxis": {
            "gridcolor": "#506784",
            "linecolor": "#506784",
            "ticks": ""
           }
          },
          "title": {
           "x": 0.05
          },
          "updatemenudefaults": {
           "bgcolor": "#506784",
           "borderwidth": 0
          },
          "xaxis": {
           "automargin": true,
           "gridcolor": "#283442",
           "linecolor": "#506784",
           "ticks": "",
           "title": {
            "standoff": 15
           },
           "zerolinecolor": "#283442",
           "zerolinewidth": 2
          },
          "yaxis": {
           "automargin": true,
           "gridcolor": "#283442",
           "linecolor": "#506784",
           "ticks": "",
           "title": {
            "standoff": 15
           },
           "zerolinecolor": "#283442",
           "zerolinewidth": 2
          }
         }
        },
        "width": 500
       }
      },
      "text/html": [
       "<div>                            <div id=\"7be7d4e3-9394-4554-abac-6d1e5cd90b50\" class=\"plotly-graph-div\" style=\"height:525px; width:500px;\"></div>            <script type=\"text/javascript\">                require([\"plotly\"], function(Plotly) {                    window.PLOTLYENV=window.PLOTLYENV || {};                                    if (document.getElementById(\"7be7d4e3-9394-4554-abac-6d1e5cd90b50\")) {                    Plotly.newPlot(                        \"7be7d4e3-9394-4554-abac-6d1e5cd90b50\",                        [{\"mode\":\"lines\",\"name\":\"brick 0\",\"x\":[4.5,4.5,4.5,4.5,4.5,4.5,4.5,5.5,5.5,4.5,4.5,4.5,5.5,5.5,4.5,4.5,4.5,4.5,4.5,4.5,5.5,5.5,5.5,5.5,5.5,5.5,5.5,5.5,5.5,5.5,4.5],\"y\":[4.5,4.5,7.5,7.5,4.5,7.5,7.5,7.5,7.5,7.5,4.5,4.5,4.5,4.5,4.5,4.5,4.5,7.5,7.5,4.5,4.5,4.5,7.5,7.5,4.5,4.5,4.5,7.5,7.5,4.5,4.5],\"z\":[155.5,156.5,156.5,155.5,155.5,155.5,156.5,156.5,155.5,155.5,155.5,156.5,156.5,155.5,155.5,155.5,156.5,156.5,155.5,155.5,155.5,156.5,156.5,155.5,155.5,155.5,156.5,156.5,155.5,155.5,155.5],\"type\":\"scatter3d\"},{\"mode\":\"lines\",\"name\":\"brick 1\",\"x\":[7.5,7.5,7.5,7.5,7.5,7.5,7.5,8.5,8.5,7.5,7.5,7.5,8.5,8.5,7.5,7.5,7.5,7.5,7.5,7.5,8.5,8.5,8.5,8.5,8.5,8.5,8.5,8.5,8.5,8.5,7.5],\"y\":[4.5,4.5,7.5,7.5,4.5,7.5,7.5,7.5,7.5,7.5,4.5,4.5,4.5,4.5,4.5,4.5,4.5,7.5,7.5,4.5,4.5,4.5,7.5,7.5,4.5,4.5,4.5,7.5,7.5,4.5,4.5],\"z\":[81.5,82.5,82.5,81.5,81.5,81.5,82.5,82.5,81.5,81.5,81.5,82.5,82.5,81.5,81.5,81.5,82.5,82.5,81.5,81.5,81.5,82.5,82.5,81.5,81.5,81.5,82.5,82.5,81.5,81.5,81.5],\"type\":\"scatter3d\"},{\"mode\":\"lines\",\"name\":\"brick 2\",\"x\":[5.5,5.5,5.5,5.5,5.5,5.5,5.5,6.5,6.5,5.5,5.5,5.5,6.5,6.5,5.5,5.5,5.5,5.5,5.5,5.5,6.5,6.5,6.5,6.5,6.5,6.5,6.5,6.5,6.5,6.5,5.5],\"y\":[4.5,4.5,7.5,7.5,4.5,7.5,7.5,7.5,7.5,7.5,4.5,4.5,4.5,4.5,4.5,4.5,4.5,7.5,7.5,4.5,4.5,4.5,7.5,7.5,4.5,4.5,4.5,7.5,7.5,4.5,4.5],\"z\":[195.5,196.5,196.5,195.5,195.5,195.5,196.5,196.5,195.5,195.5,195.5,196.5,196.5,195.5,195.5,195.5,196.5,196.5,195.5,195.5,195.5,196.5,196.5,195.5,195.5,195.5,196.5,196.5,195.5,195.5,195.5],\"type\":\"scatter3d\"},{\"mode\":\"lines\",\"name\":\"brick 3\",\"x\":[-0.5,-0.5,-0.5,-0.5,-0.5,-0.5,-0.5,0.5,0.5,-0.5,-0.5,-0.5,0.5,0.5,-0.5,-0.5,-0.5,-0.5,-0.5,-0.5,0.5,0.5,0.5,0.5,0.5,0.5,0.5,0.5,0.5,0.5,-0.5],\"y\":[6.5,6.5,8.5,8.5,6.5,8.5,8.5,8.5,8.5,8.5,6.5,6.5,6.5,6.5,6.5,6.5,6.5,8.5,8.5,6.5,6.5,6.5,8.5,8.5,6.5,6.5,6.5,8.5,8.5,6.5,6.5],\"z\":[6.5,7.5,7.5,6.5,6.5,6.5,7.5,7.5,6.5,6.5,6.5,7.5,7.5,6.5,6.5,6.5,7.5,7.5,6.5,6.5,6.5,7.5,7.5,6.5,6.5,6.5,7.5,7.5,6.5,6.5,6.5],\"type\":\"scatter3d\"},{\"mode\":\"lines\",\"name\":\"brick 4\",\"x\":[1.5,1.5,1.5,1.5,1.5,1.5,1.5,2.5,2.5,1.5,1.5,1.5,2.5,2.5,1.5,1.5,1.5,1.5,1.5,1.5,2.5,2.5,2.5,2.5,2.5,2.5,2.5,2.5,2.5,2.5,1.5],\"y\":[2.5,2.5,6.5,6.5,2.5,6.5,6.5,6.5,6.5,6.5,2.5,2.5,2.5,2.5,2.5,2.5,2.5,6.5,6.5,2.5,2.5,2.5,6.5,6.5,2.5,2.5,2.5,6.5,6.5,2.5,2.5],\"z\":[128.5,129.5,129.5,128.5,128.5,128.5,129.5,129.5,128.5,128.5,128.5,129.5,129.5,128.5,128.5,128.5,129.5,129.5,128.5,128.5,128.5,129.5,129.5,128.5,128.5,128.5,129.5,129.5,128.5,128.5,128.5],\"type\":\"scatter3d\"},{\"mode\":\"lines\",\"name\":\"brick 5\",\"x\":[8.5,8.5,8.5,8.5,8.5,8.5,8.5,9.5,9.5,8.5,8.5,8.5,9.5,9.5,8.5,8.5,8.5,8.5,8.5,8.5,9.5,9.5,9.5,9.5,9.5,9.5,9.5,9.5,9.5,9.5,8.5],\"y\":[4.5,4.5,7.5,7.5,4.5,7.5,7.5,7.5,7.5,7.5,4.5,4.5,4.5,4.5,4.5,4.5,4.5,7.5,7.5,4.5,4.5,4.5,7.5,7.5,4.5,4.5,4.5,7.5,7.5,4.5,4.5],\"z\":[264.5,265.5,265.5,264.5,264.5,264.5,265.5,265.5,264.5,264.5,264.5,265.5,265.5,264.5,264.5,264.5,265.5,265.5,264.5,264.5,264.5,265.5,265.5,264.5,264.5,264.5,265.5,265.5,264.5,264.5,264.5],\"type\":\"scatter3d\"},{\"mode\":\"lines\",\"name\":\"brick 6\",\"x\":[0.5,0.5,0.5,0.5,0.5,0.5,0.5,3.5,3.5,0.5,0.5,0.5,3.5,3.5,0.5,0.5,0.5,0.5,0.5,0.5,3.5,3.5,3.5,3.5,3.5,3.5,3.5,3.5,3.5,3.5,0.5],\"y\":[3.5,3.5,4.5,4.5,3.5,4.5,4.5,4.5,4.5,4.5,3.5,3.5,3.5,3.5,3.5,3.5,3.5,4.5,4.5,3.5,3.5,3.5,4.5,4.5,3.5,3.5,3.5,4.5,4.5,3.5,3.5],\"z\":[277.5,278.5,278.5,277.5,277.5,277.5,278.5,278.5,277.5,277.5,277.5,278.5,278.5,277.5,277.5,277.5,278.5,278.5,277.5,277.5,277.5,278.5,278.5,277.5,277.5,277.5,278.5,278.5,277.5,277.5,277.5],\"type\":\"scatter3d\"},{\"mode\":\"lines\",\"name\":\"brick 7\",\"x\":[1.5,1.5,1.5,1.5,1.5,1.5,1.5,4.5,4.5,1.5,1.5,1.5,4.5,4.5,1.5,1.5,1.5,1.5,1.5,1.5,4.5,4.5,4.5,4.5,4.5,4.5,4.5,4.5,4.5,4.5,1.5],\"y\":[5.5,5.5,6.5,6.5,5.5,6.5,6.5,6.5,6.5,6.5,5.5,5.5,5.5,5.5,5.5,5.5,5.5,6.5,6.5,5.5,5.5,5.5,6.5,6.5,5.5,5.5,5.5,6.5,6.5,5.5,5.5],\"z\":[148.5,149.5,149.5,148.5,148.5,148.5,149.5,149.5,148.5,148.5,148.5,149.5,149.5,148.5,148.5,148.5,149.5,149.5,148.5,148.5,148.5,149.5,149.5,148.5,148.5,148.5,149.5,149.5,148.5,148.5,148.5],\"type\":\"scatter3d\"},{\"mode\":\"lines\",\"name\":\"brick 8\",\"x\":[6.5,6.5,6.5,6.5,6.5,6.5,6.5,9.5,9.5,6.5,6.5,6.5,9.5,9.5,6.5,6.5,6.5,6.5,6.5,6.5,9.5,9.5,9.5,9.5,9.5,9.5,9.5,9.5,9.5,9.5,6.5],\"y\":[6.5,6.5,7.5,7.5,6.5,7.5,7.5,7.5,7.5,7.5,6.5,6.5,6.5,6.5,6.5,6.5,6.5,7.5,7.5,6.5,6.5,6.5,7.5,7.5,6.5,6.5,6.5,7.5,7.5,6.5,6.5],\"z\":[245.5,246.5,246.5,245.5,245.5,245.5,246.5,246.5,245.5,245.5,245.5,246.5,246.5,245.5,245.5,245.5,246.5,246.5,245.5,245.5,245.5,246.5,246.5,245.5,245.5,245.5,246.5,246.5,245.5,245.5,245.5],\"type\":\"scatter3d\"},{\"mode\":\"lines\",\"name\":\"brick 9\",\"x\":[7.5,7.5,7.5,7.5,7.5,7.5,7.5,9.5,9.5,7.5,7.5,7.5,9.5,9.5,7.5,7.5,7.5,7.5,7.5,7.5,9.5,9.5,9.5,9.5,9.5,9.5,9.5,9.5,9.5,9.5,7.5],\"y\":[5.5,5.5,6.5,6.5,5.5,6.5,6.5,6.5,6.5,6.5,5.5,5.5,5.5,5.5,5.5,5.5,5.5,6.5,6.5,5.5,5.5,5.5,6.5,6.5,5.5,5.5,5.5,6.5,6.5,5.5,5.5],\"z\":[281.5,282.5,282.5,281.5,281.5,281.5,282.5,282.5,281.5,281.5,281.5,282.5,282.5,281.5,281.5,281.5,282.5,282.5,281.5,281.5,281.5,282.5,282.5,281.5,281.5,281.5,282.5,282.5,281.5,281.5,281.5],\"type\":\"scatter3d\"},{\"mode\":\"lines\",\"name\":\"brick 10\",\"x\":[0.5,0.5,0.5,0.5,0.5,0.5,0.5,1.5,1.5,0.5,0.5,0.5,1.5,1.5,0.5,0.5,0.5,0.5,0.5,0.5,1.5,1.5,1.5,1.5,1.5,1.5,1.5,1.5,1.5,1.5,0.5],\"y\":[0.5,0.5,5.5,5.5,0.5,5.5,5.5,5.5,5.5,5.5,0.5,0.5,0.5,0.5,0.5,0.5,0.5,5.5,5.5,0.5,0.5,0.5,5.5,5.5,0.5,0.5,0.5,5.5,5.5,0.5,0.5],\"z\":[288.5,289.5,289.5,288.5,288.5,288.5,289.5,289.5,288.5,288.5,288.5,289.5,289.5,288.5,288.5,288.5,289.5,289.5,288.5,288.5,288.5,289.5,289.5,288.5,288.5,288.5,289.5,289.5,288.5,288.5,288.5],\"type\":\"scatter3d\"},{\"mode\":\"lines\",\"name\":\"brick 11\",\"x\":[6.5,6.5,6.5,6.5,6.5,6.5,6.5,7.5,7.5,6.5,6.5,6.5,7.5,7.5,6.5,6.5,6.5,6.5,6.5,6.5,7.5,7.5,7.5,7.5,7.5,7.5,7.5,7.5,7.5,7.5,6.5],\"y\":[2.5,2.5,6.5,6.5,2.5,6.5,6.5,6.5,6.5,6.5,2.5,2.5,2.5,2.5,2.5,2.5,2.5,6.5,6.5,2.5,2.5,2.5,6.5,6.5,2.5,2.5,2.5,6.5,6.5,2.5,2.5],\"z\":[69.5,70.5,70.5,69.5,69.5,69.5,70.5,70.5,69.5,69.5,69.5,70.5,70.5,69.5,69.5,69.5,70.5,70.5,69.5,69.5,69.5,70.5,70.5,69.5,69.5,69.5,70.5,70.5,69.5,69.5,69.5],\"type\":\"scatter3d\"},{\"mode\":\"lines\",\"name\":\"brick 12\",\"x\":[2.5,2.5,2.5,2.5,2.5,2.5,2.5,3.5,3.5,2.5,2.5,2.5,3.5,3.5,2.5,2.5,2.5,2.5,2.5,2.5,3.5,3.5,3.5,3.5,3.5,3.5,3.5,3.5,3.5,3.5,2.5],\"y\":[8.5,8.5,9.5,9.5,8.5,9.5,9.5,9.5,9.5,9.5,8.5,8.5,8.5,8.5,8.5,8.5,8.5,9.5,9.5,8.5,8.5,8.5,9.5,9.5,8.5,8.5,8.5,9.5,9.5,8.5,8.5],\"z\":[277.5,280.5,280.5,277.5,277.5,277.5,280.5,280.5,277.5,277.5,277.5,280.5,280.5,277.5,277.5,277.5,280.5,280.5,277.5,277.5,277.5,280.5,280.5,277.5,277.5,277.5,280.5,280.5,277.5,277.5,277.5],\"type\":\"scatter3d\"},{\"mode\":\"lines\",\"name\":\"brick 13\",\"x\":[5.5,5.5,5.5,5.5,5.5,5.5,5.5,7.5,7.5,5.5,5.5,5.5,7.5,7.5,5.5,5.5,5.5,5.5,5.5,5.5,7.5,7.5,7.5,7.5,7.5,7.5,7.5,7.5,7.5,7.5,5.5],\"y\":[8.5,8.5,9.5,9.5,8.5,9.5,9.5,9.5,9.5,9.5,8.5,8.5,8.5,8.5,8.5,8.5,8.5,9.5,9.5,8.5,8.5,8.5,9.5,9.5,8.5,8.5,8.5,9.5,9.5,8.5,8.5],\"z\":[260.5,261.5,261.5,260.5,260.5,260.5,261.5,261.5,260.5,260.5,260.5,261.5,261.5,260.5,260.5,260.5,261.5,261.5,260.5,260.5,260.5,261.5,261.5,260.5,260.5,260.5,261.5,261.5,260.5,260.5,260.5],\"type\":\"scatter3d\"},{\"mode\":\"lines\",\"name\":\"brick 14\",\"x\":[2.5,2.5,2.5,2.5,2.5,2.5,2.5,5.5,5.5,2.5,2.5,2.5,5.5,5.5,2.5,2.5,2.5,2.5,2.5,2.5,5.5,5.5,5.5,5.5,5.5,5.5,5.5,5.5,5.5,5.5,2.5],\"y\":[4.5,4.5,5.5,5.5,4.5,5.5,5.5,5.5,5.5,5.5,4.5,4.5,4.5,4.5,4.5,4.5,4.5,5.5,5.5,4.5,4.5,4.5,5.5,5.5,4.5,4.5,4.5,5.5,5.5,4.5,4.5],\"z\":[74.5,75.5,75.5,74.5,74.5,74.5,75.5,75.5,74.5,74.5,74.5,75.5,75.5,74.5,74.5,74.5,75.5,75.5,74.5,74.5,74.5,75.5,75.5,74.5,74.5,74.5,75.5,75.5,74.5,74.5,74.5],\"type\":\"scatter3d\"},{\"mode\":\"lines\",\"name\":\"brick 15\",\"x\":[2.5,2.5,2.5,2.5,2.5,2.5,2.5,3.5,3.5,2.5,2.5,2.5,3.5,3.5,2.5,2.5,2.5,2.5,2.5,2.5,3.5,3.5,3.5,3.5,3.5,3.5,3.5,3.5,3.5,3.5,2.5],\"y\":[0.5,0.5,1.5,1.5,0.5,1.5,1.5,1.5,1.5,1.5,0.5,0.5,0.5,0.5,0.5,0.5,0.5,1.5,1.5,0.5,0.5,0.5,1.5,1.5,0.5,0.5,0.5,1.5,1.5,0.5,0.5],\"z\":[220.5,224.5,224.5,220.5,220.5,220.5,224.5,224.5,220.5,220.5,220.5,224.5,224.5,220.5,220.5,220.5,224.5,224.5,220.5,220.5,220.5,224.5,224.5,220.5,220.5,220.5,224.5,224.5,220.5,220.5,220.5],\"type\":\"scatter3d\"},{\"mode\":\"lines\",\"name\":\"brick 16\",\"x\":[-0.5,-0.5,-0.5,-0.5,-0.5,-0.5,-0.5,2.5,2.5,-0.5,-0.5,-0.5,2.5,2.5,-0.5,-0.5,-0.5,-0.5,-0.5,-0.5,2.5,2.5,2.5,2.5,2.5,2.5,2.5,2.5,2.5,2.5,-0.5],\"y\":[8.5,8.5,9.5,9.5,8.5,9.5,9.5,9.5,9.5,9.5,8.5,8.5,8.5,8.5,8.5,8.5,8.5,9.5,9.5,8.5,8.5,8.5,9.5,9.5,8.5,8.5,8.5,9.5,9.5,8.5,8.5],\"z\":[210.5,211.5,211.5,210.5,210.5,210.5,211.5,211.5,210.5,210.5,210.5,211.5,211.5,210.5,210.5,210.5,211.5,211.5,210.5,210.5,210.5,211.5,211.5,210.5,210.5,210.5,211.5,211.5,210.5,210.5,210.5],\"type\":\"scatter3d\"},{\"mode\":\"lines\",\"name\":\"brick 17\",\"x\":[2.5,2.5,2.5,2.5,2.5,2.5,2.5,4.5,4.5,2.5,2.5,2.5,4.5,4.5,2.5,2.5,2.5,2.5,2.5,2.5,4.5,4.5,4.5,4.5,4.5,4.5,4.5,4.5,4.5,4.5,2.5],\"y\":[8.5,8.5,9.5,9.5,8.5,9.5,9.5,9.5,9.5,9.5,8.5,8.5,8.5,8.5,8.5,8.5,8.5,9.5,9.5,8.5,8.5,8.5,9.5,9.5,8.5,8.5,8.5,9.5,9.5,8.5,8.5],\"z\":[250.5,251.5,251.5,250.5,250.5,250.5,251.5,251.5,250.5,250.5,250.5,251.5,251.5,250.5,250.5,250.5,251.5,251.5,250.5,250.5,250.5,251.5,251.5,250.5,250.5,250.5,251.5,251.5,250.5,250.5,250.5],\"type\":\"scatter3d\"},{\"mode\":\"lines\",\"name\":\"brick 18\",\"x\":[-0.5,-0.5,-0.5,-0.5,-0.5,-0.5,-0.5,2.5,2.5,-0.5,-0.5,-0.5,2.5,2.5,-0.5,-0.5,-0.5,-0.5,-0.5,-0.5,2.5,2.5,2.5,2.5,2.5,2.5,2.5,2.5,2.5,2.5,-0.5],\"y\":[3.5,3.5,4.5,4.5,3.5,4.5,4.5,4.5,4.5,4.5,3.5,3.5,3.5,3.5,3.5,3.5,3.5,4.5,4.5,3.5,3.5,3.5,4.5,4.5,3.5,3.5,3.5,4.5,4.5,3.5,3.5],\"z\":[27.5,28.5,28.5,27.5,27.5,27.5,28.5,28.5,27.5,27.5,27.5,28.5,28.5,27.5,27.5,27.5,28.5,28.5,27.5,27.5,27.5,28.5,28.5,27.5,27.5,27.5,28.5,28.5,27.5,27.5,27.5],\"type\":\"scatter3d\"},{\"mode\":\"lines\",\"name\":\"brick 19\",\"x\":[1.5,1.5,1.5,1.5,1.5,1.5,1.5,2.5,2.5,1.5,1.5,1.5,2.5,2.5,1.5,1.5,1.5,1.5,1.5,1.5,2.5,2.5,2.5,2.5,2.5,2.5,2.5,2.5,2.5,2.5,1.5],\"y\":[6.5,6.5,7.5,7.5,6.5,7.5,7.5,7.5,7.5,7.5,6.5,6.5,6.5,6.5,6.5,6.5,6.5,7.5,7.5,6.5,6.5,6.5,7.5,7.5,6.5,6.5,6.5,7.5,7.5,6.5,6.5],\"z\":[290.5,293.5,293.5,290.5,290.5,290.5,293.5,293.5,290.5,290.5,290.5,293.5,293.5,290.5,290.5,290.5,293.5,293.5,290.5,290.5,290.5,293.5,293.5,290.5,290.5,290.5,293.5,293.5,290.5,290.5,290.5],\"type\":\"scatter3d\"}],                        {\"template\":{\"data\":{\"barpolar\":[{\"marker\":{\"line\":{\"color\":\"rgb(17,17,17)\",\"width\":0.5},\"pattern\":{\"fillmode\":\"overlay\",\"size\":10,\"solidity\":0.2}},\"type\":\"barpolar\"}],\"bar\":[{\"error_x\":{\"color\":\"#f2f5fa\"},\"error_y\":{\"color\":\"#f2f5fa\"},\"marker\":{\"line\":{\"color\":\"rgb(17,17,17)\",\"width\":0.5},\"pattern\":{\"fillmode\":\"overlay\",\"size\":10,\"solidity\":0.2}},\"type\":\"bar\"}],\"carpet\":[{\"aaxis\":{\"endlinecolor\":\"#A2B1C6\",\"gridcolor\":\"#506784\",\"linecolor\":\"#506784\",\"minorgridcolor\":\"#506784\",\"startlinecolor\":\"#A2B1C6\"},\"baxis\":{\"endlinecolor\":\"#A2B1C6\",\"gridcolor\":\"#506784\",\"linecolor\":\"#506784\",\"minorgridcolor\":\"#506784\",\"startlinecolor\":\"#A2B1C6\"},\"type\":\"carpet\"}],\"choropleth\":[{\"colorbar\":{\"outlinewidth\":0,\"ticks\":\"\"},\"type\":\"choropleth\"}],\"contourcarpet\":[{\"colorbar\":{\"outlinewidth\":0,\"ticks\":\"\"},\"type\":\"contourcarpet\"}],\"contour\":[{\"colorbar\":{\"outlinewidth\":0,\"ticks\":\"\"},\"colorscale\":[[0.0,\"#0d0887\"],[0.1111111111111111,\"#46039f\"],[0.2222222222222222,\"#7201a8\"],[0.3333333333333333,\"#9c179e\"],[0.4444444444444444,\"#bd3786\"],[0.5555555555555556,\"#d8576b\"],[0.6666666666666666,\"#ed7953\"],[0.7777777777777778,\"#fb9f3a\"],[0.8888888888888888,\"#fdca26\"],[1.0,\"#f0f921\"]],\"type\":\"contour\"}],\"heatmapgl\":[{\"colorbar\":{\"outlinewidth\":0,\"ticks\":\"\"},\"colorscale\":[[0.0,\"#0d0887\"],[0.1111111111111111,\"#46039f\"],[0.2222222222222222,\"#7201a8\"],[0.3333333333333333,\"#9c179e\"],[0.4444444444444444,\"#bd3786\"],[0.5555555555555556,\"#d8576b\"],[0.6666666666666666,\"#ed7953\"],[0.7777777777777778,\"#fb9f3a\"],[0.8888888888888888,\"#fdca26\"],[1.0,\"#f0f921\"]],\"type\":\"heatmapgl\"}],\"heatmap\":[{\"colorbar\":{\"outlinewidth\":0,\"ticks\":\"\"},\"colorscale\":[[0.0,\"#0d0887\"],[0.1111111111111111,\"#46039f\"],[0.2222222222222222,\"#7201a8\"],[0.3333333333333333,\"#9c179e\"],[0.4444444444444444,\"#bd3786\"],[0.5555555555555556,\"#d8576b\"],[0.6666666666666666,\"#ed7953\"],[0.7777777777777778,\"#fb9f3a\"],[0.8888888888888888,\"#fdca26\"],[1.0,\"#f0f921\"]],\"type\":\"heatmap\"}],\"histogram2dcontour\":[{\"colorbar\":{\"outlinewidth\":0,\"ticks\":\"\"},\"colorscale\":[[0.0,\"#0d0887\"],[0.1111111111111111,\"#46039f\"],[0.2222222222222222,\"#7201a8\"],[0.3333333333333333,\"#9c179e\"],[0.4444444444444444,\"#bd3786\"],[0.5555555555555556,\"#d8576b\"],[0.6666666666666666,\"#ed7953\"],[0.7777777777777778,\"#fb9f3a\"],[0.8888888888888888,\"#fdca26\"],[1.0,\"#f0f921\"]],\"type\":\"histogram2dcontour\"}],\"histogram2d\":[{\"colorbar\":{\"outlinewidth\":0,\"ticks\":\"\"},\"colorscale\":[[0.0,\"#0d0887\"],[0.1111111111111111,\"#46039f\"],[0.2222222222222222,\"#7201a8\"],[0.3333333333333333,\"#9c179e\"],[0.4444444444444444,\"#bd3786\"],[0.5555555555555556,\"#d8576b\"],[0.6666666666666666,\"#ed7953\"],[0.7777777777777778,\"#fb9f3a\"],[0.8888888888888888,\"#fdca26\"],[1.0,\"#f0f921\"]],\"type\":\"histogram2d\"}],\"histogram\":[{\"marker\":{\"pattern\":{\"fillmode\":\"overlay\",\"size\":10,\"solidity\":0.2}},\"type\":\"histogram\"}],\"mesh3d\":[{\"colorbar\":{\"outlinewidth\":0,\"ticks\":\"\"},\"type\":\"mesh3d\"}],\"parcoords\":[{\"line\":{\"colorbar\":{\"outlinewidth\":0,\"ticks\":\"\"}},\"type\":\"parcoords\"}],\"pie\":[{\"automargin\":true,\"type\":\"pie\"}],\"scatter3d\":[{\"line\":{\"colorbar\":{\"outlinewidth\":0,\"ticks\":\"\"}},\"marker\":{\"colorbar\":{\"outlinewidth\":0,\"ticks\":\"\"}},\"type\":\"scatter3d\"}],\"scattercarpet\":[{\"marker\":{\"colorbar\":{\"outlinewidth\":0,\"ticks\":\"\"}},\"type\":\"scattercarpet\"}],\"scattergeo\":[{\"marker\":{\"colorbar\":{\"outlinewidth\":0,\"ticks\":\"\"}},\"type\":\"scattergeo\"}],\"scattergl\":[{\"marker\":{\"line\":{\"color\":\"#283442\"}},\"type\":\"scattergl\"}],\"scattermapbox\":[{\"marker\":{\"colorbar\":{\"outlinewidth\":0,\"ticks\":\"\"}},\"type\":\"scattermapbox\"}],\"scatterpolargl\":[{\"marker\":{\"colorbar\":{\"outlinewidth\":0,\"ticks\":\"\"}},\"type\":\"scatterpolargl\"}],\"scatterpolar\":[{\"marker\":{\"colorbar\":{\"outlinewidth\":0,\"ticks\":\"\"}},\"type\":\"scatterpolar\"}],\"scatter\":[{\"marker\":{\"line\":{\"color\":\"#283442\"}},\"type\":\"scatter\"}],\"scatterternary\":[{\"marker\":{\"colorbar\":{\"outlinewidth\":0,\"ticks\":\"\"}},\"type\":\"scatterternary\"}],\"surface\":[{\"colorbar\":{\"outlinewidth\":0,\"ticks\":\"\"},\"colorscale\":[[0.0,\"#0d0887\"],[0.1111111111111111,\"#46039f\"],[0.2222222222222222,\"#7201a8\"],[0.3333333333333333,\"#9c179e\"],[0.4444444444444444,\"#bd3786\"],[0.5555555555555556,\"#d8576b\"],[0.6666666666666666,\"#ed7953\"],[0.7777777777777778,\"#fb9f3a\"],[0.8888888888888888,\"#fdca26\"],[1.0,\"#f0f921\"]],\"type\":\"surface\"}],\"table\":[{\"cells\":{\"fill\":{\"color\":\"#506784\"},\"line\":{\"color\":\"rgb(17,17,17)\"}},\"header\":{\"fill\":{\"color\":\"#2a3f5f\"},\"line\":{\"color\":\"rgb(17,17,17)\"}},\"type\":\"table\"}]},\"layout\":{\"annotationdefaults\":{\"arrowcolor\":\"#f2f5fa\",\"arrowhead\":0,\"arrowwidth\":1},\"autotypenumbers\":\"strict\",\"coloraxis\":{\"colorbar\":{\"outlinewidth\":0,\"ticks\":\"\"}},\"colorscale\":{\"diverging\":[[0,\"#8e0152\"],[0.1,\"#c51b7d\"],[0.2,\"#de77ae\"],[0.3,\"#f1b6da\"],[0.4,\"#fde0ef\"],[0.5,\"#f7f7f7\"],[0.6,\"#e6f5d0\"],[0.7,\"#b8e186\"],[0.8,\"#7fbc41\"],[0.9,\"#4d9221\"],[1,\"#276419\"]],\"sequential\":[[0.0,\"#0d0887\"],[0.1111111111111111,\"#46039f\"],[0.2222222222222222,\"#7201a8\"],[0.3333333333333333,\"#9c179e\"],[0.4444444444444444,\"#bd3786\"],[0.5555555555555556,\"#d8576b\"],[0.6666666666666666,\"#ed7953\"],[0.7777777777777778,\"#fb9f3a\"],[0.8888888888888888,\"#fdca26\"],[1.0,\"#f0f921\"]],\"sequentialminus\":[[0.0,\"#0d0887\"],[0.1111111111111111,\"#46039f\"],[0.2222222222222222,\"#7201a8\"],[0.3333333333333333,\"#9c179e\"],[0.4444444444444444,\"#bd3786\"],[0.5555555555555556,\"#d8576b\"],[0.6666666666666666,\"#ed7953\"],[0.7777777777777778,\"#fb9f3a\"],[0.8888888888888888,\"#fdca26\"],[1.0,\"#f0f921\"]]},\"colorway\":[\"#636efa\",\"#EF553B\",\"#00cc96\",\"#ab63fa\",\"#FFA15A\",\"#19d3f3\",\"#FF6692\",\"#B6E880\",\"#FF97FF\",\"#FECB52\"],\"font\":{\"color\":\"#f2f5fa\"},\"geo\":{\"bgcolor\":\"rgb(17,17,17)\",\"lakecolor\":\"rgb(17,17,17)\",\"landcolor\":\"rgb(17,17,17)\",\"showlakes\":true,\"showland\":true,\"subunitcolor\":\"#506784\"},\"hoverlabel\":{\"align\":\"left\"},\"hovermode\":\"closest\",\"mapbox\":{\"style\":\"dark\"},\"paper_bgcolor\":\"rgb(17,17,17)\",\"plot_bgcolor\":\"rgb(17,17,17)\",\"polar\":{\"angularaxis\":{\"gridcolor\":\"#506784\",\"linecolor\":\"#506784\",\"ticks\":\"\"},\"bgcolor\":\"rgb(17,17,17)\",\"radialaxis\":{\"gridcolor\":\"#506784\",\"linecolor\":\"#506784\",\"ticks\":\"\"}},\"scene\":{\"xaxis\":{\"backgroundcolor\":\"rgb(17,17,17)\",\"gridcolor\":\"#506784\",\"gridwidth\":2,\"linecolor\":\"#506784\",\"showbackground\":true,\"ticks\":\"\",\"zerolinecolor\":\"#C8D4E3\"},\"yaxis\":{\"backgroundcolor\":\"rgb(17,17,17)\",\"gridcolor\":\"#506784\",\"gridwidth\":2,\"linecolor\":\"#506784\",\"showbackground\":true,\"ticks\":\"\",\"zerolinecolor\":\"#C8D4E3\"},\"zaxis\":{\"backgroundcolor\":\"rgb(17,17,17)\",\"gridcolor\":\"#506784\",\"gridwidth\":2,\"linecolor\":\"#506784\",\"showbackground\":true,\"ticks\":\"\",\"zerolinecolor\":\"#C8D4E3\"}},\"shapedefaults\":{\"line\":{\"color\":\"#f2f5fa\"}},\"sliderdefaults\":{\"bgcolor\":\"#C8D4E3\",\"bordercolor\":\"rgb(17,17,17)\",\"borderwidth\":1,\"tickwidth\":0},\"ternary\":{\"aaxis\":{\"gridcolor\":\"#506784\",\"linecolor\":\"#506784\",\"ticks\":\"\"},\"baxis\":{\"gridcolor\":\"#506784\",\"linecolor\":\"#506784\",\"ticks\":\"\"},\"bgcolor\":\"rgb(17,17,17)\",\"caxis\":{\"gridcolor\":\"#506784\",\"linecolor\":\"#506784\",\"ticks\":\"\"}},\"title\":{\"x\":0.05},\"updatemenudefaults\":{\"bgcolor\":\"#506784\",\"borderwidth\":0},\"xaxis\":{\"automargin\":true,\"gridcolor\":\"#283442\",\"linecolor\":\"#506784\",\"ticks\":\"\",\"title\":{\"standoff\":15},\"zerolinecolor\":\"#283442\",\"zerolinewidth\":2},\"yaxis\":{\"automargin\":true,\"gridcolor\":\"#283442\",\"linecolor\":\"#506784\",\"ticks\":\"\",\"title\":{\"standoff\":15},\"zerolinecolor\":\"#283442\",\"zerolinewidth\":2}}},\"scene\":{\"xaxis\":{\"range\":[-1.5,10.5],\"gridcolor\":\"rgb(35, 35, 35)\",\"nticks\":0},\"yaxis\":{\"range\":[-1,10.5],\"gridcolor\":\"rgb(35, 35, 35)\",\"nticks\":0},\"zaxis\":{\"range\":[-1,294.5],\"gridcolor\":\"rgb(35, 35, 35)\",\"nticks\":0}},\"margin\":{\"r\":5,\"l\":5,\"b\":5,\"t\":5},\"width\":500},                        {\"responsive\": true}                    ).then(function(){\n",
       "                            \n",
       "var gd = document.getElementById('7be7d4e3-9394-4554-abac-6d1e5cd90b50');\n",
       "var x = new MutationObserver(function (mutations, observer) {{\n",
       "        var display = window.getComputedStyle(gd).display;\n",
       "        if (!display || display === 'none') {{\n",
       "            console.log([gd, 'removed!']);\n",
       "            Plotly.purge(gd);\n",
       "            observer.disconnect();\n",
       "        }}\n",
       "}});\n",
       "\n",
       "// Listen for the removal of the full notebook cells\n",
       "var notebookContainer = gd.closest('#notebook-container');\n",
       "if (notebookContainer) {{\n",
       "    x.observe(notebookContainer, {childList: true});\n",
       "}}\n",
       "\n",
       "// Listen for the clearing of the current output cell\n",
       "var outputEl = gd.closest('.output');\n",
       "if (outputEl) {{\n",
       "    x.observe(outputEl, {childList: true});\n",
       "}}\n",
       "\n",
       "                        })                };                });            </script>        </div>"
      ]
     },
     "metadata": {},
     "output_type": "display_data"
    }
   ],
   "source": [
    "inputs = open(\"../inputs/22.txt\").read().strip().splitlines()\n",
    "bricks = make_bricks(inputs)\n",
    "print(len(bricks))\n",
    "plot_bricks(bricks[:20])"
   ]
  },
  {
   "cell_type": "code",
   "execution_count": null,
   "metadata": {},
   "outputs": [],
   "source": []
  }
 ],
 "metadata": {
  "kernelspec": {
   "display_name": ".venv",
   "language": "python",
   "name": "python3"
  },
  "language_info": {
   "codemirror_mode": {
    "name": "ipython",
    "version": 3
   },
   "file_extension": ".py",
   "mimetype": "text/x-python",
   "name": "python",
   "nbconvert_exporter": "python",
   "pygments_lexer": "ipython3",
   "version": "3.11.5"
  }
 },
 "nbformat": 4,
 "nbformat_minor": 2
}
