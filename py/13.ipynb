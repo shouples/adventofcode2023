{
 "cells": [
  {
   "cell_type": "markdown",
   "metadata": {},
   "source": [
    "# Day 13\n",
    "\n",
    "## Part 1\n",
    "\n",
    "With your help, the hot springs team locates an appropriate spring which launches you neatly and precisely up to the edge of Lava Island.\n",
    "\n",
    "There's just one problem: you don't see any lava.\n",
    "\n",
    "You do see a lot of ash and igneous rock; there are even what look like gray mountains scattered around. After a while, you make your way to a nearby cluster of mountains only to discover that the valley between them is completely full of large mirrors. Most of the mirrors seem to be aligned in a consistent way; perhaps you should head in that direction?\n",
    "\n",
    "As you move through the valley of mirrors, you find that several of them have fallen from the large metal frames keeping them in place. The mirrors are extremely flat and shiny, and many of the fallen mirrors have lodged into the ash at strange angles. Because the terrain is all one color, it's hard to tell where it's safe to walk or where you're about to run into a mirror.\n",
    "\n",
    "You note down the patterns of ash (.) and rocks (#) that you see as you walk (your puzzle input); perhaps by carefully analyzing these patterns, you can figure out where the mirrors are!\n",
    "\n",
    "For example:\n",
    "\n",
    "```\n",
    "#.##..##.\n",
    "..#.##.#.\n",
    "##......#\n",
    "##......#\n",
    "..#.##.#.\n",
    "..##..##.\n",
    "#.#.##.#.\n",
    "\n",
    "#...##..#\n",
    "#....#..#\n",
    "..##..###\n",
    "#####.##.\n",
    "#####.##.\n",
    "..##..###\n",
    "#....#..#\n",
    "```\n",
    "To find the reflection in each pattern, you need to find a perfect reflection across either a horizontal line between two rows or across a vertical line between two columns.\n",
    "\n",
    "In the first pattern, the reflection is across a vertical line between two columns; arrows on each of the two columns point at the line between the columns:\n",
    "\n",
    "```\n",
    "123456789\n",
    "    ><   \n",
    "#.##..##.\n",
    "..#.##.#.\n",
    "##......#\n",
    "##......#\n",
    "..#.##.#.\n",
    "..##..##.\n",
    "#.#.##.#.\n",
    "    ><   \n",
    "123456789\n",
    "```\n",
    "In this pattern, the line of reflection is the vertical line between columns 5 and 6. Because the vertical line is not perfectly in the middle of the pattern, part of the pattern (column 1) has nowhere to reflect onto and can be ignored; every other column has a reflected column within the pattern and must match exactly: column 2 matches column 9, column 3 matches 8, 4 matches 7, and 5 matches 6.\n",
    "\n",
    "The second pattern reflects across a horizontal line instead:\n",
    "\n",
    "```\n",
    "1 #...##..# 1\n",
    "2 #....#..# 2\n",
    "3 ..##..### 3\n",
    "4v#####.##.v4\n",
    "5^#####.##.^5\n",
    "6 ..##..### 6\n",
    "7 #....#..# 7\n",
    "```\n",
    "This pattern reflects across the horizontal line between rows 4 and 5. Row 1 would reflect with a hypothetical row 8, but since that's not in the pattern, row 1 doesn't need to match anything. The remaining rows match: row 2 matches row 7, row 3 matches row 6, and row 4 matches row 5.\n",
    "\n",
    "To summarize your pattern notes, add up the number of columns to the left of each vertical line of reflection; to that, also add 100 multiplied by the number of rows above each horizontal line of reflection. In the above example, the first pattern's vertical line has 5 columns to its left and the second pattern's horizontal line has 4 rows above it, a total of 405.\n",
    "\n",
    "Find the line of reflection in each of the patterns in your notes. What number do you get after summarizing all of your notes?"
   ]
  },
  {
   "cell_type": "code",
   "execution_count": 75,
   "metadata": {},
   "outputs": [
    {
     "data": {
      "text/markdown": [
       "# `0`"
      ],
      "text/plain": [
       "<IPython.core.display.Markdown object>"
      ]
     },
     "metadata": {},
     "output_type": "display_data"
    },
    {
     "data": {
      "text/markdown": [
       "# `1`"
      ],
      "text/plain": [
       "<IPython.core.display.Markdown object>"
      ]
     },
     "metadata": {},
     "output_type": "display_data"
    },
    {
     "name": "stdout",
     "output_type": "stream",
     "text": [
      "405\n"
     ]
    }
   ],
   "source": [
    "from IPython.display import Markdown\n",
    "from typing import Optional\n",
    "import pandas as pd\n",
    "\n",
    "\n",
    "def find_mirror_position(df: pd.DataFrame, v: bool = False, show=False) -> Optional[int]:\n",
    "    max_score = 0\n",
    "    for i in range(1, len(df) + 1):\n",
    "        if i == len(df):\n",
    "            # can't split on the last row\n",
    "            continue\n",
    "\n",
    "        top_rows = df.iloc[:i]\n",
    "        bottom_rows = df.iloc[i:]\n",
    "\n",
    "        if len(top_rows) > len(bottom_rows):\n",
    "            # shorten top rows\n",
    "            top_rows = top_rows.tail(len(bottom_rows))\n",
    "        elif len(top_rows) < len(bottom_rows):\n",
    "            # shorten bottom rows\n",
    "            bottom_rows = bottom_rows.head(len(top_rows))\n",
    "\n",
    "        # flip the bottom rows' index positions so they (potentially) match the top\n",
    "        bottom_rows = bottom_rows.iloc[::-1]\n",
    "\n",
    "        assert len(bottom_rows) == len(top_rows)\n",
    "\n",
    "        # string comparisons on just the values is better than trying to compare the whole dataframe\n",
    "        # portions, which will include the index values and columns by default\n",
    "        t = top_rows.to_string(index=False, header=False)\n",
    "        b = bottom_rows.to_string(index=False, header=False)\n",
    "        if t == b:\n",
    "            df_copy = df.copy()\n",
    "            if v:\n",
    "                # debug_df = debug_df.transpose()\n",
    "                df_copy = df_copy.transpose()\n",
    "\n",
    "            # last row's index + 1 in `top_rows` is the position of the mirror line\n",
    "            last_index = top_rows.index[-1] + 1\n",
    "            # 1x for mirroring against a vertical line, 100x for a horizontal line\n",
    "            score = last_index * 100 if not v else last_index\n",
    "\n",
    "            if show:\n",
    "                display(\n",
    "                    Markdown(\n",
    "                        f\"### {'vertical' if v else 'horizontal'} line between {last_index-1}-{last_index}: {last_index} total row(s) -> {score=}\"\n",
    "                    )\n",
    "                )\n",
    "                print(f\"{last_index=}\")\n",
    "\n",
    "                def stuff(s, b: int):\n",
    "                    return [\"border: 3px dashed gold; color:gold\" if s.name <= b else \"\" for v in s]\n",
    "\n",
    "                display(\n",
    "                    df_copy.style.apply(\n",
    "                        stuff,\n",
    "                        b=last_index,\n",
    "                        axis=int(not v),\n",
    "                    )\n",
    "                    .map_index(\n",
    "                        lambda x: \"background-color: #99000077\"\n",
    "                        if x in top_rows.index\n",
    "                        else \"background-color: #00009977\"\n",
    "                        if x in bottom_rows.index\n",
    "                        else \"\",\n",
    "                        axis=int(v),\n",
    "                    )\n",
    "                    .map(lambda x: \"background-color: #00cccc77\" if x == 1 else \"\")\n",
    "                    .map_index(\n",
    "                        lambda x: \"color:gold\" if x <= max(top_rows.index) else None,\n",
    "                        axis=int(v),\n",
    "                    )\n",
    "                )\n",
    "\n",
    "            max_score += score\n",
    "    return max_score\n",
    "\n",
    "\n",
    "def find_mirror_lines(data: str, show: bool = False):\n",
    "    rows = data.split(\"\\n\")\n",
    "    df = pd.DataFrame([list(line) for line in rows]).astype(int)\n",
    "\n",
    "    score = 0\n",
    "\n",
    "    horizontal_line_score = find_mirror_position(df, show=show)\n",
    "    if horizontal_line_score is not None:\n",
    "        score += horizontal_line_score\n",
    "\n",
    "    vertical_line_score = find_mirror_position(df.transpose(), v=True, show=show)\n",
    "    if vertical_line_score is not None:\n",
    "        score += vertical_line_score\n",
    "\n",
    "    return score\n",
    "\n",
    "\n",
    "test_input = (\n",
    "    \"\"\"\n",
    "#.##..##.\n",
    "..#.##.#.\n",
    "##......#\n",
    "##......#\n",
    "..#.##.#.\n",
    "..##..##.\n",
    "#.#.##.#.\n",
    "\n",
    "#...##..#\n",
    "#....#..#\n",
    "..##..###\n",
    "#####.##.\n",
    "#####.##.\n",
    "..##..###\n",
    "#....#..#\"\"\".strip()\n",
    "    .replace(\"#\", \"1\")\n",
    "    .replace(\".\", \"0\")\n",
    "    .split(\"\\n\\n\")\n",
    ")\n",
    "\n",
    "test_total_score = 0\n",
    "for i, test_block in enumerate(test_input):\n",
    "    display(Markdown(f\"# `{i}`\"))\n",
    "    test_score = find_mirror_lines(test_block)\n",
    "    test_total_score += test_score\n",
    "print(test_total_score)\n",
    "assert test_total_score == 405"
   ]
  },
  {
   "cell_type": "code",
   "execution_count": 76,
   "metadata": {},
   "outputs": [
    {
     "data": {
      "text/markdown": [
       "# `19`"
      ],
      "text/plain": [
       "<IPython.core.display.Markdown object>"
      ]
     },
     "metadata": {},
     "output_type": "display_data"
    },
    {
     "data": {
      "text/markdown": [
       "### vertical line between 12-13: 13 total row(s) -> score=13"
      ],
      "text/plain": [
       "<IPython.core.display.Markdown object>"
      ]
     },
     "metadata": {},
     "output_type": "display_data"
    },
    {
     "name": "stdout",
     "output_type": "stream",
     "text": [
      "last_index=13\n"
     ]
    },
    {
     "data": {
      "text/html": [
       "<style type=\"text/css\">\n",
       "#T_a39e1_row0_col0, #T_a39e1_row0_col2, #T_a39e1_row0_col5, #T_a39e1_row0_col6, #T_a39e1_row0_col7, #T_a39e1_row0_col8, #T_a39e1_row0_col9, #T_a39e1_row0_col11, #T_a39e1_row1_col0, #T_a39e1_row1_col3, #T_a39e1_row1_col4, #T_a39e1_row1_col5, #T_a39e1_row1_col10, #T_a39e1_row2_col0, #T_a39e1_row2_col1, #T_a39e1_row2_col2, #T_a39e1_row2_col3, #T_a39e1_row2_col4, #T_a39e1_row2_col5, #T_a39e1_row2_col9, #T_a39e1_row2_col10, #T_a39e1_row2_col11, #T_a39e1_row2_col12, #T_a39e1_row2_col13, #T_a39e1_row3_col0, #T_a39e1_row3_col2, #T_a39e1_row3_col3, #T_a39e1_row3_col4, #T_a39e1_row3_col7, #T_a39e1_row3_col8, #T_a39e1_row3_col10, #T_a39e1_row3_col11, #T_a39e1_row3_col12, #T_a39e1_row3_col13, #T_a39e1_row4_col0, #T_a39e1_row4_col2, #T_a39e1_row4_col3, #T_a39e1_row4_col4, #T_a39e1_row4_col6, #T_a39e1_row4_col8, #T_a39e1_row4_col11, #T_a39e1_row4_col12, #T_a39e1_row4_col13, #T_a39e1_row5_col1, #T_a39e1_row5_col3, #T_a39e1_row5_col5, #T_a39e1_row5_col6, #T_a39e1_row5_col10, #T_a39e1_row5_col11, #T_a39e1_row5_col12, #T_a39e1_row5_col13, #T_a39e1_row6_col0, #T_a39e1_row6_col2, #T_a39e1_row6_col5, #T_a39e1_row6_col6, #T_a39e1_row6_col7, #T_a39e1_row6_col8, #T_a39e1_row6_col9, #T_a39e1_row7_col0, #T_a39e1_row7_col2, #T_a39e1_row7_col5, #T_a39e1_row7_col6, #T_a39e1_row7_col7, #T_a39e1_row7_col8, #T_a39e1_row7_col9, #T_a39e1_row8_col1, #T_a39e1_row8_col3, #T_a39e1_row8_col5, #T_a39e1_row8_col6, #T_a39e1_row8_col7, #T_a39e1_row8_col10, #T_a39e1_row8_col11, #T_a39e1_row8_col12, #T_a39e1_row8_col13 {\n",
       "  border: 3px dashed gold;\n",
       "  color: gold;\n",
       "}\n",
       "#T_a39e1_row0_col1, #T_a39e1_row0_col3, #T_a39e1_row0_col4, #T_a39e1_row0_col10, #T_a39e1_row0_col12, #T_a39e1_row0_col13, #T_a39e1_row1_col1, #T_a39e1_row1_col2, #T_a39e1_row1_col6, #T_a39e1_row1_col7, #T_a39e1_row1_col8, #T_a39e1_row1_col9, #T_a39e1_row1_col11, #T_a39e1_row1_col12, #T_a39e1_row1_col13, #T_a39e1_row2_col6, #T_a39e1_row2_col7, #T_a39e1_row2_col8, #T_a39e1_row3_col1, #T_a39e1_row3_col5, #T_a39e1_row3_col6, #T_a39e1_row3_col9, #T_a39e1_row4_col1, #T_a39e1_row4_col5, #T_a39e1_row4_col7, #T_a39e1_row4_col9, #T_a39e1_row4_col10, #T_a39e1_row5_col0, #T_a39e1_row5_col2, #T_a39e1_row5_col4, #T_a39e1_row5_col7, #T_a39e1_row5_col8, #T_a39e1_row5_col9, #T_a39e1_row6_col1, #T_a39e1_row6_col3, #T_a39e1_row6_col4, #T_a39e1_row6_col10, #T_a39e1_row6_col11, #T_a39e1_row6_col12, #T_a39e1_row6_col13, #T_a39e1_row7_col1, #T_a39e1_row7_col3, #T_a39e1_row7_col4, #T_a39e1_row7_col10, #T_a39e1_row7_col11, #T_a39e1_row7_col12, #T_a39e1_row7_col13, #T_a39e1_row8_col0, #T_a39e1_row8_col2, #T_a39e1_row8_col4, #T_a39e1_row8_col8, #T_a39e1_row8_col9 {\n",
       "  border: 3px dashed gold;\n",
       "  color: gold;\n",
       "  background-color: #00cccc77;\n",
       "}\n",
       "#T_a39e1_row0_col15, #T_a39e1_row1_col14, #T_a39e1_row1_col16, #T_a39e1_row3_col16, #T_a39e1_row4_col15, #T_a39e1_row4_col16, #T_a39e1_row5_col16, #T_a39e1_row6_col14, #T_a39e1_row6_col15, #T_a39e1_row7_col14, #T_a39e1_row7_col15, #T_a39e1_row8_col16 {\n",
       "  background-color: #00cccc77;\n",
       "}\n",
       "#T_a39e1_level0_col0, #T_a39e1_level0_col1, #T_a39e1_level0_col2, #T_a39e1_level0_col3, #T_a39e1_level0_col4, #T_a39e1_level0_col5, #T_a39e1_level0_col6, #T_a39e1_level0_col7, #T_a39e1_level0_col8 {\n",
       "  color: gold;\n",
       "}\n",
       "#T_a39e1_level0_col9, #T_a39e1_level0_col10, #T_a39e1_level0_col11, #T_a39e1_level0_col12 {\n",
       "  background-color: #99000077;\n",
       "  color: gold;\n",
       "}\n",
       "#T_a39e1_level0_col13, #T_a39e1_level0_col14, #T_a39e1_level0_col15, #T_a39e1_level0_col16 {\n",
       "  background-color: #00009977;\n",
       "}\n",
       "</style>\n",
       "<table id=\"T_a39e1\">\n",
       "  <thead>\n",
       "    <tr>\n",
       "      <th class=\"blank level0\" >&nbsp;</th>\n",
       "      <th id=\"T_a39e1_level0_col0\" class=\"col_heading level0 col0\" >0</th>\n",
       "      <th id=\"T_a39e1_level0_col1\" class=\"col_heading level0 col1\" >1</th>\n",
       "      <th id=\"T_a39e1_level0_col2\" class=\"col_heading level0 col2\" >2</th>\n",
       "      <th id=\"T_a39e1_level0_col3\" class=\"col_heading level0 col3\" >3</th>\n",
       "      <th id=\"T_a39e1_level0_col4\" class=\"col_heading level0 col4\" >4</th>\n",
       "      <th id=\"T_a39e1_level0_col5\" class=\"col_heading level0 col5\" >5</th>\n",
       "      <th id=\"T_a39e1_level0_col6\" class=\"col_heading level0 col6\" >6</th>\n",
       "      <th id=\"T_a39e1_level0_col7\" class=\"col_heading level0 col7\" >7</th>\n",
       "      <th id=\"T_a39e1_level0_col8\" class=\"col_heading level0 col8\" >8</th>\n",
       "      <th id=\"T_a39e1_level0_col9\" class=\"col_heading level0 col9\" >9</th>\n",
       "      <th id=\"T_a39e1_level0_col10\" class=\"col_heading level0 col10\" >10</th>\n",
       "      <th id=\"T_a39e1_level0_col11\" class=\"col_heading level0 col11\" >11</th>\n",
       "      <th id=\"T_a39e1_level0_col12\" class=\"col_heading level0 col12\" >12</th>\n",
       "      <th id=\"T_a39e1_level0_col13\" class=\"col_heading level0 col13\" >13</th>\n",
       "      <th id=\"T_a39e1_level0_col14\" class=\"col_heading level0 col14\" >14</th>\n",
       "      <th id=\"T_a39e1_level0_col15\" class=\"col_heading level0 col15\" >15</th>\n",
       "      <th id=\"T_a39e1_level0_col16\" class=\"col_heading level0 col16\" >16</th>\n",
       "    </tr>\n",
       "  </thead>\n",
       "  <tbody>\n",
       "    <tr>\n",
       "      <th id=\"T_a39e1_level0_row0\" class=\"row_heading level0 row0\" >0</th>\n",
       "      <td id=\"T_a39e1_row0_col0\" class=\"data row0 col0\" >0</td>\n",
       "      <td id=\"T_a39e1_row0_col1\" class=\"data row0 col1\" >1</td>\n",
       "      <td id=\"T_a39e1_row0_col2\" class=\"data row0 col2\" >0</td>\n",
       "      <td id=\"T_a39e1_row0_col3\" class=\"data row0 col3\" >1</td>\n",
       "      <td id=\"T_a39e1_row0_col4\" class=\"data row0 col4\" >1</td>\n",
       "      <td id=\"T_a39e1_row0_col5\" class=\"data row0 col5\" >0</td>\n",
       "      <td id=\"T_a39e1_row0_col6\" class=\"data row0 col6\" >0</td>\n",
       "      <td id=\"T_a39e1_row0_col7\" class=\"data row0 col7\" >0</td>\n",
       "      <td id=\"T_a39e1_row0_col8\" class=\"data row0 col8\" >0</td>\n",
       "      <td id=\"T_a39e1_row0_col9\" class=\"data row0 col9\" >0</td>\n",
       "      <td id=\"T_a39e1_row0_col10\" class=\"data row0 col10\" >1</td>\n",
       "      <td id=\"T_a39e1_row0_col11\" class=\"data row0 col11\" >0</td>\n",
       "      <td id=\"T_a39e1_row0_col12\" class=\"data row0 col12\" >1</td>\n",
       "      <td id=\"T_a39e1_row0_col13\" class=\"data row0 col13\" >1</td>\n",
       "      <td id=\"T_a39e1_row0_col14\" class=\"data row0 col14\" >0</td>\n",
       "      <td id=\"T_a39e1_row0_col15\" class=\"data row0 col15\" >1</td>\n",
       "      <td id=\"T_a39e1_row0_col16\" class=\"data row0 col16\" >0</td>\n",
       "    </tr>\n",
       "    <tr>\n",
       "      <th id=\"T_a39e1_level0_row1\" class=\"row_heading level0 row1\" >1</th>\n",
       "      <td id=\"T_a39e1_row1_col0\" class=\"data row1 col0\" >0</td>\n",
       "      <td id=\"T_a39e1_row1_col1\" class=\"data row1 col1\" >1</td>\n",
       "      <td id=\"T_a39e1_row1_col2\" class=\"data row1 col2\" >1</td>\n",
       "      <td id=\"T_a39e1_row1_col3\" class=\"data row1 col3\" >0</td>\n",
       "      <td id=\"T_a39e1_row1_col4\" class=\"data row1 col4\" >0</td>\n",
       "      <td id=\"T_a39e1_row1_col5\" class=\"data row1 col5\" >0</td>\n",
       "      <td id=\"T_a39e1_row1_col6\" class=\"data row1 col6\" >1</td>\n",
       "      <td id=\"T_a39e1_row1_col7\" class=\"data row1 col7\" >1</td>\n",
       "      <td id=\"T_a39e1_row1_col8\" class=\"data row1 col8\" >1</td>\n",
       "      <td id=\"T_a39e1_row1_col9\" class=\"data row1 col9\" >1</td>\n",
       "      <td id=\"T_a39e1_row1_col10\" class=\"data row1 col10\" >0</td>\n",
       "      <td id=\"T_a39e1_row1_col11\" class=\"data row1 col11\" >1</td>\n",
       "      <td id=\"T_a39e1_row1_col12\" class=\"data row1 col12\" >1</td>\n",
       "      <td id=\"T_a39e1_row1_col13\" class=\"data row1 col13\" >1</td>\n",
       "      <td id=\"T_a39e1_row1_col14\" class=\"data row1 col14\" >1</td>\n",
       "      <td id=\"T_a39e1_row1_col15\" class=\"data row1 col15\" >0</td>\n",
       "      <td id=\"T_a39e1_row1_col16\" class=\"data row1 col16\" >1</td>\n",
       "    </tr>\n",
       "    <tr>\n",
       "      <th id=\"T_a39e1_level0_row2\" class=\"row_heading level0 row2\" >2</th>\n",
       "      <td id=\"T_a39e1_row2_col0\" class=\"data row2 col0\" >0</td>\n",
       "      <td id=\"T_a39e1_row2_col1\" class=\"data row2 col1\" >0</td>\n",
       "      <td id=\"T_a39e1_row2_col2\" class=\"data row2 col2\" >0</td>\n",
       "      <td id=\"T_a39e1_row2_col3\" class=\"data row2 col3\" >0</td>\n",
       "      <td id=\"T_a39e1_row2_col4\" class=\"data row2 col4\" >0</td>\n",
       "      <td id=\"T_a39e1_row2_col5\" class=\"data row2 col5\" >0</td>\n",
       "      <td id=\"T_a39e1_row2_col6\" class=\"data row2 col6\" >1</td>\n",
       "      <td id=\"T_a39e1_row2_col7\" class=\"data row2 col7\" >1</td>\n",
       "      <td id=\"T_a39e1_row2_col8\" class=\"data row2 col8\" >1</td>\n",
       "      <td id=\"T_a39e1_row2_col9\" class=\"data row2 col9\" >0</td>\n",
       "      <td id=\"T_a39e1_row2_col10\" class=\"data row2 col10\" >0</td>\n",
       "      <td id=\"T_a39e1_row2_col11\" class=\"data row2 col11\" >0</td>\n",
       "      <td id=\"T_a39e1_row2_col12\" class=\"data row2 col12\" >0</td>\n",
       "      <td id=\"T_a39e1_row2_col13\" class=\"data row2 col13\" >0</td>\n",
       "      <td id=\"T_a39e1_row2_col14\" class=\"data row2 col14\" >0</td>\n",
       "      <td id=\"T_a39e1_row2_col15\" class=\"data row2 col15\" >0</td>\n",
       "      <td id=\"T_a39e1_row2_col16\" class=\"data row2 col16\" >0</td>\n",
       "    </tr>\n",
       "    <tr>\n",
       "      <th id=\"T_a39e1_level0_row3\" class=\"row_heading level0 row3\" >3</th>\n",
       "      <td id=\"T_a39e1_row3_col0\" class=\"data row3 col0\" >0</td>\n",
       "      <td id=\"T_a39e1_row3_col1\" class=\"data row3 col1\" >1</td>\n",
       "      <td id=\"T_a39e1_row3_col2\" class=\"data row3 col2\" >0</td>\n",
       "      <td id=\"T_a39e1_row3_col3\" class=\"data row3 col3\" >0</td>\n",
       "      <td id=\"T_a39e1_row3_col4\" class=\"data row3 col4\" >0</td>\n",
       "      <td id=\"T_a39e1_row3_col5\" class=\"data row3 col5\" >1</td>\n",
       "      <td id=\"T_a39e1_row3_col6\" class=\"data row3 col6\" >1</td>\n",
       "      <td id=\"T_a39e1_row3_col7\" class=\"data row3 col7\" >0</td>\n",
       "      <td id=\"T_a39e1_row3_col8\" class=\"data row3 col8\" >0</td>\n",
       "      <td id=\"T_a39e1_row3_col9\" class=\"data row3 col9\" >1</td>\n",
       "      <td id=\"T_a39e1_row3_col10\" class=\"data row3 col10\" >0</td>\n",
       "      <td id=\"T_a39e1_row3_col11\" class=\"data row3 col11\" >0</td>\n",
       "      <td id=\"T_a39e1_row3_col12\" class=\"data row3 col12\" >0</td>\n",
       "      <td id=\"T_a39e1_row3_col13\" class=\"data row3 col13\" >0</td>\n",
       "      <td id=\"T_a39e1_row3_col14\" class=\"data row3 col14\" >0</td>\n",
       "      <td id=\"T_a39e1_row3_col15\" class=\"data row3 col15\" >0</td>\n",
       "      <td id=\"T_a39e1_row3_col16\" class=\"data row3 col16\" >1</td>\n",
       "    </tr>\n",
       "    <tr>\n",
       "      <th id=\"T_a39e1_level0_row4\" class=\"row_heading level0 row4\" >4</th>\n",
       "      <td id=\"T_a39e1_row4_col0\" class=\"data row4 col0\" >0</td>\n",
       "      <td id=\"T_a39e1_row4_col1\" class=\"data row4 col1\" >1</td>\n",
       "      <td id=\"T_a39e1_row4_col2\" class=\"data row4 col2\" >0</td>\n",
       "      <td id=\"T_a39e1_row4_col3\" class=\"data row4 col3\" >0</td>\n",
       "      <td id=\"T_a39e1_row4_col4\" class=\"data row4 col4\" >0</td>\n",
       "      <td id=\"T_a39e1_row4_col5\" class=\"data row4 col5\" >1</td>\n",
       "      <td id=\"T_a39e1_row4_col6\" class=\"data row4 col6\" >0</td>\n",
       "      <td id=\"T_a39e1_row4_col7\" class=\"data row4 col7\" >1</td>\n",
       "      <td id=\"T_a39e1_row4_col8\" class=\"data row4 col8\" >0</td>\n",
       "      <td id=\"T_a39e1_row4_col9\" class=\"data row4 col9\" >1</td>\n",
       "      <td id=\"T_a39e1_row4_col10\" class=\"data row4 col10\" >1</td>\n",
       "      <td id=\"T_a39e1_row4_col11\" class=\"data row4 col11\" >0</td>\n",
       "      <td id=\"T_a39e1_row4_col12\" class=\"data row4 col12\" >0</td>\n",
       "      <td id=\"T_a39e1_row4_col13\" class=\"data row4 col13\" >0</td>\n",
       "      <td id=\"T_a39e1_row4_col14\" class=\"data row4 col14\" >0</td>\n",
       "      <td id=\"T_a39e1_row4_col15\" class=\"data row4 col15\" >1</td>\n",
       "      <td id=\"T_a39e1_row4_col16\" class=\"data row4 col16\" >1</td>\n",
       "    </tr>\n",
       "    <tr>\n",
       "      <th id=\"T_a39e1_level0_row5\" class=\"row_heading level0 row5\" >5</th>\n",
       "      <td id=\"T_a39e1_row5_col0\" class=\"data row5 col0\" >1</td>\n",
       "      <td id=\"T_a39e1_row5_col1\" class=\"data row5 col1\" >0</td>\n",
       "      <td id=\"T_a39e1_row5_col2\" class=\"data row5 col2\" >1</td>\n",
       "      <td id=\"T_a39e1_row5_col3\" class=\"data row5 col3\" >0</td>\n",
       "      <td id=\"T_a39e1_row5_col4\" class=\"data row5 col4\" >1</td>\n",
       "      <td id=\"T_a39e1_row5_col5\" class=\"data row5 col5\" >0</td>\n",
       "      <td id=\"T_a39e1_row5_col6\" class=\"data row5 col6\" >0</td>\n",
       "      <td id=\"T_a39e1_row5_col7\" class=\"data row5 col7\" >1</td>\n",
       "      <td id=\"T_a39e1_row5_col8\" class=\"data row5 col8\" >1</td>\n",
       "      <td id=\"T_a39e1_row5_col9\" class=\"data row5 col9\" >1</td>\n",
       "      <td id=\"T_a39e1_row5_col10\" class=\"data row5 col10\" >0</td>\n",
       "      <td id=\"T_a39e1_row5_col11\" class=\"data row5 col11\" >0</td>\n",
       "      <td id=\"T_a39e1_row5_col12\" class=\"data row5 col12\" >0</td>\n",
       "      <td id=\"T_a39e1_row5_col13\" class=\"data row5 col13\" >0</td>\n",
       "      <td id=\"T_a39e1_row5_col14\" class=\"data row5 col14\" >0</td>\n",
       "      <td id=\"T_a39e1_row5_col15\" class=\"data row5 col15\" >0</td>\n",
       "      <td id=\"T_a39e1_row5_col16\" class=\"data row5 col16\" >1</td>\n",
       "    </tr>\n",
       "    <tr>\n",
       "      <th id=\"T_a39e1_level0_row6\" class=\"row_heading level0 row6\" >6</th>\n",
       "      <td id=\"T_a39e1_row6_col0\" class=\"data row6 col0\" >0</td>\n",
       "      <td id=\"T_a39e1_row6_col1\" class=\"data row6 col1\" >1</td>\n",
       "      <td id=\"T_a39e1_row6_col2\" class=\"data row6 col2\" >0</td>\n",
       "      <td id=\"T_a39e1_row6_col3\" class=\"data row6 col3\" >1</td>\n",
       "      <td id=\"T_a39e1_row6_col4\" class=\"data row6 col4\" >1</td>\n",
       "      <td id=\"T_a39e1_row6_col5\" class=\"data row6 col5\" >0</td>\n",
       "      <td id=\"T_a39e1_row6_col6\" class=\"data row6 col6\" >0</td>\n",
       "      <td id=\"T_a39e1_row6_col7\" class=\"data row6 col7\" >0</td>\n",
       "      <td id=\"T_a39e1_row6_col8\" class=\"data row6 col8\" >0</td>\n",
       "      <td id=\"T_a39e1_row6_col9\" class=\"data row6 col9\" >0</td>\n",
       "      <td id=\"T_a39e1_row6_col10\" class=\"data row6 col10\" >1</td>\n",
       "      <td id=\"T_a39e1_row6_col11\" class=\"data row6 col11\" >1</td>\n",
       "      <td id=\"T_a39e1_row6_col12\" class=\"data row6 col12\" >1</td>\n",
       "      <td id=\"T_a39e1_row6_col13\" class=\"data row6 col13\" >1</td>\n",
       "      <td id=\"T_a39e1_row6_col14\" class=\"data row6 col14\" >1</td>\n",
       "      <td id=\"T_a39e1_row6_col15\" class=\"data row6 col15\" >1</td>\n",
       "      <td id=\"T_a39e1_row6_col16\" class=\"data row6 col16\" >0</td>\n",
       "    </tr>\n",
       "    <tr>\n",
       "      <th id=\"T_a39e1_level0_row7\" class=\"row_heading level0 row7\" >7</th>\n",
       "      <td id=\"T_a39e1_row7_col0\" class=\"data row7 col0\" >0</td>\n",
       "      <td id=\"T_a39e1_row7_col1\" class=\"data row7 col1\" >1</td>\n",
       "      <td id=\"T_a39e1_row7_col2\" class=\"data row7 col2\" >0</td>\n",
       "      <td id=\"T_a39e1_row7_col3\" class=\"data row7 col3\" >1</td>\n",
       "      <td id=\"T_a39e1_row7_col4\" class=\"data row7 col4\" >1</td>\n",
       "      <td id=\"T_a39e1_row7_col5\" class=\"data row7 col5\" >0</td>\n",
       "      <td id=\"T_a39e1_row7_col6\" class=\"data row7 col6\" >0</td>\n",
       "      <td id=\"T_a39e1_row7_col7\" class=\"data row7 col7\" >0</td>\n",
       "      <td id=\"T_a39e1_row7_col8\" class=\"data row7 col8\" >0</td>\n",
       "      <td id=\"T_a39e1_row7_col9\" class=\"data row7 col9\" >0</td>\n",
       "      <td id=\"T_a39e1_row7_col10\" class=\"data row7 col10\" >1</td>\n",
       "      <td id=\"T_a39e1_row7_col11\" class=\"data row7 col11\" >1</td>\n",
       "      <td id=\"T_a39e1_row7_col12\" class=\"data row7 col12\" >1</td>\n",
       "      <td id=\"T_a39e1_row7_col13\" class=\"data row7 col13\" >1</td>\n",
       "      <td id=\"T_a39e1_row7_col14\" class=\"data row7 col14\" >1</td>\n",
       "      <td id=\"T_a39e1_row7_col15\" class=\"data row7 col15\" >1</td>\n",
       "      <td id=\"T_a39e1_row7_col16\" class=\"data row7 col16\" >0</td>\n",
       "    </tr>\n",
       "    <tr>\n",
       "      <th id=\"T_a39e1_level0_row8\" class=\"row_heading level0 row8\" >8</th>\n",
       "      <td id=\"T_a39e1_row8_col0\" class=\"data row8 col0\" >1</td>\n",
       "      <td id=\"T_a39e1_row8_col1\" class=\"data row8 col1\" >0</td>\n",
       "      <td id=\"T_a39e1_row8_col2\" class=\"data row8 col2\" >1</td>\n",
       "      <td id=\"T_a39e1_row8_col3\" class=\"data row8 col3\" >0</td>\n",
       "      <td id=\"T_a39e1_row8_col4\" class=\"data row8 col4\" >1</td>\n",
       "      <td id=\"T_a39e1_row8_col5\" class=\"data row8 col5\" >0</td>\n",
       "      <td id=\"T_a39e1_row8_col6\" class=\"data row8 col6\" >0</td>\n",
       "      <td id=\"T_a39e1_row8_col7\" class=\"data row8 col7\" >0</td>\n",
       "      <td id=\"T_a39e1_row8_col8\" class=\"data row8 col8\" >1</td>\n",
       "      <td id=\"T_a39e1_row8_col9\" class=\"data row8 col9\" >1</td>\n",
       "      <td id=\"T_a39e1_row8_col10\" class=\"data row8 col10\" >0</td>\n",
       "      <td id=\"T_a39e1_row8_col11\" class=\"data row8 col11\" >0</td>\n",
       "      <td id=\"T_a39e1_row8_col12\" class=\"data row8 col12\" >0</td>\n",
       "      <td id=\"T_a39e1_row8_col13\" class=\"data row8 col13\" >0</td>\n",
       "      <td id=\"T_a39e1_row8_col14\" class=\"data row8 col14\" >0</td>\n",
       "      <td id=\"T_a39e1_row8_col15\" class=\"data row8 col15\" >0</td>\n",
       "      <td id=\"T_a39e1_row8_col16\" class=\"data row8 col16\" >1</td>\n",
       "    </tr>\n",
       "  </tbody>\n",
       "</table>\n"
      ],
      "text/plain": [
       "<pandas.io.formats.style.Styler at 0x7f9389f01990>"
      ]
     },
     "metadata": {},
     "output_type": "display_data"
    },
    {
     "data": {
      "text/markdown": [
       "# `97`"
      ],
      "text/plain": [
       "<IPython.core.display.Markdown object>"
      ]
     },
     "metadata": {},
     "output_type": "display_data"
    },
    {
     "data": {
      "text/markdown": [
       "### vertical line between 9-10: 10 total row(s) -> score=10"
      ],
      "text/plain": [
       "<IPython.core.display.Markdown object>"
      ]
     },
     "metadata": {},
     "output_type": "display_data"
    },
    {
     "name": "stdout",
     "output_type": "stream",
     "text": [
      "last_index=10\n"
     ]
    },
    {
     "data": {
      "text/html": [
       "<style type=\"text/css\">\n",
       "#T_7a77c_row0_col0, #T_7a77c_row0_col2, #T_7a77c_row1_col0, #T_7a77c_row1_col1, #T_7a77c_row1_col2, #T_7a77c_row1_col4, #T_7a77c_row2_col3, #T_7a77c_row2_col4, #T_7a77c_row2_col5, #T_7a77c_row2_col6, #T_7a77c_row2_col7, #T_7a77c_row2_col8, #T_7a77c_row3_col0, #T_7a77c_row3_col1, #T_7a77c_row3_col2, #T_7a77c_row3_col4, #T_7a77c_row3_col7, #T_7a77c_row3_col9, #T_7a77c_row3_col10, #T_7a77c_row4_col1, #T_7a77c_row4_col6, #T_7a77c_row4_col7, #T_7a77c_row4_col9, #T_7a77c_row4_col10, #T_7a77c_row5_col0, #T_7a77c_row5_col1, #T_7a77c_row5_col2, #T_7a77c_row5_col6, #T_7a77c_row5_col7, #T_7a77c_row5_col9, #T_7a77c_row5_col10, #T_7a77c_row6_col2, #T_7a77c_row6_col4, #T_7a77c_row6_col9, #T_7a77c_row6_col10 {\n",
       "  border: 3px dashed gold;\n",
       "  color: gold;\n",
       "  background-color: #00cccc77;\n",
       "}\n",
       "#T_7a77c_row0_col1, #T_7a77c_row0_col3, #T_7a77c_row0_col4, #T_7a77c_row0_col5, #T_7a77c_row0_col6, #T_7a77c_row0_col7, #T_7a77c_row0_col8, #T_7a77c_row0_col9, #T_7a77c_row0_col10, #T_7a77c_row1_col3, #T_7a77c_row1_col5, #T_7a77c_row1_col6, #T_7a77c_row1_col7, #T_7a77c_row1_col8, #T_7a77c_row1_col9, #T_7a77c_row1_col10, #T_7a77c_row2_col0, #T_7a77c_row2_col1, #T_7a77c_row2_col2, #T_7a77c_row2_col9, #T_7a77c_row2_col10, #T_7a77c_row3_col3, #T_7a77c_row3_col5, #T_7a77c_row3_col6, #T_7a77c_row3_col8, #T_7a77c_row4_col0, #T_7a77c_row4_col2, #T_7a77c_row4_col3, #T_7a77c_row4_col4, #T_7a77c_row4_col5, #T_7a77c_row4_col8, #T_7a77c_row5_col3, #T_7a77c_row5_col4, #T_7a77c_row5_col5, #T_7a77c_row5_col8, #T_7a77c_row6_col0, #T_7a77c_row6_col1, #T_7a77c_row6_col3, #T_7a77c_row6_col5, #T_7a77c_row6_col6, #T_7a77c_row6_col7, #T_7a77c_row6_col8 {\n",
       "  border: 3px dashed gold;\n",
       "  color: gold;\n",
       "}\n",
       "#T_7a77c_row2_col11, #T_7a77c_row2_col12, #T_7a77c_row2_col13, #T_7a77c_row2_col14, #T_7a77c_row3_col12, #T_7a77c_row4_col12, #T_7a77c_row4_col13, #T_7a77c_row5_col12, #T_7a77c_row5_col13 {\n",
       "  background-color: #00cccc77;\n",
       "}\n",
       "#T_7a77c_level0_col0, #T_7a77c_level0_col1, #T_7a77c_level0_col2, #T_7a77c_level0_col3, #T_7a77c_level0_col4 {\n",
       "  color: gold;\n",
       "}\n",
       "#T_7a77c_level0_col5, #T_7a77c_level0_col6, #T_7a77c_level0_col7, #T_7a77c_level0_col8, #T_7a77c_level0_col9 {\n",
       "  background-color: #99000077;\n",
       "  color: gold;\n",
       "}\n",
       "#T_7a77c_level0_col10, #T_7a77c_level0_col11, #T_7a77c_level0_col12, #T_7a77c_level0_col13, #T_7a77c_level0_col14 {\n",
       "  background-color: #00009977;\n",
       "}\n",
       "</style>\n",
       "<table id=\"T_7a77c\">\n",
       "  <thead>\n",
       "    <tr>\n",
       "      <th class=\"blank level0\" >&nbsp;</th>\n",
       "      <th id=\"T_7a77c_level0_col0\" class=\"col_heading level0 col0\" >0</th>\n",
       "      <th id=\"T_7a77c_level0_col1\" class=\"col_heading level0 col1\" >1</th>\n",
       "      <th id=\"T_7a77c_level0_col2\" class=\"col_heading level0 col2\" >2</th>\n",
       "      <th id=\"T_7a77c_level0_col3\" class=\"col_heading level0 col3\" >3</th>\n",
       "      <th id=\"T_7a77c_level0_col4\" class=\"col_heading level0 col4\" >4</th>\n",
       "      <th id=\"T_7a77c_level0_col5\" class=\"col_heading level0 col5\" >5</th>\n",
       "      <th id=\"T_7a77c_level0_col6\" class=\"col_heading level0 col6\" >6</th>\n",
       "      <th id=\"T_7a77c_level0_col7\" class=\"col_heading level0 col7\" >7</th>\n",
       "      <th id=\"T_7a77c_level0_col8\" class=\"col_heading level0 col8\" >8</th>\n",
       "      <th id=\"T_7a77c_level0_col9\" class=\"col_heading level0 col9\" >9</th>\n",
       "      <th id=\"T_7a77c_level0_col10\" class=\"col_heading level0 col10\" >10</th>\n",
       "      <th id=\"T_7a77c_level0_col11\" class=\"col_heading level0 col11\" >11</th>\n",
       "      <th id=\"T_7a77c_level0_col12\" class=\"col_heading level0 col12\" >12</th>\n",
       "      <th id=\"T_7a77c_level0_col13\" class=\"col_heading level0 col13\" >13</th>\n",
       "      <th id=\"T_7a77c_level0_col14\" class=\"col_heading level0 col14\" >14</th>\n",
       "    </tr>\n",
       "  </thead>\n",
       "  <tbody>\n",
       "    <tr>\n",
       "      <th id=\"T_7a77c_level0_row0\" class=\"row_heading level0 row0\" >0</th>\n",
       "      <td id=\"T_7a77c_row0_col0\" class=\"data row0 col0\" >1</td>\n",
       "      <td id=\"T_7a77c_row0_col1\" class=\"data row0 col1\" >0</td>\n",
       "      <td id=\"T_7a77c_row0_col2\" class=\"data row0 col2\" >1</td>\n",
       "      <td id=\"T_7a77c_row0_col3\" class=\"data row0 col3\" >0</td>\n",
       "      <td id=\"T_7a77c_row0_col4\" class=\"data row0 col4\" >0</td>\n",
       "      <td id=\"T_7a77c_row0_col5\" class=\"data row0 col5\" >0</td>\n",
       "      <td id=\"T_7a77c_row0_col6\" class=\"data row0 col6\" >0</td>\n",
       "      <td id=\"T_7a77c_row0_col7\" class=\"data row0 col7\" >0</td>\n",
       "      <td id=\"T_7a77c_row0_col8\" class=\"data row0 col8\" >0</td>\n",
       "      <td id=\"T_7a77c_row0_col9\" class=\"data row0 col9\" >0</td>\n",
       "      <td id=\"T_7a77c_row0_col10\" class=\"data row0 col10\" >0</td>\n",
       "      <td id=\"T_7a77c_row0_col11\" class=\"data row0 col11\" >0</td>\n",
       "      <td id=\"T_7a77c_row0_col12\" class=\"data row0 col12\" >0</td>\n",
       "      <td id=\"T_7a77c_row0_col13\" class=\"data row0 col13\" >0</td>\n",
       "      <td id=\"T_7a77c_row0_col14\" class=\"data row0 col14\" >0</td>\n",
       "    </tr>\n",
       "    <tr>\n",
       "      <th id=\"T_7a77c_level0_row1\" class=\"row_heading level0 row1\" >1</th>\n",
       "      <td id=\"T_7a77c_row1_col0\" class=\"data row1 col0\" >1</td>\n",
       "      <td id=\"T_7a77c_row1_col1\" class=\"data row1 col1\" >1</td>\n",
       "      <td id=\"T_7a77c_row1_col2\" class=\"data row1 col2\" >1</td>\n",
       "      <td id=\"T_7a77c_row1_col3\" class=\"data row1 col3\" >0</td>\n",
       "      <td id=\"T_7a77c_row1_col4\" class=\"data row1 col4\" >1</td>\n",
       "      <td id=\"T_7a77c_row1_col5\" class=\"data row1 col5\" >0</td>\n",
       "      <td id=\"T_7a77c_row1_col6\" class=\"data row1 col6\" >0</td>\n",
       "      <td id=\"T_7a77c_row1_col7\" class=\"data row1 col7\" >0</td>\n",
       "      <td id=\"T_7a77c_row1_col8\" class=\"data row1 col8\" >0</td>\n",
       "      <td id=\"T_7a77c_row1_col9\" class=\"data row1 col9\" >0</td>\n",
       "      <td id=\"T_7a77c_row1_col10\" class=\"data row1 col10\" >0</td>\n",
       "      <td id=\"T_7a77c_row1_col11\" class=\"data row1 col11\" >0</td>\n",
       "      <td id=\"T_7a77c_row1_col12\" class=\"data row1 col12\" >0</td>\n",
       "      <td id=\"T_7a77c_row1_col13\" class=\"data row1 col13\" >0</td>\n",
       "      <td id=\"T_7a77c_row1_col14\" class=\"data row1 col14\" >0</td>\n",
       "    </tr>\n",
       "    <tr>\n",
       "      <th id=\"T_7a77c_level0_row2\" class=\"row_heading level0 row2\" >2</th>\n",
       "      <td id=\"T_7a77c_row2_col0\" class=\"data row2 col0\" >0</td>\n",
       "      <td id=\"T_7a77c_row2_col1\" class=\"data row2 col1\" >0</td>\n",
       "      <td id=\"T_7a77c_row2_col2\" class=\"data row2 col2\" >0</td>\n",
       "      <td id=\"T_7a77c_row2_col3\" class=\"data row2 col3\" >1</td>\n",
       "      <td id=\"T_7a77c_row2_col4\" class=\"data row2 col4\" >1</td>\n",
       "      <td id=\"T_7a77c_row2_col5\" class=\"data row2 col5\" >1</td>\n",
       "      <td id=\"T_7a77c_row2_col6\" class=\"data row2 col6\" >1</td>\n",
       "      <td id=\"T_7a77c_row2_col7\" class=\"data row2 col7\" >1</td>\n",
       "      <td id=\"T_7a77c_row2_col8\" class=\"data row2 col8\" >1</td>\n",
       "      <td id=\"T_7a77c_row2_col9\" class=\"data row2 col9\" >0</td>\n",
       "      <td id=\"T_7a77c_row2_col10\" class=\"data row2 col10\" >0</td>\n",
       "      <td id=\"T_7a77c_row2_col11\" class=\"data row2 col11\" >1</td>\n",
       "      <td id=\"T_7a77c_row2_col12\" class=\"data row2 col12\" >1</td>\n",
       "      <td id=\"T_7a77c_row2_col13\" class=\"data row2 col13\" >1</td>\n",
       "      <td id=\"T_7a77c_row2_col14\" class=\"data row2 col14\" >1</td>\n",
       "    </tr>\n",
       "    <tr>\n",
       "      <th id=\"T_7a77c_level0_row3\" class=\"row_heading level0 row3\" >3</th>\n",
       "      <td id=\"T_7a77c_row3_col0\" class=\"data row3 col0\" >1</td>\n",
       "      <td id=\"T_7a77c_row3_col1\" class=\"data row3 col1\" >1</td>\n",
       "      <td id=\"T_7a77c_row3_col2\" class=\"data row3 col2\" >1</td>\n",
       "      <td id=\"T_7a77c_row3_col3\" class=\"data row3 col3\" >0</td>\n",
       "      <td id=\"T_7a77c_row3_col4\" class=\"data row3 col4\" >1</td>\n",
       "      <td id=\"T_7a77c_row3_col5\" class=\"data row3 col5\" >0</td>\n",
       "      <td id=\"T_7a77c_row3_col6\" class=\"data row3 col6\" >0</td>\n",
       "      <td id=\"T_7a77c_row3_col7\" class=\"data row3 col7\" >1</td>\n",
       "      <td id=\"T_7a77c_row3_col8\" class=\"data row3 col8\" >0</td>\n",
       "      <td id=\"T_7a77c_row3_col9\" class=\"data row3 col9\" >1</td>\n",
       "      <td id=\"T_7a77c_row3_col10\" class=\"data row3 col10\" >1</td>\n",
       "      <td id=\"T_7a77c_row3_col11\" class=\"data row3 col11\" >0</td>\n",
       "      <td id=\"T_7a77c_row3_col12\" class=\"data row3 col12\" >1</td>\n",
       "      <td id=\"T_7a77c_row3_col13\" class=\"data row3 col13\" >0</td>\n",
       "      <td id=\"T_7a77c_row3_col14\" class=\"data row3 col14\" >0</td>\n",
       "    </tr>\n",
       "    <tr>\n",
       "      <th id=\"T_7a77c_level0_row4\" class=\"row_heading level0 row4\" >4</th>\n",
       "      <td id=\"T_7a77c_row4_col0\" class=\"data row4 col0\" >0</td>\n",
       "      <td id=\"T_7a77c_row4_col1\" class=\"data row4 col1\" >1</td>\n",
       "      <td id=\"T_7a77c_row4_col2\" class=\"data row4 col2\" >0</td>\n",
       "      <td id=\"T_7a77c_row4_col3\" class=\"data row4 col3\" >0</td>\n",
       "      <td id=\"T_7a77c_row4_col4\" class=\"data row4 col4\" >0</td>\n",
       "      <td id=\"T_7a77c_row4_col5\" class=\"data row4 col5\" >0</td>\n",
       "      <td id=\"T_7a77c_row4_col6\" class=\"data row4 col6\" >1</td>\n",
       "      <td id=\"T_7a77c_row4_col7\" class=\"data row4 col7\" >1</td>\n",
       "      <td id=\"T_7a77c_row4_col8\" class=\"data row4 col8\" >0</td>\n",
       "      <td id=\"T_7a77c_row4_col9\" class=\"data row4 col9\" >1</td>\n",
       "      <td id=\"T_7a77c_row4_col10\" class=\"data row4 col10\" >1</td>\n",
       "      <td id=\"T_7a77c_row4_col11\" class=\"data row4 col11\" >0</td>\n",
       "      <td id=\"T_7a77c_row4_col12\" class=\"data row4 col12\" >1</td>\n",
       "      <td id=\"T_7a77c_row4_col13\" class=\"data row4 col13\" >1</td>\n",
       "      <td id=\"T_7a77c_row4_col14\" class=\"data row4 col14\" >0</td>\n",
       "    </tr>\n",
       "    <tr>\n",
       "      <th id=\"T_7a77c_level0_row5\" class=\"row_heading level0 row5\" >5</th>\n",
       "      <td id=\"T_7a77c_row5_col0\" class=\"data row5 col0\" >1</td>\n",
       "      <td id=\"T_7a77c_row5_col1\" class=\"data row5 col1\" >1</td>\n",
       "      <td id=\"T_7a77c_row5_col2\" class=\"data row5 col2\" >1</td>\n",
       "      <td id=\"T_7a77c_row5_col3\" class=\"data row5 col3\" >0</td>\n",
       "      <td id=\"T_7a77c_row5_col4\" class=\"data row5 col4\" >0</td>\n",
       "      <td id=\"T_7a77c_row5_col5\" class=\"data row5 col5\" >0</td>\n",
       "      <td id=\"T_7a77c_row5_col6\" class=\"data row5 col6\" >1</td>\n",
       "      <td id=\"T_7a77c_row5_col7\" class=\"data row5 col7\" >1</td>\n",
       "      <td id=\"T_7a77c_row5_col8\" class=\"data row5 col8\" >0</td>\n",
       "      <td id=\"T_7a77c_row5_col9\" class=\"data row5 col9\" >1</td>\n",
       "      <td id=\"T_7a77c_row5_col10\" class=\"data row5 col10\" >1</td>\n",
       "      <td id=\"T_7a77c_row5_col11\" class=\"data row5 col11\" >0</td>\n",
       "      <td id=\"T_7a77c_row5_col12\" class=\"data row5 col12\" >1</td>\n",
       "      <td id=\"T_7a77c_row5_col13\" class=\"data row5 col13\" >1</td>\n",
       "      <td id=\"T_7a77c_row5_col14\" class=\"data row5 col14\" >0</td>\n",
       "    </tr>\n",
       "    <tr>\n",
       "      <th id=\"T_7a77c_level0_row6\" class=\"row_heading level0 row6\" >6</th>\n",
       "      <td id=\"T_7a77c_row6_col0\" class=\"data row6 col0\" >0</td>\n",
       "      <td id=\"T_7a77c_row6_col1\" class=\"data row6 col1\" >0</td>\n",
       "      <td id=\"T_7a77c_row6_col2\" class=\"data row6 col2\" >1</td>\n",
       "      <td id=\"T_7a77c_row6_col3\" class=\"data row6 col3\" >0</td>\n",
       "      <td id=\"T_7a77c_row6_col4\" class=\"data row6 col4\" >1</td>\n",
       "      <td id=\"T_7a77c_row6_col5\" class=\"data row6 col5\" >0</td>\n",
       "      <td id=\"T_7a77c_row6_col6\" class=\"data row6 col6\" >0</td>\n",
       "      <td id=\"T_7a77c_row6_col7\" class=\"data row6 col7\" >0</td>\n",
       "      <td id=\"T_7a77c_row6_col8\" class=\"data row6 col8\" >0</td>\n",
       "      <td id=\"T_7a77c_row6_col9\" class=\"data row6 col9\" >1</td>\n",
       "      <td id=\"T_7a77c_row6_col10\" class=\"data row6 col10\" >1</td>\n",
       "      <td id=\"T_7a77c_row6_col11\" class=\"data row6 col11\" >0</td>\n",
       "      <td id=\"T_7a77c_row6_col12\" class=\"data row6 col12\" >0</td>\n",
       "      <td id=\"T_7a77c_row6_col13\" class=\"data row6 col13\" >0</td>\n",
       "      <td id=\"T_7a77c_row6_col14\" class=\"data row6 col14\" >0</td>\n",
       "    </tr>\n",
       "  </tbody>\n",
       "</table>\n"
      ],
      "text/plain": [
       "<pandas.io.formats.style.Styler at 0x7f938a734a90>"
      ]
     },
     "metadata": {},
     "output_type": "display_data"
    }
   ],
   "source": [
    "inputs = open(\"../inputs/13.txt\").read().replace(\"#\", \"1\").replace(\".\", \"0\").split(\"\\n\\n\")\n",
    "\n",
    "focus_nums = [19, 97]\n",
    "\n",
    "score = 0\n",
    "for i, block in enumerate(inputs):\n",
    "    if i in focus_nums:\n",
    "        display(Markdown(f\"# `{i}`\"))\n",
    "    score += find_mirror_lines(block, show=i in focus_nums)"
   ]
  },
  {
   "cell_type": "code",
   "execution_count": 77,
   "metadata": {},
   "outputs": [
    {
     "data": {
      "text/plain": [
       "27664"
      ]
     },
     "execution_count": 77,
     "metadata": {},
     "output_type": "execute_result"
    }
   ],
   "source": [
    "score"
   ]
  },
  {
   "cell_type": "markdown",
   "metadata": {},
   "source": [
    "## Part 2\n",
    "\n",
    "You resume walking through the valley of mirrors and - SMACK! - run directly into one. Hopefully nobody was watching, because that must have been pretty embarrassing.\n",
    "\n",
    "Upon closer inspection, you discover that every mirror has exactly one smudge: exactly one . or # should be the opposite type.\n",
    "\n",
    "In each pattern, you'll need to locate and fix the smudge that causes a different reflection line to be valid. (The old reflection line won't necessarily continue being valid after the smudge is fixed.)\n",
    "\n",
    "Here's the above example again:\n",
    "\n",
    "```\n",
    "#.##..##.\n",
    "..#.##.#.\n",
    "##......#\n",
    "##......#\n",
    "..#.##.#.\n",
    "..##..##.\n",
    "#.#.##.#.\n",
    "\n",
    "#...##..#\n",
    "#....#..#\n",
    "..##..###\n",
    "#####.##.\n",
    "#####.##.\n",
    "..##..###\n",
    "#....#..#\n",
    "```\n",
    "The first pattern's smudge is in the top-left corner. If the top-left # were instead ., it would have a different, horizontal line of reflection:\n",
    "\n",
    "```\n",
    "1 ..##..##. 1\n",
    "2 ..#.##.#. 2\n",
    "3v##......#v3\n",
    "4^##......#^4\n",
    "5 ..#.##.#. 5\n",
    "6 ..##..##. 6\n",
    "7 #.#.##.#. 7\n",
    "```\n",
    "With the smudge in the top-left corner repaired, a new horizontal line of reflection between rows 3 and 4 now exists. Row 7 has no corresponding reflected row and can be ignored, but every other row matches exactly: row 1 matches row 6, row 2 matches row 5, and row 3 matches row 4.\n",
    "\n",
    "In the second pattern, the smudge can be fixed by changing the fifth symbol on row 2 from . to #:\n",
    "\n",
    "```\n",
    "1v#...##..#v1\n",
    "2^#...##..#^2\n",
    "3 ..##..### 3\n",
    "4 #####.##. 4\n",
    "5 #####.##. 5\n",
    "6 ..##..### 6\n",
    "7 #....#..# 7\n",
    "```\n",
    "Now, the pattern has a different horizontal line of reflection between rows 1 and 2.\n",
    "\n",
    "Summarize your notes as before, but instead use the new different reflection lines. In this example, the first pattern's new horizontal line has 3 rows above it and the second pattern's new horizontal line has 1 row above it, summarizing to the value 400.\n",
    "\n",
    "In each pattern, fix the smudge and find the different line of reflection. What number do you get after summarizing the new reflection line in each pattern in your notes?"
   ]
  },
  {
   "cell_type": "code",
   "execution_count": 156,
   "metadata": {},
   "outputs": [
    {
     "data": {
      "text/markdown": [
       "# `0`"
      ],
      "text/plain": [
       "<IPython.core.display.Markdown object>"
      ]
     },
     "metadata": {},
     "output_type": "display_data"
    },
    {
     "name": "stdout",
     "output_type": "stream",
     "text": [
      "orig_mirror={'max_score': 5, 'vertical': True, 'position': 5}\n",
      "\t0,0 flip from `#` to `.` makes a horizontal line with score 300 (pos@3) new=True\n",
      "\t5,0 flip from `.` to `#` makes a horizontal line with score 300 (pos@3) new=True\n"
     ]
    },
    {
     "data": {
      "text/markdown": [
       "#### `test_score=300`"
      ],
      "text/plain": [
       "<IPython.core.display.Markdown object>"
      ]
     },
     "metadata": {},
     "output_type": "display_data"
    },
    {
     "data": {
      "text/markdown": [
       "# `1`"
      ],
      "text/plain": [
       "<IPython.core.display.Markdown object>"
      ]
     },
     "metadata": {},
     "output_type": "display_data"
    },
    {
     "name": "stdout",
     "output_type": "stream",
     "text": [
      "orig_mirror={'max_score': 400, 'vertical': False, 'position': 4}\n",
      "\t1,4 flip from `.` to `#` makes a horizontal line with score 100 (pos@1) new=True\n"
     ]
    },
    {
     "data": {
      "text/markdown": [
       "#### `test_score=100`"
      ],
      "text/plain": [
       "<IPython.core.display.Markdown object>"
      ]
     },
     "metadata": {},
     "output_type": "display_data"
    },
    {
     "data": {
      "text/markdown": [
       "# `test_total_score=400`"
      ],
      "text/plain": [
       "<IPython.core.display.Markdown object>"
      ]
     },
     "metadata": {},
     "output_type": "display_data"
    },
    {
     "data": {
      "text/markdown": [
       "# `0`"
      ],
      "text/plain": [
       "<IPython.core.display.Markdown object>"
      ]
     },
     "metadata": {},
     "output_type": "display_data"
    },
    {
     "name": "stdout",
     "output_type": "stream",
     "text": [
      "orig_mirror={'max_score': 5, 'vertical': True, 'position': 5}\n",
      "\t0,0 flip from `#` to `.` makes a horizontal line with score 300 (pos@3) new=True\n",
      "\t5,0 flip from `.` to `#` makes a horizontal line with score 300 (pos@3) new=True\n"
     ]
    },
    {
     "data": {
      "text/markdown": [
       "#### `test_score=300`"
      ],
      "text/plain": [
       "<IPython.core.display.Markdown object>"
      ]
     },
     "metadata": {},
     "output_type": "display_data"
    },
    {
     "data": {
      "text/markdown": [
       "# `1`"
      ],
      "text/plain": [
       "<IPython.core.display.Markdown object>"
      ]
     },
     "metadata": {},
     "output_type": "display_data"
    },
    {
     "name": "stdout",
     "output_type": "stream",
     "text": [
      "orig_mirror={'max_score': 400, 'vertical': False, 'position': 4}\n",
      "\t1,4 flip from `.` to `#` makes a horizontal line with score 100 (pos@1) new=True\n"
     ]
    },
    {
     "data": {
      "text/markdown": [
       "#### `test_score=100`"
      ],
      "text/plain": [
       "<IPython.core.display.Markdown object>"
      ]
     },
     "metadata": {},
     "output_type": "display_data"
    },
    {
     "data": {
      "text/markdown": [
       "# `2`"
      ],
      "text/plain": [
       "<IPython.core.display.Markdown object>"
      ]
     },
     "metadata": {},
     "output_type": "display_data"
    },
    {
     "name": "stdout",
     "output_type": "stream",
     "text": [
      "orig_mirror={'max_score': 4, 'vertical': True, 'position': 4}\n",
      "\t1,8 flip from `.` to `#` makes a horizontal line with score 400 (pos@4) new=True\n",
      "\t6,8 flip from `#` to `.` makes a horizontal line with score 400 (pos@4) new=True\n"
     ]
    },
    {
     "data": {
      "text/markdown": [
       "#### `test_score=400`"
      ],
      "text/plain": [
       "<IPython.core.display.Markdown object>"
      ]
     },
     "metadata": {},
     "output_type": "display_data"
    },
    {
     "data": {
      "text/markdown": [
       "# `3`"
      ],
      "text/plain": [
       "<IPython.core.display.Markdown object>"
      ]
     },
     "metadata": {},
     "output_type": "display_data"
    },
    {
     "name": "stdout",
     "output_type": "stream",
     "text": [
      "orig_mirror={'max_score': 300, 'vertical': False, 'position': 3}\n",
      "\t5,4 flip from `.` to `#` makes a horizontal line with score 600 (pos@6) new=True\n",
      "\t6,4 flip from `#` to `.` makes a horizontal line with score 600 (pos@6) new=True\n"
     ]
    },
    {
     "data": {
      "text/markdown": [
       "#### `test_score=600`"
      ],
      "text/plain": [
       "<IPython.core.display.Markdown object>"
      ]
     },
     "metadata": {},
     "output_type": "display_data"
    },
    {
     "data": {
      "text/markdown": [
       "# `4`"
      ],
      "text/plain": [
       "<IPython.core.display.Markdown object>"
      ]
     },
     "metadata": {},
     "output_type": "display_data"
    },
    {
     "name": "stdout",
     "output_type": "stream",
     "text": [
      "orig_mirror={'max_score': 0}\n"
     ]
    },
    {
     "data": {
      "text/markdown": [
       "#### `test_score=0`"
      ],
      "text/plain": [
       "<IPython.core.display.Markdown object>"
      ]
     },
     "metadata": {},
     "output_type": "display_data"
    },
    {
     "data": {
      "text/markdown": [
       "# `test_total_score=1400`"
      ],
      "text/plain": [
       "<IPython.core.display.Markdown object>"
      ]
     },
     "metadata": {},
     "output_type": "display_data"
    }
   ],
   "source": [
    "def find_mirror_position2(df: pd.DataFrame, v: bool = False) -> Optional[int]:\n",
    "    output = {\n",
    "        \"max_score\": 0,\n",
    "        \"vertical\": v,\n",
    "        \"position\": None,\n",
    "    }\n",
    "\n",
    "    for i in range(1, len(df) + 1):\n",
    "        if i == len(df):\n",
    "            # can't split on the last row\n",
    "            continue\n",
    "\n",
    "        top_rows = df.iloc[:i]\n",
    "        bottom_rows = df.iloc[i:]\n",
    "\n",
    "        if len(top_rows) > len(bottom_rows):\n",
    "            # shorten top rows\n",
    "            top_rows = top_rows.tail(len(bottom_rows))\n",
    "        elif len(top_rows) < len(bottom_rows):\n",
    "            # shorten bottom rows\n",
    "            bottom_rows = bottom_rows.head(len(top_rows))\n",
    "\n",
    "        # flip the bottom rows' index positions so they (potentially) match the top\n",
    "        bottom_rows = bottom_rows.iloc[::-1]\n",
    "\n",
    "        assert len(bottom_rows) == len(top_rows)\n",
    "\n",
    "        # string comparisons on just the values is better than trying to compare the whole dataframe\n",
    "        # portions, which will include the index values and columns by default\n",
    "        t = top_rows.to_string(index=False, header=False)\n",
    "        b = bottom_rows.to_string(index=False, header=False)\n",
    "        if t == b:\n",
    "            # last row's index + 1 in `top_rows` is the position of the mirror line\n",
    "            last_index = top_rows.index[-1] + 1\n",
    "            output[\"position\"] = last_index\n",
    "            # 1x for mirroring against a vertical line, 100x for a horizontal line\n",
    "            score = last_index * 100 if not v else last_index\n",
    "            output[\"max_score\"] = score\n",
    "\n",
    "    return output\n",
    "\n",
    "\n",
    "def find_mirror_lines2(data: str):\n",
    "    rows = data.split(\"\\n\")\n",
    "    df = pd.DataFrame([list(line) for line in rows]).astype(int)\n",
    "\n",
    "    results = {\"max_score\": 0}\n",
    "\n",
    "    horizontal_results = find_mirror_position2(df)\n",
    "    if horizontal_results[\"max_score\"] > results[\"max_score\"]:\n",
    "        results = horizontal_results\n",
    "\n",
    "    vertical_results = find_mirror_position2(df.transpose(), v=True)\n",
    "    if vertical_results[\"max_score\"] > results[\"max_score\"]:\n",
    "        results = vertical_results\n",
    "\n",
    "    return results\n",
    "\n",
    "\n",
    "def flip_smudge_and_score(input_str: str) -> int:\n",
    "    input_data: list[list[str]] = [list(line) for line in input_str.split(\"\\n\")]\n",
    "\n",
    "    orig_mirror = find_mirror_lines2(input_str)\n",
    "    print(f\"{orig_mirror=}\")\n",
    "\n",
    "    score = 0\n",
    "    for row_num, row in enumerate(input_data):\n",
    "        for col_num, char in enumerate(row):\n",
    "            # get ready to flip one character\n",
    "            new_char = \"0\" if char == \"1\" else \"1\"\n",
    "            flip_str = f\"{row_num},{col_num} flip from `{'#' if char == '1' else '.'}` to `{'#' if new_char == '1' else '.'}`\"\n",
    "\n",
    "            # flip from `#` to `.` (or vice-versa)\n",
    "            input_data[row_num][col_num] = new_char\n",
    "\n",
    "            # convert back to a string and check for (new) mirrors\n",
    "            smudge_replaced_str = \"\\n\".join(\"\".join(row) for row in input_data)\n",
    "            new_mirror = find_mirror_lines2(smudge_replaced_str)\n",
    "\n",
    "            # flip back so we don't mess with the next iteration\n",
    "            input_data[row_num][col_num] = char\n",
    "\n",
    "            if new_mirror.get(\"max_score\"):\n",
    "                # check if it's different from the original\n",
    "                new = new_mirror != orig_mirror\n",
    "                # print(f\"{new_mirror=}: {flip_str} {new=} {'*' * 3 if new else ''}\")\n",
    "                if new:\n",
    "                    print(\n",
    "                        f\"\\t{flip_str} makes a {'vertical' if new_mirror['vertical'] else 'horizontal'} line with score {new_mirror['max_score']} (pos@{new_mirror['position']}) {new=}\"\n",
    "                    )\n",
    "                    score = new_mirror[\"max_score\"]\n",
    "    return score\n",
    "\n",
    "\n",
    "test_input2 = (\n",
    "    \"\"\"#.##..##.\n",
    "..#.##.#.\n",
    "##......#\n",
    "##......#\n",
    "..#.##.#.\n",
    "..##..##.\n",
    "#.#.##.#.\n",
    "\n",
    "#...##..#\n",
    "#....#..#\n",
    "..##..###\n",
    "#####.##.\n",
    "#####.##.\n",
    "..##..###\n",
    "#....#..#\"\"\".strip()\n",
    "    .replace(\"#\", \"1\")\n",
    "    .replace(\".\", \"0\")\n",
    "    .split(\"\\n\\n\")\n",
    ")\n",
    "\n",
    "test_total_score = 0\n",
    "for i, test_block in enumerate(test_input2):\n",
    "    display(Markdown(f\"# `{i}`\"))\n",
    "    test_score = flip_smudge_and_score(test_block)\n",
    "    test_total_score += test_score\n",
    "    display(Markdown(f\"#### `{test_score=}`\"))\n",
    "display(Markdown(f\"# `{test_total_score=}`\"))\n",
    "assert test_total_score == 400\n",
    "\n",
    "# additional sample input to test\n",
    "# https://www.reddit.com/r/adventofcode/comments/18hitog/2023_day_13_easy_additional_examples/\n",
    "test_input2a = (\n",
    "    \"\"\"#.##..##.\n",
    "..#.##.#.\n",
    "##......#\n",
    "##......#\n",
    "..#.##.#.\n",
    "..##..##.\n",
    "#.#.##.#.\n",
    "\n",
    "#...##..#\n",
    "#....#..#\n",
    "..##..###\n",
    "#####.##.\n",
    "#####.##.\n",
    "..##..###\n",
    "#....#..#\n",
    "\n",
    ".#.##.#.#\n",
    ".##..##..\n",
    ".#.##.#..\n",
    "#......##\n",
    "#......##\n",
    ".#.##.#..\n",
    ".##..##.#\n",
    "\n",
    "#..#....#\n",
    "###..##..\n",
    ".##.#####\n",
    ".##.#####\n",
    "###..##..\n",
    "#..#....#\n",
    "#..##...#\n",
    "\n",
    "#.##..##.\n",
    "..#.##.#.\n",
    "##..#...#\n",
    "##...#..#\n",
    "..#.##.#.\n",
    "..##..##.\n",
    "#.#.##.#.\"\"\".strip()\n",
    "    .replace(\"#\", \"1\")\n",
    "    .replace(\".\", \"0\")\n",
    "    .split(\"\\n\\n\")\n",
    ")\n",
    "\n",
    "test_total_score = 0\n",
    "for i, test_block in enumerate(test_input2a):\n",
    "    display(Markdown(f\"# `{i}`\"))\n",
    "    test_score = flip_smudge_and_score(test_block)\n",
    "    test_total_score += test_score\n",
    "    display(Markdown(f\"#### `{test_score=}`\"))\n",
    "display(Markdown(f\"# `{test_total_score=}`\"))\n",
    "assert test_total_score == 1400"
   ]
  },
  {
   "cell_type": "code",
   "execution_count": 157,
   "metadata": {},
   "outputs": [
    {
     "data": {
      "text/markdown": [
       "# `0`"
      ],
      "text/plain": [
       "<IPython.core.display.Markdown object>"
      ]
     },
     "metadata": {},
     "output_type": "display_data"
    },
    {
     "name": "stdout",
     "output_type": "stream",
     "text": [
      "orig_mirror={'max_score': 12, 'vertical': True, 'position': 12}\n"
     ]
    },
    {
     "data": {
      "text/markdown": [
       "#### `new_score=0`"
      ],
      "text/plain": [
       "<IPython.core.display.Markdown object>"
      ]
     },
     "metadata": {},
     "output_type": "display_data"
    },
    {
     "data": {
      "text/plain": [
       "0"
      ]
     },
     "execution_count": 157,
     "metadata": {},
     "output_type": "execute_result"
    }
   ],
   "source": [
    "score2 = 0\n",
    "for i, block in enumerate(inputs):\n",
    "    display(Markdown(f\"# `{i}`\"))\n",
    "    new_score = flip_smudge_and_score(block)\n",
    "    display(Markdown(f\"#### `{new_score=}`\"))\n",
    "    score2 += new_score\n",
    "    break\n",
    "score2"
   ]
  },
  {
   "cell_type": "code",
   "execution_count": 134,
   "metadata": {},
   "outputs": [
    {
     "data": {
      "text/plain": [
       "24891"
      ]
     },
     "execution_count": 134,
     "metadata": {},
     "output_type": "execute_result"
    }
   ],
   "source": [
    "score2"
   ]
  },
  {
   "cell_type": "markdown",
   "metadata": {},
   "source": [
    "- 31976 too low"
   ]
  },
  {
   "cell_type": "code",
   "execution_count": null,
   "metadata": {},
   "outputs": [],
   "source": []
  }
 ],
 "metadata": {
  "kernelspec": {
   "display_name": ".venv",
   "language": "python",
   "name": "python3"
  },
  "language_info": {
   "codemirror_mode": {
    "name": "ipython",
    "version": 3
   },
   "file_extension": ".py",
   "mimetype": "text/x-python",
   "name": "python",
   "nbconvert_exporter": "python",
   "pygments_lexer": "ipython3",
   "version": "3.11.5"
  }
 },
 "nbformat": 4,
 "nbformat_minor": 2
}
