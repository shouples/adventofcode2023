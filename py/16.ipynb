{
 "cells": [
  {
   "cell_type": "markdown",
   "metadata": {},
   "source": [
    "# Day 16\n",
    "\n",
    "## Part 1\n",
    "\n",
    "With the beam of light completely focused somewhere, the reindeer leads you deeper still into the Lava Production Facility. At some point, you realize that the steel facility walls have been replaced with cave, and the doorways are just cave, and the floor is cave, and you're pretty sure this is actually just a giant cave.\n",
    "\n",
    "Finally, as you approach what must be the heart of the mountain, you see a bright light in a cavern up ahead. There, you discover that the beam of light you so carefully focused is emerging from the cavern wall closest to the facility and pouring all of its energy into a contraption on the opposite side.\n",
    "\n",
    "Upon closer inspection, the contraption appears to be a flat, two-dimensional square grid containing empty space (.), mirrors (/ and \\), and splitters (| and -).\n",
    "\n",
    "The contraption is aligned so that most of the beam bounces around the grid, but each tile on the grid converts some of the beam's light into heat to melt the rock in the cavern.\n",
    "\n",
    "You note the layout of the contraption (your puzzle input). For example:\n",
    "\n",
    "```\n",
    ".|...\\....\n",
    "|.-.\\.....\n",
    ".....|-...\n",
    "........|.\n",
    "..........\n",
    ".........\\\n",
    "..../.\\\\..\n",
    ".-.-/..|..\n",
    ".|....-|.\\\n",
    "..//.|....\n",
    "```\n",
    "The beam enters in the top-left corner from the left and heading to the right. Then, its behavior depends on what it encounters as it moves:\n",
    "\n",
    "- If the beam encounters empty space (.), it continues in the same direction.\n",
    "- If the beam encounters a mirror (/ or \\), the beam is reflected 90 degrees depending on the angle of the mirror. For instance, a rightward-moving beam that encounters a / mirror would continue upward in the mirror's column, while a rightward-moving beam that encounters a \\ mirror would continue downward from the mirror's column.\n",
    "- If the beam encounters the pointy end of a splitter (| or -), the beam passes through the splitter as if the splitter were empty space. For instance, a rightward-moving beam that encounters a - splitter would continue in the same direction.\n",
    "- If the beam encounters the flat side of a splitter (| or -), the beam is split into two beams going in each of the two directions the splitter's pointy ends are pointing. For instance, a rightward-moving beam that encounters a | splitter would split into two beams: one that continues upward from the splitter's column and one that continues downward from the splitter's column.\n",
    "- Beams do not interact with other beams; a tile can have many beams passing through it at the same time. A tile is energized if that tile has at least one beam pass through it, reflect in it, or split in it.\n",
    "\n",
    "In the above example, here is how the beam of light bounces around the contraption:\n",
    "\n",
    "```\n",
    ">|<<<\\....\n",
    "|v-.\\^....\n",
    ".v...|->>>\n",
    ".v...v^.|.\n",
    ".v...v^...\n",
    ".v...v^..\\\n",
    ".v../2\\\\..\n",
    "<->-/vv|..\n",
    ".|<<<2-|.\\\n",
    ".v//.|.v..\n",
    "```\n",
    "Beams are only shown on empty tiles; arrows indicate the direction of the beams. If a tile contains beams moving in multiple directions, the number of distinct directions is shown instead. Here is the same diagram but instead only showing whether a tile is energized (#) or not (.):\n",
    "\n",
    "```\n",
    "######....\n",
    ".#...#....\n",
    ".#...#####\n",
    ".#...##...\n",
    ".#...##...\n",
    ".#...##...\n",
    ".#..####..\n",
    "########..\n",
    ".#######..\n",
    ".#...#.#..\n",
    "```\n",
    "Ultimately, in this example, 46 tiles become energized.\n",
    "\n",
    "The light isn't energizing enough tiles to produce lava; to debug the contraption, you need to start by analyzing the current situation. With the beam starting in the top-left heading right, how many tiles end up being energized?"
   ]
  },
  {
   "cell_type": "code",
   "execution_count": 95,
   "metadata": {},
   "outputs": [
    {
     "data": {
      "image/png": "[encoded data removed]",
      "text/plain": [
       "<Figure size 200x200 with 1 Axes>"
      ]
     },
     "metadata": {},
     "output_type": "display_data"
    },
    {
     "name": "stdout",
     "output_type": "stream",
     "text": [
      "current_position=(0, 0) -R-> to_position=(0, 1) (R)\n",
      "\tnext_moves=[((1, 1), 'D')]\n"
     ]
    },
    {
     "data": {
      "image/png": "[encoded data removed]",
      "text/plain": [
       "<Figure size 200x200 with 1 Axes>"
      ]
     },
     "metadata": {},
     "output_type": "display_data"
    },
    {
     "name": "stdout",
     "output_type": "stream",
     "text": [
      "current_position=(0, 1) -R-> to_position=(1, 1) (D)\n",
      "\tnext_moves=[((2, 1), 'D')]\n"
     ]
    },
    {
     "data": {
      "image/png": "[encoded data removed]",
      "text/plain": [
       "<Figure size 200x200 with 1 Axes>"
      ]
     },
     "metadata": {},
     "output_type": "display_data"
    },
    {
     "name": "stdout",
     "output_type": "stream",
     "text": [
      "current_position=(1, 1) -D-> to_position=(2, 1) (D)\n",
      "\tnext_moves=[((3, 1), 'D')]\n"
     ]
    },
    {
     "data": {
      "image/png": "[encoded data removed]",
      "text/plain": [
       "<Figure size 200x200 with 1 Axes>"
      ]
     },
     "metadata": {},
     "output_type": "display_data"
    },
    {
     "name": "stdout",
     "output_type": "stream",
     "text": [
      "current_position=(2, 1) -D-> to_position=(3, 1) (D)\n",
      "\tnext_moves=[((4, 1), 'D')]\n"
     ]
    },
    {
     "data": {
      "image/png": "[encoded data removed]",
      "text/plain": [
       "<Figure size 200x200 with 1 Axes>"
      ]
     },
     "metadata": {},
     "output_type": "display_data"
    },
    {
     "name": "stdout",
     "output_type": "stream",
     "text": [
      "current_position=(3, 1) -D-> to_position=(4, 1) (D)\n",
      "\tnext_moves=[((5, 1), 'D')]\n"
     ]
    },
    {
     "data": {
      "image/png": "[encoded data removed]",
      "text/plain": [
       "<Figure size 200x200 with 1 Axes>"
      ]
     },
     "metadata": {},
     "output_type": "display_data"
    },
    {
     "name": "stdout",
     "output_type": "stream",
     "text": [
      "current_position=(4, 1) -D-> to_position=(5, 1) (D)\n",
      "\tnext_moves=[((6, 1), 'D')]\n"
     ]
    },
    {
     "data": {
      "image/png": "[encoded data removed]",
      "text/plain": [
       "<Figure size 200x200 with 1 Axes>"
      ]
     },
     "metadata": {},
     "output_type": "display_data"
    },
    {
     "name": "stdout",
     "output_type": "stream",
     "text": [
      "current_position=(5, 1) -D-> to_position=(6, 1) (D)\n",
      "\tnext_moves=[((7, 1), 'D')]\n"
     ]
    },
    {
     "data": {
      "image/png": "[encoded data removed]",
      "text/plain": [
       "<Figure size 200x200 with 1 Axes>"
      ]
     },
     "metadata": {},
     "output_type": "display_data"
    },
    {
     "name": "stdout",
     "output_type": "stream",
     "text": [
      "current_position=(6, 1) -D-> to_position=(7, 1) (D)\n",
      "\tnext_moves=[((7, 0), 'L'), ((7, 2), 'R')]\n"
     ]
    },
    {
     "data": {
      "image/png": "[encoded data removed]",
      "text/plain": [
       "<Figure size 200x200 with 1 Axes>"
      ]
     },
     "metadata": {},
     "output_type": "display_data"
    },
    {
     "name": "stdout",
     "output_type": "stream",
     "text": [
      "current_position=(7, 1) -D-> to_position=(7, 0) (L)\n"
     ]
    },
    {
     "data": {
      "image/png": "[encoded data removed]",
      "text/plain": [
       "<Figure size 200x200 with 1 Axes>"
      ]
     },
     "metadata": {},
     "output_type": "display_data"
    },
    {
     "name": "stdout",
     "output_type": "stream",
     "text": [
      "current_position=(7, 0) -L-> to_position=(7, 2) (R)\n",
      "\tnext_moves=[((7, 3), 'R')]\n"
     ]
    },
    {
     "data": {
      "image/png": "[encoded data removed]",
      "text/plain": [
       "<Figure size 200x200 with 1 Axes>"
      ]
     },
     "metadata": {},
     "output_type": "display_data"
    },
    {
     "name": "stdout",
     "output_type": "stream",
     "text": [
      "current_position=(7, 2) -R-> to_position=(7, 3) (R)\n",
      "\tnext_moves=[((7, 4), 'R')]\n"
     ]
    },
    {
     "data": {
      "image/png": "[encoded data removed]",
      "text/plain": [
       "<Figure size 200x200 with 1 Axes>"
      ]
     },
     "metadata": {},
     "output_type": "display_data"
    },
    {
     "name": "stdout",
     "output_type": "stream",
     "text": [
      "current_position=(7, 3) -R-> to_position=(7, 4) (R)\n",
      "\tnext_moves=[((6, 4), 'U')]\n"
     ]
    },
    {
     "data": {
      "image/png": "[encoded data removed]",
      "text/plain": [
       "<Figure size 200x200 with 1 Axes>"
      ]
     },
     "metadata": {},
     "output_type": "display_data"
    },
    {
     "name": "stdout",
     "output_type": "stream",
     "text": [
      "current_position=(7, 4) -R-> to_position=(6, 4) (U)\n",
      "\tnext_moves=[((6, 5), 'R')]\n"
     ]
    },
    {
     "data": {
      "image/png": "[encoded data removed]",
      "text/plain": [
       "<Figure size 200x200 with 1 Axes>"
      ]
     },
     "metadata": {},
     "output_type": "display_data"
    },
    {
     "name": "stdout",
     "output_type": "stream",
     "text": [
      "current_position=(6, 4) -U-> to_position=(6, 5) (R)\n",
      "\tnext_moves=[((6, 6), 'R')]\n"
     ]
    },
    {
     "data": {
      "image/png": "[encoded data removed]",
      "text/plain": [
       "<Figure size 200x200 with 1 Axes>"
      ]
     },
     "metadata": {},
     "output_type": "display_data"
    },
    {
     "name": "stdout",
     "output_type": "stream",
     "text": [
      "current_position=(6, 5) -R-> to_position=(6, 6) (R)\n",
      "\tnext_moves=[((7, 6), 'D')]\n"
     ]
    },
    {
     "data": {
      "image/png": "[encoded data removed]",
      "text/plain": [
       "<Figure size 200x200 with 1 Axes>"
      ]
     },
     "metadata": {},
     "output_type": "display_data"
    },
    {
     "name": "stdout",
     "output_type": "stream",
     "text": [
      "current_position=(6, 6) -R-> to_position=(7, 6) (D)\n",
      "\tnext_moves=[((8, 6), 'D')]\n"
     ]
    },
    {
     "data": {
      "image/png": "[encoded data removed]",
      "text/plain": [
       "<Figure size 200x200 with 1 Axes>"
      ]
     },
     "metadata": {},
     "output_type": "display_data"
    },
    {
     "name": "stdout",
     "output_type": "stream",
     "text": [
      "current_position=(7, 6) -D-> to_position=(8, 6) (D)\n",
      "\tnext_moves=[((8, 5), 'L'), ((8, 7), 'R')]\n"
     ]
    },
    {
     "data": {
      "image/png": "[encoded data removed]",
      "text/plain": [
       "<Figure size 200x200 with 1 Axes>"
      ]
     },
     "metadata": {},
     "output_type": "display_data"
    },
    {
     "name": "stdout",
     "output_type": "stream",
     "text": [
      "current_position=(8, 6) -D-> to_position=(8, 5) (L)\n"
     ]
    },
    {
     "data": {
      "image/png": "[encoded data removed]",
      "text/plain": [
       "<Figure size 200x200 with 1 Axes>"
      ]
     },
     "metadata": {},
     "output_type": "display_data"
    },
    {
     "name": "stdout",
     "output_type": "stream",
     "text": [
      "current_position=(8, 5) -L-> to_position=(8, 7) (R)\n",
      "\tnext_moves=[((8, 4), 'L'), ((7, 7), 'U'), ((9, 7), 'D')]\n"
     ]
    },
    {
     "data": {
      "image/png": "[encoded data removed]",
      "text/plain": [
       "<Figure size 200x200 with 1 Axes>"
      ]
     },
     "metadata": {},
     "output_type": "display_data"
    },
    {
     "name": "stdout",
     "output_type": "stream",
     "text": [
      "current_position=(8, 7) -R-> to_position=(8, 4) (L)\n"
     ]
    },
    {
     "data": {
      "image/png": "[encoded data removed]",
      "text/plain": [
       "<Figure size 200x200 with 1 Axes>"
      ]
     },
     "metadata": {},
     "output_type": "display_data"
    },
    {
     "name": "stdout",
     "output_type": "stream",
     "text": [
      "current_position=(8, 4) -L-> to_position=(7, 7) (U)\n"
     ]
    },
    {
     "data": {
      "image/png": "[encoded data removed]",
      "text/plain": [
       "<Figure size 200x200 with 1 Axes>"
      ]
     },
     "metadata": {},
     "output_type": "display_data"
    },
    {
     "name": "stdout",
     "output_type": "stream",
     "text": [
      "current_position=(7, 7) -U-> to_position=(9, 7) (D)\n",
      "\tnext_moves=[((8, 3), 'L'), ((6, 7), 'U')]\n"
     ]
    },
    {
     "data": {
      "image/png": "[encoded data removed]",
      "text/plain": [
       "<Figure size 200x200 with 1 Axes>"
      ]
     },
     "metadata": {},
     "output_type": "display_data"
    },
    {
     "name": "stdout",
     "output_type": "stream",
     "text": [
      "current_position=(9, 7) -D-> to_position=(8, 3) (L)\n"
     ]
    },
    {
     "data": {
      "image/png": "[encoded data removed]",
      "text/plain": [
       "<Figure size 200x200 with 1 Axes>"
      ]
     },
     "metadata": {},
     "output_type": "display_data"
    },
    {
     "name": "stdout",
     "output_type": "stream",
     "text": [
      "current_position=(8, 3) -L-> to_position=(6, 7) (U)\n",
      "\tnext_moves=[((8, 2), 'L'), ((6, 6), 'L')]\n"
     ]
    },
    {
     "data": {
      "image/png": "[encoded data removed]",
      "text/plain": [
       "<Figure size 200x200 with 1 Axes>"
      ]
     },
     "metadata": {},
     "output_type": "display_data"
    },
    {
     "name": "stdout",
     "output_type": "stream",
     "text": [
      "current_position=(6, 7) -U-> to_position=(8, 2) (L)\n"
     ]
    },
    {
     "data": {
      "image/png": "[encoded data removed]",
      "text/plain": [
       "<Figure size 200x200 with 1 Axes>"
      ]
     },
     "metadata": {},
     "output_type": "display_data"
    },
    {
     "name": "stdout",
     "output_type": "stream",
     "text": [
      "current_position=(8, 2) -L-> to_position=(6, 6) (L)\n",
      "\tnext_moves=[((8, 1), 'L'), ((5, 6), 'U')]\n"
     ]
    },
    {
     "data": {
      "image/png": "[encoded data removed]",
      "text/plain": [
       "<Figure size 200x200 with 1 Axes>"
      ]
     },
     "metadata": {},
     "output_type": "display_data"
    },
    {
     "name": "stdout",
     "output_type": "stream",
     "text": [
      "current_position=(6, 6) -L-> to_position=(8, 1) (L)\n"
     ]
    },
    {
     "data": {
      "image/png": "[encoded data removed]",
      "text/plain": [
       "<Figure size 200x200 with 1 Axes>"
      ]
     },
     "metadata": {},
     "output_type": "display_data"
    },
    {
     "name": "stdout",
     "output_type": "stream",
     "text": [
      "current_position=(8, 1) -L-> to_position=(5, 6) (U)\n",
      "\tnext_moves=[((7, 1), 'U'), ((9, 1), 'D'), ((4, 6), 'U')]\n"
     ]
    },
    {
     "data": {
      "image/png": "[encoded data removed]",
      "text/plain": [
       "<Figure size 200x200 with 1 Axes>"
      ]
     },
     "metadata": {},
     "output_type": "display_data"
    },
    {
     "name": "stdout",
     "output_type": "stream",
     "text": [
      "current_position=(5, 6) -U-> to_position=(7, 1) (U)\n"
     ]
    },
    {
     "data": {
      "image/png": "[encoded data removed]",
      "text/plain": [
       "<Figure size 200x200 with 1 Axes>"
      ]
     },
     "metadata": {},
     "output_type": "display_data"
    },
    {
     "name": "stdout",
     "output_type": "stream",
     "text": [
      "current_position=(7, 1) -U-> to_position=(9, 1) (D)\n"
     ]
    },
    {
     "data": {
      "image/png": "[encoded data removed]",
      "text/plain": [
       "<Figure size 200x200 with 1 Axes>"
      ]
     },
     "metadata": {},
     "output_type": "display_data"
    },
    {
     "name": "stdout",
     "output_type": "stream",
     "text": [
      "current_position=(9, 1) -D-> to_position=(4, 6) (U)\n",
      "\tnext_moves=[((7, 0), 'L'), ((7, 2), 'R'), ((3, 6), 'U')]\n"
     ]
    },
    {
     "data": {
      "image/png": "[encoded data removed]",
      "text/plain": [
       "<Figure size 200x200 with 1 Axes>"
      ]
     },
     "metadata": {},
     "output_type": "display_data"
    },
    {
     "name": "stdout",
     "output_type": "stream",
     "text": [
      "current_position=(4, 6) -U-> to_position=(7, 0) (L)\n"
     ]
    },
    {
     "data": {
      "image/png": "[encoded data removed]",
      "text/plain": [
       "<Figure size 200x200 with 1 Axes>"
      ]
     },
     "metadata": {},
     "output_type": "display_data"
    },
    {
     "name": "stdout",
     "output_type": "stream",
     "text": [
      "current_position=(4, 6) -U-> to_position=(7, 2) (R)\n"
     ]
    },
    {
     "data": {
      "image/png": "[encoded data removed]",
      "text/plain": [
       "<Figure size 200x200 with 1 Axes>"
      ]
     },
     "metadata": {},
     "output_type": "display_data"
    },
    {
     "name": "stdout",
     "output_type": "stream",
     "text": [
      "current_position=(4, 6) -U-> to_position=(3, 6) (U)\n",
      "\tnext_moves=[((2, 6), 'U')]\n"
     ]
    },
    {
     "data": {
      "image/png": "[encoded data removed]",
      "text/plain": [
       "<Figure size 200x200 with 1 Axes>"
      ]
     },
     "metadata": {},
     "output_type": "display_data"
    },
    {
     "name": "stdout",
     "output_type": "stream",
     "text": [
      "current_position=(3, 6) -U-> to_position=(2, 6) (U)\n",
      "\tnext_moves=[((2, 5), 'L'), ((2, 7), 'R')]\n"
     ]
    },
    {
     "data": {
      "image/png": "[encoded data removed]",
      "text/plain": [
       "<Figure size 200x200 with 1 Axes>"
      ]
     },
     "metadata": {},
     "output_type": "display_data"
    },
    {
     "name": "stdout",
     "output_type": "stream",
     "text": [
      "current_position=(2, 6) -U-> to_position=(2, 5) (L)\n"
     ]
    },
    {
     "data": {
      "image/png": "[encoded data removed]",
      "text/plain": [
       "<Figure size 200x200 with 1 Axes>"
      ]
     },
     "metadata": {},
     "output_type": "display_data"
    },
    {
     "name": "stdout",
     "output_type": "stream",
     "text": [
      "current_position=(2, 5) -L-> to_position=(2, 7) (R)\n",
      "\tnext_moves=[((1, 5), 'U'), ((3, 5), 'D'), ((2, 8), 'R')]\n"
     ]
    },
    {
     "data": {
      "image/png": "[encoded data removed]",
      "text/plain": [
       "<Figure size 200x200 with 1 Axes>"
      ]
     },
     "metadata": {},
     "output_type": "display_data"
    },
    {
     "name": "stdout",
     "output_type": "stream",
     "text": [
      "current_position=(2, 7) -R-> to_position=(1, 5) (U)\n"
     ]
    },
    {
     "data": {
      "image/png": "[encoded data removed]",
      "text/plain": [
       "<Figure size 200x200 with 1 Axes>"
      ]
     },
     "metadata": {},
     "output_type": "display_data"
    },
    {
     "name": "stdout",
     "output_type": "stream",
     "text": [
      "current_position=(1, 5) -U-> to_position=(3, 5) (D)\n"
     ]
    },
    {
     "data": {
      "image/png": "[encoded data removed]",
      "text/plain": [
       "<Figure size 200x200 with 1 Axes>"
      ]
     },
     "metadata": {},
     "output_type": "display_data"
    },
    {
     "name": "stdout",
     "output_type": "stream",
     "text": [
      "current_position=(3, 5) -D-> to_position=(2, 8) (R)\n",
      "\tnext_moves=[((0, 5), 'U'), ((4, 5), 'D'), ((2, 9), 'R')]\n"
     ]
    },
    {
     "data": {
      "image/png": "[encoded data removed]",
      "text/plain": [
       "<Figure size 200x200 with 1 Axes>"
      ]
     },
     "metadata": {},
     "output_type": "display_data"
    },
    {
     "name": "stdout",
     "output_type": "stream",
     "text": [
      "current_position=(2, 8) -R-> to_position=(0, 5) (U)\n"
     ]
    },
    {
     "data": {
      "image/png": "[encoded data removed]",
      "text/plain": [
       "<Figure size 200x200 with 1 Axes>"
      ]
     },
     "metadata": {},
     "output_type": "display_data"
    },
    {
     "name": "stdout",
     "output_type": "stream",
     "text": [
      "current_position=(0, 5) -U-> to_position=(4, 5) (D)\n"
     ]
    },
    {
     "data": {
      "image/png": "[encoded data removed]",
      "text/plain": [
       "<Figure size 200x200 with 1 Axes>"
      ]
     },
     "metadata": {},
     "output_type": "display_data"
    },
    {
     "name": "stdout",
     "output_type": "stream",
     "text": [
      "current_position=(4, 5) -D-> to_position=(2, 9) (R)\n",
      "\tnext_moves=[((0, 4), 'L'), ((5, 5), 'D')]\n"
     ]
    },
    {
     "data": {
      "image/png": "[encoded data removed]",
      "text/plain": [
       "<Figure size 200x200 with 1 Axes>"
      ]
     },
     "metadata": {},
     "output_type": "display_data"
    },
    {
     "name": "stdout",
     "output_type": "stream",
     "text": [
      "current_position=(2, 9) -R-> to_position=(0, 4) (L)\n"
     ]
    },
    {
     "data": {
      "image/png": "[encoded data removed]",
      "text/plain": [
       "<Figure size 200x200 with 1 Axes>"
      ]
     },
     "metadata": {},
     "output_type": "display_data"
    },
    {
     "name": "stdout",
     "output_type": "stream",
     "text": [
      "current_position=(0, 4) -L-> to_position=(5, 5) (D)\n",
      "\tnext_moves=[((0, 3), 'L'), ((6, 5), 'D')]\n"
     ]
    },
    {
     "data": {
      "image/png": "[encoded data removed]",
      "text/plain": [
       "<Figure size 200x200 with 1 Axes>"
      ]
     },
     "metadata": {},
     "output_type": "display_data"
    },
    {
     "name": "stdout",
     "output_type": "stream",
     "text": [
      "current_position=(5, 5) -D-> to_position=(0, 3) (L)\n"
     ]
    },
    {
     "data": {
      "image/png": "[encoded data removed]",
      "text/plain": [
       "<Figure size 200x200 with 1 Axes>"
      ]
     },
     "metadata": {},
     "output_type": "display_data"
    },
    {
     "name": "stdout",
     "output_type": "stream",
     "text": [
      "current_position=(0, 3) -L-> to_position=(6, 5) (D)\n",
      "\tnext_moves=[((0, 2), 'L'), ((7, 5), 'D')]\n"
     ]
    },
    {
     "data": {
      "image/png": "[encoded data removed]",
      "text/plain": [
       "<Figure size 200x200 with 1 Axes>"
      ]
     },
     "metadata": {},
     "output_type": "display_data"
    },
    {
     "name": "stdout",
     "output_type": "stream",
     "text": [
      "current_position=(6, 5) -D-> to_position=(0, 2) (L)\n"
     ]
    },
    {
     "data": {
      "image/png": "[encoded data removed]",
      "text/plain": [
       "<Figure size 200x200 with 1 Axes>"
      ]
     },
     "metadata": {},
     "output_type": "display_data"
    },
    {
     "name": "stdout",
     "output_type": "stream",
     "text": [
      "current_position=(0, 2) -L-> to_position=(7, 5) (D)\n",
      "\tnext_moves=[((0, 1), 'L'), ((8, 5), 'D')]\n"
     ]
    },
    {
     "data": {
      "image/png": "[encoded data removed]",
      "text/plain": [
       "<Figure size 200x200 with 1 Axes>"
      ]
     },
     "metadata": {},
     "output_type": "display_data"
    },
    {
     "name": "stdout",
     "output_type": "stream",
     "text": [
      "current_position=(7, 5) -D-> to_position=(0, 1) (L)\n"
     ]
    },
    {
     "data": {
      "image/png": "[encoded data removed]",
      "text/plain": [
       "<Figure size 200x200 with 1 Axes>"
      ]
     },
     "metadata": {},
     "output_type": "display_data"
    },
    {
     "name": "stdout",
     "output_type": "stream",
     "text": [
      "current_position=(0, 1) -L-> to_position=(8, 5) (D)\n",
      "\tnext_moves=[((1, 1), 'D'), ((9, 5), 'D')]\n"
     ]
    },
    {
     "data": {
      "image/png": "[encoded data removed]",
      "text/plain": [
       "<Figure size 200x200 with 1 Axes>"
      ]
     },
     "metadata": {},
     "output_type": "display_data"
    },
    {
     "name": "stdout",
     "output_type": "stream",
     "text": [
      "current_position=(8, 5) -D-> to_position=(1, 1) (D)\n"
     ]
    },
    {
     "data": {
      "image/png": "[encoded data removed]",
      "text/plain": [
       "<Figure size 200x200 with 1 Axes>"
      ]
     },
     "metadata": {},
     "output_type": "display_data"
    },
    {
     "name": "stdout",
     "output_type": "stream",
     "text": [
      "current_position=(8, 5) -D-> to_position=(9, 5) (D)\n",
      "\tnext_moves=[]\n"
     ]
    },
    {
     "data": {
      "text/plain": [
       "46"
      ]
     },
     "execution_count": 95,
     "metadata": {},
     "output_type": "execute_result"
    }
   ],
   "source": [
    "import matplotlib.pyplot as plt\n",
    "\n",
    "\n",
    "class BeamMap:\n",
    "    def __init__(self, input_string: str):\n",
    "        self.grid = self.generate_map(input_string)\n",
    "        self.steps_taken: list[tuple[tuple[int, int], str]] = []\n",
    "\n",
    "    def plot_map(self, position: tuple[int, int], direction: str) -> None:\n",
    "        direction_markers = {\"L\": \"<\", \"R\": \">\", \"U\": \"^\", \"D\": \"v\"}\n",
    "        ground_markers = {\".\": \" \", \"|\": \"|\", \"-\": \"_\"}\n",
    "\n",
    "        fig, ax = plt.subplots(figsize=(len(self.grid) // 5, len(self.grid[0]) // 5))\n",
    "        for y, column in enumerate(self.grid):\n",
    "            for x, row_value in enumerate(column):\n",
    "                color = \"#555\"\n",
    "                marker = ground_markers.get(row_value)\n",
    "                # reverse y axis\n",
    "                if marker:\n",
    "                    ax.scatter([x], [-y], color=color, marker=marker)\n",
    "                elif row_value == \"/\":\n",
    "                    ax.plot([x - 0.25, x + 0.25], [-y - 0.25, -y + 0.25], color=color)\n",
    "                elif row_value == \"\\\\\":\n",
    "                    ax.plot([x - 0.25, x + 0.25], [-y + 0.25, -y - 0.25], color=color)\n",
    "\n",
    "                # plot beam positions and current position/direction\n",
    "                if (y, x) == position:\n",
    "                    # triangle pointing toward the current direction\n",
    "                    marker = direction_markers[direction]\n",
    "                    color = \"#ff000055\"\n",
    "                    ax.scatter([x], [-y], color=color, marker=marker)\n",
    "                elif (y, x) in self.beam_positions:\n",
    "                    marker = \"s\"\n",
    "                    color = \"#ff000055\"\n",
    "                    ax.scatter([x], [-y], color=color, marker=marker)\n",
    "\n",
    "        ax.set_title(\"\")\n",
    "        ax.set_xlabel(\"\")\n",
    "        ax.set_ylabel(\"\")\n",
    "        ax.set_xticks([])\n",
    "        ax.set_yticks([])\n",
    "        ax.spines[\"top\"].set_visible(False)\n",
    "        ax.spines[\"right\"].set_visible(False)\n",
    "        ax.spines[\"bottom\"].set_visible(False)\n",
    "        ax.spines[\"left\"].set_visible(False)\n",
    "\n",
    "        plt.tight_layout()\n",
    "        plt.axis(\"equal\")\n",
    "        plt.show()\n",
    "\n",
    "    def generate_map(self, input_string: str) -> list[list[str]]:\n",
    "        return [list(line) for line in input_string.splitlines()]\n",
    "\n",
    "    def grid_value(self, position: tuple[int, int]) -> str:\n",
    "        y, x = position\n",
    "        return self.grid[y][x]\n",
    "\n",
    "    @property\n",
    "    def beam_positions(self) -> set[tuple[int, int]]:\n",
    "        return set([position for position, _ in self.steps_taken])\n",
    "\n",
    "    def left_position(self, position: tuple[int, int]) -> tuple[int, int] | None:\n",
    "        if self.at_left_column(position):\n",
    "            return None\n",
    "        y, x = position\n",
    "        return (y, x - 1)\n",
    "\n",
    "    def right_position(self, position: tuple[int, int]) -> tuple[int, int] | None:\n",
    "        if self.at_right_column(position):\n",
    "            return None\n",
    "        y, x = position\n",
    "        return (y, x + 1)\n",
    "\n",
    "    def up_position(self, position: tuple[int, int]) -> tuple[int, int] | None:\n",
    "        if self.at_top_row(position):\n",
    "            return None\n",
    "        y, x = position\n",
    "        return (y - 1, x)\n",
    "\n",
    "    def down_position(self, position: tuple[int, int]) -> tuple[int, int] | None:\n",
    "        if self.at_bottom_row(position):\n",
    "            return None\n",
    "        y, x = position\n",
    "        return (y + 1, x)\n",
    "\n",
    "    def at_top_row(self, position: tuple[int, int]) -> bool:\n",
    "        return position[0] == 0\n",
    "\n",
    "    def at_bottom_row(self, position: tuple[int, int]) -> bool:\n",
    "        return position[0] == len(self.grid) - 1\n",
    "\n",
    "    def at_left_column(self, position: tuple[int, int]) -> bool:\n",
    "        return position[1] == 0\n",
    "\n",
    "    def at_right_column(self, position: tuple[int, int]) -> bool:\n",
    "        return position[1] == len(self.grid[position[0]]) - 1\n",
    "\n",
    "    def available_moves(\n",
    "        self,\n",
    "        from_position: tuple[int, int],\n",
    "        direction: str,\n",
    "    ) -> list[tuple[tuple[int, int], str]]:\n",
    "        position_value = self.grid_value(from_position)\n",
    "\n",
    "        moves = []\n",
    "        if position_value == \"|\":\n",
    "            if direction in [\"L\", \"R\"]:\n",
    "                # split into two vertical moves\n",
    "                if up := self.up_position(from_position):\n",
    "                    moves.append((up, \"U\"))\n",
    "                if down := self.down_position(from_position):\n",
    "                    moves.append((down, \"D\"))\n",
    "            elif direction == \"U\":\n",
    "                # pass through\n",
    "                if up := self.up_position(from_position):\n",
    "                    moves.append((up, \"U\"))\n",
    "            elif direction == \"D\":\n",
    "                # pass through\n",
    "                if down := self.down_position(from_position):\n",
    "                    moves.append((down, \"D\"))\n",
    "\n",
    "        elif position_value == \"-\":\n",
    "            if direction in [\"U\", \"D\"]:\n",
    "                # split into two horizontal moves\n",
    "                if left := self.left_position(from_position):\n",
    "                    moves.append((left, \"L\"))\n",
    "                if right := self.right_position(from_position):\n",
    "                    moves.append((right, \"R\"))\n",
    "            elif direction == \"L\":\n",
    "                # pass through\n",
    "                if left := self.left_position(from_position):\n",
    "                    moves.append((left, \"L\"))\n",
    "            elif direction == \"R\":\n",
    "                # pass through\n",
    "                if right := self.right_position(from_position):\n",
    "                    moves.append((right, \"R\"))\n",
    "\n",
    "        elif position_value == \"/\":\n",
    "            if direction == \"U\":\n",
    "                if right := self.right_position(from_position):\n",
    "                    moves.append((right, \"R\"))\n",
    "            elif direction == \"R\":\n",
    "                if up := self.up_position(from_position):\n",
    "                    moves.append((up, \"U\"))\n",
    "            elif direction == \"D\":\n",
    "                if left := self.left_position(from_position):\n",
    "                    moves.append((left, \"L\"))\n",
    "            elif direction == \"L\":\n",
    "                if down := self.down_position(from_position):\n",
    "                    moves.append((down, \"D\"))\n",
    "\n",
    "        elif position_value == \"\\\\\":\n",
    "            if direction == \"U\":\n",
    "                if left := self.left_position(from_position):\n",
    "                    moves.append((left, \"L\"))\n",
    "            elif direction == \"L\":\n",
    "                if up := self.up_position(from_position):\n",
    "                    moves.append((up, \"U\"))\n",
    "            elif direction == \"D\":\n",
    "                if right := self.right_position(from_position):\n",
    "                    moves.append((right, \"R\"))\n",
    "            elif direction == \"R\":\n",
    "                if down := self.down_position(from_position):\n",
    "                    moves.append((down, \"D\"))\n",
    "\n",
    "        else:\n",
    "            # regular ground, no adjustments\n",
    "            if direction == \"U\":\n",
    "                if up := self.up_position(from_position):\n",
    "                    moves.append((up, direction))\n",
    "            elif direction == \"L\":\n",
    "                if left := self.left_position(from_position):\n",
    "                    moves.append((left, direction))\n",
    "            elif direction == \"D\":\n",
    "                if down := self.down_position(from_position):\n",
    "                    moves.append((down, direction))\n",
    "            elif direction == \"R\":\n",
    "                if right := self.right_position(from_position):\n",
    "                    moves.append((right, direction))\n",
    "\n",
    "        return moves\n",
    "\n",
    "    def move(\n",
    "        self,\n",
    "        from_position: tuple[int, int],\n",
    "        direction: str,\n",
    "        plot: bool = True,\n",
    "        debug: bool = True,\n",
    "    ) -> int:\n",
    "        self.steps_taken.append((from_position, direction))\n",
    "\n",
    "        current_position = from_position\n",
    "        current_direction = direction\n",
    "\n",
    "        available_moves = self.available_moves(from_position, direction)\n",
    "        while available_moves:\n",
    "            next_moves = []\n",
    "            for to_position, new_direction in available_moves:\n",
    "                if plot:\n",
    "                    self.plot_map(current_position, current_direction)\n",
    "                if debug:\n",
    "                    print(\n",
    "                        f\"{current_position=} -{current_direction}-> {to_position=} ({new_direction})\"\n",
    "                    )\n",
    "\n",
    "                if to_position is None:\n",
    "                    continue\n",
    "\n",
    "                if (to_position, new_direction) in self.steps_taken:\n",
    "                    continue\n",
    "\n",
    "                self.steps_taken.append((to_position, new_direction))\n",
    "                current_position = to_position\n",
    "                current_direction = new_direction\n",
    "\n",
    "                next_moves += self.available_moves(to_position, new_direction)\n",
    "            if debug:\n",
    "                print(f\"\\t{next_moves=}\")\n",
    "            available_moves = next_moves\n",
    "\n",
    "        return len(self.beam_positions)\n",
    "\n",
    "\n",
    "test_input = open(\"../inputs/16_test.txt\").read()\n",
    "test_beam_map = BeamMap(test_input)\n",
    "test_beam_map.move(\n",
    "    from_position=(0, 0),\n",
    "    direction=\"R\",\n",
    ")"
   ]
  },
  {
   "cell_type": "code",
   "execution_count": 96,
   "metadata": {},
   "outputs": [
    {
     "data": {
      "text/plain": [
       "8323"
      ]
     },
     "execution_count": 96,
     "metadata": {},
     "output_type": "execute_result"
    }
   ],
   "source": [
    "input_string = open(\"../inputs/16.txt\").read()\n",
    "beam_map = BeamMap(input_string)\n",
    "beam_map.move(from_position=(0, 0), direction=\"R\", plot=False, debug=False)"
   ]
  },
  {
   "cell_type": "markdown",
   "metadata": {},
   "source": [
    "## Part 2\n",
    "\n",
    "As you try to work out what might be wrong, the reindeer tugs on your shirt and leads you to a nearby control panel. There, a collection of buttons lets you align the contraption so that the beam enters from any edge tile and heading away from that edge. (You can choose either of two directions for the beam if it starts on a corner; for instance, if the beam starts in the bottom-right corner, it can start heading either left or upward.)\n",
    "\n",
    "So, the beam could start on any tile in the top row (heading downward), any tile in the bottom row (heading upward), any tile in the leftmost column (heading right), or any tile in the rightmost column (heading left). To produce lava, you need to find the configuration that energizes as many tiles as possible.\n",
    "\n",
    "In the above example, this can be achieved by starting the beam in the fourth tile from the left in the top row:\n",
    "\n",
    "```\n",
    ".|<2<\\....\n",
    "|v-v\\^....\n",
    ".v.v.|->>>\n",
    ".v.v.v^.|.\n",
    ".v.v.v^...\n",
    ".v.v.v^..\\\n",
    ".v.v/2\\\\..\n",
    "<-2-/vv|..\n",
    ".|<<<2-|.\\\n",
    ".v//.|.v..\n",
    "```\n",
    "Using this configuration, 51 tiles are energized:\n",
    "\n",
    "```\n",
    ".#####....\n",
    ".#.#.#....\n",
    ".#.#.#####\n",
    ".#.#.##...\n",
    ".#.#.##...\n",
    ".#.#.##...\n",
    ".#.#####..\n",
    "########..\n",
    ".#######..\n",
    ".#...#.#..\n",
    "```\n",
    "Find the initial beam configuration that energizes the largest number of tiles; how many tiles are energized in that configuration?"
   ]
  },
  {
   "cell_type": "code",
   "execution_count": 87,
   "metadata": {},
   "outputs": [
    {
     "name": "stdout",
     "output_type": "stream",
     "text": [
      "direction='R'\n",
      "direction='D'\n",
      "direction='L'\n",
      "direction='U'\n"
     ]
    },
    {
     "data": {
      "text/plain": [
       "8491"
      ]
     },
     "execution_count": 87,
     "metadata": {},
     "output_type": "execute_result"
    }
   ],
   "source": [
    "from concurrent.futures import ProcessPoolExecutor, as_completed\n",
    "\n",
    "ex = ProcessPoolExecutor()\n",
    "tasks = []\n",
    "\n",
    "beam_map = BeamMap(input_string)\n",
    "\n",
    "most_tiles_energized = 0\n",
    "for direction in [\"R\", \"D\", \"L\", \"U\"]:\n",
    "    print(f\"{direction=}\")\n",
    "    if direction in [\"L\", \"R\"]:\n",
    "        col = 0 if direction == \"R\" else len(beam_map.grid[0]) - 1\n",
    "        for row in range(len(beam_map.grid)):\n",
    "            # reset progress\n",
    "            beam_map.steps_taken = []\n",
    "            task = ex.submit(\n",
    "                beam_map.move,\n",
    "                from_position=(row, col),\n",
    "                direction=direction,\n",
    "                plot=False,\n",
    "                debug=False,\n",
    "            )\n",
    "            tasks.append(task)\n",
    "    else:\n",
    "        # \"U\"/\"D\"\n",
    "        row = 0 if direction == \"D\" else len(beam_map.grid) - 1\n",
    "        for col in range(len(beam_map.grid[0])):\n",
    "            # reset progress\n",
    "            beam_map.steps_taken = []\n",
    "            task = ex.submit(\n",
    "                beam_map.move,\n",
    "                from_position=(row, col),\n",
    "                direction=direction,\n",
    "                plot=False,\n",
    "                debug=False,\n",
    "            )\n",
    "            tasks.append(task)\n",
    "\n",
    "for task in as_completed(tasks):\n",
    "    tiles_energized = task.result()\n",
    "    if tiles_energized > most_tiles_energized:\n",
    "        most_tiles_energized = tiles_energized\n",
    "ex.shutdown()\n",
    "\n",
    "most_tiles_energized"
   ]
  }
 ],
 "metadata": {
  "kernelspec": {
   "display_name": ".venv",
   "language": "python",
   "name": "python3"
  },
  "language_info": {
   "codemirror_mode": {
    "name": "ipython",
    "version": 3
   },
   "file_extension": ".py",
   "mimetype": "text/x-python",
   "name": "python",
   "nbconvert_exporter": "python",
   "pygments_lexer": "ipython3",
   "version": "3.11.5"
  }
 },
 "nbformat": 4,
 "nbformat_minor": 2
}
